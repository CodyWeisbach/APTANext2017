{
 "cells": [
  {
   "cell_type": "code",
   "execution_count": 1,
   "metadata": {
    "collapsed": false
   },
   "outputs": [],
   "source": [
    "import tweepy\n",
    "import pandas as pd\n",
    "from datetime import datetime\n",
    "import matplotlib.pyplot as plt\n",
    "pd.set_option('display.max_columns', None)"
   ]
  },
  {
   "cell_type": "code",
   "execution_count": 2,
   "metadata": {
    "collapsed": true
   },
   "outputs": [],
   "source": [
    "consumer_key = \"j93qGyPR5SxXvQSOiicDvz0kW\"\n",
    "consumer_secret = \"Gk1L6rgByfxfjyswPXfTdEcXXghZOKnTJxXe665rkj80V4xuDm\"\n",
    "\n",
    "auth = tweepy.OAuthHandler(consumer_key = consumer_key, consumer_secret = consumer_secret)\n",
    "\n",
    "api = tweepy.API(auth, wait_on_rate_limit=True)\n",
    "\n",
    "Max_Tweets = 4000"
   ]
  },
  {
   "cell_type": "markdown",
   "metadata": {},
   "source": [
    "## Data collecting up to 4000 tweets with the #APTANEXT Hashtag"
   ]
  },
  {
   "cell_type": "code",
   "execution_count": null,
   "metadata": {
    "collapsed": true
   },
   "outputs": [],
   "source": [
    "data = tweepy.Cursor(api.search, q = '#APTANEXT').items(Max_Tweets)"
   ]
  },
  {
   "cell_type": "code",
   "execution_count": 3,
   "metadata": {
    "collapsed": false
   },
   "outputs": [
    {
     "name": "stdout",
     "output_type": "stream",
     "text": [
      "1604\n"
     ]
    }
   ],
   "source": [
    "results = []\n",
    "for tweet in tweepy.Cursor(api.search, q = \"#APTANEXT\").items(Max_Tweets):\n",
    "    results.append(tweet)\n",
    "\n",
    "print len(results)"
   ]
  },
  {
   "cell_type": "markdown",
   "metadata": {},
   "source": [
    "### Showing the date and time of when the tweets were collected"
   ]
  },
  {
   "cell_type": "code",
   "execution_count": 4,
   "metadata": {
    "collapsed": false
   },
   "outputs": [
    {
     "data": {
      "text/plain": [
       "datetime.datetime(2017, 6, 22, 19, 53, 56, 847171)"
      ]
     },
     "execution_count": 4,
     "metadata": {},
     "output_type": "execute_result"
    }
   ],
   "source": [
    "datetime.now()"
   ]
  },
  {
   "cell_type": "markdown",
   "metadata": {},
   "source": [
    "### Here's what the data for a tweet looks like"
   ]
  },
  {
   "cell_type": "code",
   "execution_count": 5,
   "metadata": {
    "collapsed": false
   },
   "outputs": [
    {
     "name": "stdout",
     "output_type": "stream",
     "text": [
      "Status(contributors=None, truncated=False, text=u'RT @APTASA: \"It is no longer acceptable to consider skeletal muscle as a mere force vector.\" #APTANEXT #BeBold @APTAtweets @APTAnext https:\\u2026', is_quote_status=False, in_reply_to_status_id=None, id=878067864380592132, favorite_count=0, _api=<tweepy.api.API object at 0x10d519890>, author=User(follow_request_sent=None, has_extended_profile=True, profile_use_background_image=True, _json={u'follow_request_sent': None, u'has_extended_profile': True, u'profile_use_background_image': True, u'default_profile_image': False, u'id': 344807523, u'profile_background_image_url_https': u'https://pbs.twimg.com/profile_background_images/458378833482088448/TILg3l0G.jpeg', u'verified': False, u'translator_type': u'none', u'profile_text_color': u'333333', u'profile_image_url_https': u'https://pbs.twimg.com/profile_images/728060429788950528/p1ODevik_normal.jpg', u'profile_sidebar_fill_color': u'F6F6F6', u'entities': {u'url': {u'urls': [{u'url': u'https://t.co/kokSZrEyzt', u'indices': [0, 23], u'expanded_url': u'http://www.linkedin.com/in/ashleywill25', u'display_url': u'linkedin.com/in/ashleywill25'}]}, u'description': {u'urls': []}}, u'followers_count': 315, u'profile_sidebar_border_color': u'FFFFFF', u'id_str': u'344807523', u'profile_background_color': u'ACDED6', u'listed_count': 9, u'is_translation_enabled': False, u'utc_offset': -10800, u'statuses_count': 7103, u'description': u'Boston University DPT Student. Vegan. Powerlifter. Cheerleader. Personal Trainer. Avocado Lover.\\n#GetPT1st #ChoosePT', u'friends_count': 293, u'location': u'Boston, MA', u'profile_link_color': u'F58EA8', u'profile_image_url': u'http://pbs.twimg.com/profile_images/728060429788950528/p1ODevik_normal.jpg', u'following': None, u'geo_enabled': True, u'profile_banner_url': u'https://pbs.twimg.com/profile_banners/344807523/1485563425', u'profile_background_image_url': u'http://pbs.twimg.com/profile_background_images/458378833482088448/TILg3l0G.jpeg', u'screen_name': u'AshleyWill25', u'lang': u'en', u'profile_background_tile': True, u'favourites_count': 1484, u'name': u'Ashley Will', u'notifications': None, u'url': u'https://t.co/kokSZrEyzt', u'created_at': u'Fri Jul 29 16:29:27 +0000 2011', u'contributors_enabled': False, u'time_zone': u'Atlantic Time (Canada)', u'protected': False, u'default_profile': False, u'is_translator': False}, time_zone=u'Atlantic Time (Canada)', id=344807523, description=u'Boston University DPT Student. Vegan. Powerlifter. Cheerleader. Personal Trainer. Avocado Lover.\\n#GetPT1st #ChoosePT', _api=<tweepy.api.API object at 0x10d519890>, verified=False, profile_text_color=u'333333', profile_image_url_https=u'https://pbs.twimg.com/profile_images/728060429788950528/p1ODevik_normal.jpg', profile_sidebar_fill_color=u'F6F6F6', is_translator=False, geo_enabled=True, entities={u'url': {u'urls': [{u'url': u'https://t.co/kokSZrEyzt', u'indices': [0, 23], u'expanded_url': u'http://www.linkedin.com/in/ashleywill25', u'display_url': u'linkedin.com/in/ashleywill25'}]}, u'description': {u'urls': []}}, followers_count=315, protected=False, id_str=u'344807523', default_profile_image=False, listed_count=9, lang=u'en', utc_offset=-10800, statuses_count=7103, profile_background_color=u'ACDED6', friends_count=293, profile_link_color=u'F58EA8', profile_image_url=u'http://pbs.twimg.com/profile_images/728060429788950528/p1ODevik_normal.jpg', notifications=None, default_profile=False, profile_background_image_url_https=u'https://pbs.twimg.com/profile_background_images/458378833482088448/TILg3l0G.jpeg', profile_banner_url=u'https://pbs.twimg.com/profile_banners/344807523/1485563425', profile_background_image_url=u'http://pbs.twimg.com/profile_background_images/458378833482088448/TILg3l0G.jpeg', name=u'Ashley Will', is_translation_enabled=False, profile_background_tile=True, favourites_count=1484, screen_name=u'AshleyWill25', url=u'https://t.co/kokSZrEyzt', created_at=datetime.datetime(2011, 7, 29, 16, 29, 27), contributors_enabled=False, location=u'Boston, MA', profile_sidebar_border_color=u'FFFFFF', translator_type=u'none', following=False), _json={u'contributors': None, u'truncated': False, u'text': u'RT @APTASA: \"It is no longer acceptable to consider skeletal muscle as a mere force vector.\" #APTANEXT #BeBold @APTAtweets @APTAnext https:\\u2026', u'is_quote_status': False, u'in_reply_to_status_id': None, u'id': 878067864380592132, u'favorite_count': 0, u'entities': {u'symbols': [], u'user_mentions': [{u'id': 94876800, u'indices': [3, 10], u'id_str': u'94876800', u'screen_name': u'APTASA', u'name': u'APTAStudentAssembly'}, {u'id': 24901614, u'indices': [111, 122], u'id_str': u'24901614', u'screen_name': u'APTAtweets', u'name': u'APTA'}, {u'id': 41384560, u'indices': [123, 132], u'id_str': u'41384560', u'screen_name': u'APTAnext', u'name': u'APTAnext'}], u'hashtags': [{u'indices': [93, 102], u'text': u'APTANEXT'}, {u'indices': [103, 110], u'text': u'BeBold'}], u'urls': []}, u'retweeted': False, u'coordinates': None, u'source': u'<a href=\"http://twitter.com\" rel=\"nofollow\">Twitter Web Client</a>', u'in_reply_to_screen_name': None, u'in_reply_to_user_id': None, u'retweet_count': 9, u'id_str': u'878067864380592132', u'favorited': False, u'retweeted_status': {u'contributors': None, u'truncated': True, u'text': u'\"It is no longer acceptable to consider skeletal muscle as a mere force vector.\" #APTANEXT #BeBold @APTAtweets\\u2026 https://t.co/JGnpdZ2Bx9', u'is_quote_status': False, u'in_reply_to_status_id': None, u'id': 877893867709677569, u'favorite_count': 19, u'entities': {u'symbols': [], u'user_mentions': [{u'id': 24901614, u'indices': [99, 110], u'id_str': u'24901614', u'screen_name': u'APTAtweets', u'name': u'APTA'}], u'hashtags': [{u'indices': [81, 90], u'text': u'APTANEXT'}, {u'indices': [91, 98], u'text': u'BeBold'}], u'urls': [{u'url': u'https://t.co/JGnpdZ2Bx9', u'indices': [112, 135], u'expanded_url': u'https://twitter.com/i/web/status/877893867709677569', u'display_url': u'twitter.com/i/web/status/8\\u2026'}]}, u'retweeted': False, u'coordinates': None, u'source': u'<a href=\"http://twitter.com/download/iphone\" rel=\"nofollow\">Twitter for iPhone</a>', u'in_reply_to_screen_name': None, u'in_reply_to_user_id': None, u'retweet_count': 9, u'id_str': u'877893867709677569', u'favorited': False, u'user': {u'follow_request_sent': None, u'has_extended_profile': False, u'profile_use_background_image': False, u'default_profile_image': False, u'id': 94876800, u'profile_background_image_url_https': u'https://abs.twimg.com/images/themes/theme15/bg.png', u'verified': False, u'translator_type': u'none', u'profile_text_color': u'000000', u'profile_image_url_https': u'https://pbs.twimg.com/profile_images/451023861589348352/uXCSmg31_normal.png', u'profile_sidebar_fill_color': u'000000', u'entities': {u'url': {u'urls': [{u'url': u'https://t.co/hsAJyGcrMS', u'indices': [0, 23], u'expanded_url': u'http://www.apta.org/CurrentStudents', u'display_url': u'apta.org/CurrentStudents'}]}, u'description': {u'urls': []}}, u'followers_count': 11535, u'profile_sidebar_border_color': u'000000', u'id_str': u'94876800', u'profile_background_color': u'0084B4', u'listed_count': 154, u'is_translation_enabled': False, u'utc_offset': -18000, u'statuses_count': 8688, u'description': u\"|| American Physical Therapy Association's Student Assembly || Hashtags to Follow: #DPTstudent #PTAstudent #XchangeSA #PTadvocacy #PTtransforms #APTAmember ||\", u'friends_count': 1942, u'location': u'Nationwide', u'profile_link_color': u'FA743E', u'profile_image_url': u'http://pbs.twimg.com/profile_images/451023861589348352/uXCSmg31_normal.png', u'following': None, u'geo_enabled': True, u'profile_banner_url': u'https://pbs.twimg.com/profile_banners/94876800/1491931917', u'profile_background_image_url': u'http://abs.twimg.com/images/themes/theme15/bg.png', u'screen_name': u'APTASA', u'lang': u'en', u'profile_background_tile': False, u'favourites_count': 4601, u'name': u'APTAStudentAssembly', u'notifications': None, u'url': u'https://t.co/hsAJyGcrMS', u'created_at': u'Sat Dec 05 21:59:25 +0000 2009', u'contributors_enabled': False, u'time_zone': u'Central Time (US & Canada)', u'protected': False, u'default_profile': False, u'is_translator': False}, u'geo': None, u'in_reply_to_user_id_str': None, u'possibly_sensitive': False, u'lang': u'en', u'created_at': u'Thu Jun 22 14:19:43 +0000 2017', u'in_reply_to_status_id_str': None, u'place': None, u'metadata': {u'iso_language_code': u'en', u'result_type': u'recent'}}, u'user': {u'follow_request_sent': None, u'has_extended_profile': True, u'profile_use_background_image': True, u'default_profile_image': False, u'id': 344807523, u'profile_background_image_url_https': u'https://pbs.twimg.com/profile_background_images/458378833482088448/TILg3l0G.jpeg', u'verified': False, u'translator_type': u'none', u'profile_text_color': u'333333', u'profile_image_url_https': u'https://pbs.twimg.com/profile_images/728060429788950528/p1ODevik_normal.jpg', u'profile_sidebar_fill_color': u'F6F6F6', u'entities': {u'url': {u'urls': [{u'url': u'https://t.co/kokSZrEyzt', u'indices': [0, 23], u'expanded_url': u'http://www.linkedin.com/in/ashleywill25', u'display_url': u'linkedin.com/in/ashleywill25'}]}, u'description': {u'urls': []}}, u'followers_count': 315, u'profile_sidebar_border_color': u'FFFFFF', u'id_str': u'344807523', u'profile_background_color': u'ACDED6', u'listed_count': 9, u'is_translation_enabled': False, u'utc_offset': -10800, u'statuses_count': 7103, u'description': u'Boston University DPT Student. Vegan. Powerlifter. Cheerleader. Personal Trainer. Avocado Lover.\\n#GetPT1st #ChoosePT', u'friends_count': 293, u'location': u'Boston, MA', u'profile_link_color': u'F58EA8', u'profile_image_url': u'http://pbs.twimg.com/profile_images/728060429788950528/p1ODevik_normal.jpg', u'following': None, u'geo_enabled': True, u'profile_banner_url': u'https://pbs.twimg.com/profile_banners/344807523/1485563425', u'profile_background_image_url': u'http://pbs.twimg.com/profile_background_images/458378833482088448/TILg3l0G.jpeg', u'screen_name': u'AshleyWill25', u'lang': u'en', u'profile_background_tile': True, u'favourites_count': 1484, u'name': u'Ashley Will', u'notifications': None, u'url': u'https://t.co/kokSZrEyzt', u'created_at': u'Fri Jul 29 16:29:27 +0000 2011', u'contributors_enabled': False, u'time_zone': u'Atlantic Time (Canada)', u'protected': False, u'default_profile': False, u'is_translator': False}, u'geo': None, u'in_reply_to_user_id_str': None, u'lang': u'en', u'created_at': u'Fri Jun 23 01:51:07 +0000 2017', u'in_reply_to_status_id_str': None, u'place': None, u'metadata': {u'iso_language_code': u'en', u'result_type': u'recent'}}, coordinates=None, entities={u'symbols': [], u'user_mentions': [{u'id': 94876800, u'indices': [3, 10], u'id_str': u'94876800', u'screen_name': u'APTASA', u'name': u'APTAStudentAssembly'}, {u'id': 24901614, u'indices': [111, 122], u'id_str': u'24901614', u'screen_name': u'APTAtweets', u'name': u'APTA'}, {u'id': 41384560, u'indices': [123, 132], u'id_str': u'41384560', u'screen_name': u'APTAnext', u'name': u'APTAnext'}], u'hashtags': [{u'indices': [93, 102], u'text': u'APTANEXT'}, {u'indices': [103, 110], u'text': u'BeBold'}], u'urls': []}, in_reply_to_screen_name=None, id_str=u'878067864380592132', retweet_count=9, in_reply_to_user_id=None, favorited=False, retweeted_status=Status(contributors=None, truncated=True, text=u'\"It is no longer acceptable to consider skeletal muscle as a mere force vector.\" #APTANEXT #BeBold @APTAtweets\\u2026 https://t.co/JGnpdZ2Bx9', is_quote_status=False, in_reply_to_status_id=None, id=877893867709677569, favorite_count=19, _api=<tweepy.api.API object at 0x10d519890>, author=User(follow_request_sent=None, has_extended_profile=False, profile_use_background_image=False, _json={u'follow_request_sent': None, u'has_extended_profile': False, u'profile_use_background_image': False, u'default_profile_image': False, u'id': 94876800, u'profile_background_image_url_https': u'https://abs.twimg.com/images/themes/theme15/bg.png', u'verified': False, u'translator_type': u'none', u'profile_text_color': u'000000', u'profile_image_url_https': u'https://pbs.twimg.com/profile_images/451023861589348352/uXCSmg31_normal.png', u'profile_sidebar_fill_color': u'000000', u'entities': {u'url': {u'urls': [{u'url': u'https://t.co/hsAJyGcrMS', u'indices': [0, 23], u'expanded_url': u'http://www.apta.org/CurrentStudents', u'display_url': u'apta.org/CurrentStudents'}]}, u'description': {u'urls': []}}, u'followers_count': 11535, u'profile_sidebar_border_color': u'000000', u'id_str': u'94876800', u'profile_background_color': u'0084B4', u'listed_count': 154, u'is_translation_enabled': False, u'utc_offset': -18000, u'statuses_count': 8688, u'description': u\"|| American Physical Therapy Association's Student Assembly || Hashtags to Follow: #DPTstudent #PTAstudent #XchangeSA #PTadvocacy #PTtransforms #APTAmember ||\", u'friends_count': 1942, u'location': u'Nationwide', u'profile_link_color': u'FA743E', u'profile_image_url': u'http://pbs.twimg.com/profile_images/451023861589348352/uXCSmg31_normal.png', u'following': None, u'geo_enabled': True, u'profile_banner_url': u'https://pbs.twimg.com/profile_banners/94876800/1491931917', u'profile_background_image_url': u'http://abs.twimg.com/images/themes/theme15/bg.png', u'screen_name': u'APTASA', u'lang': u'en', u'profile_background_tile': False, u'favourites_count': 4601, u'name': u'APTAStudentAssembly', u'notifications': None, u'url': u'https://t.co/hsAJyGcrMS', u'created_at': u'Sat Dec 05 21:59:25 +0000 2009', u'contributors_enabled': False, u'time_zone': u'Central Time (US & Canada)', u'protected': False, u'default_profile': False, u'is_translator': False}, time_zone=u'Central Time (US & Canada)', id=94876800, description=u\"|| American Physical Therapy Association's Student Assembly || Hashtags to Follow: #DPTstudent #PTAstudent #XchangeSA #PTadvocacy #PTtransforms #APTAmember ||\", _api=<tweepy.api.API object at 0x10d519890>, verified=False, profile_text_color=u'000000', profile_image_url_https=u'https://pbs.twimg.com/profile_images/451023861589348352/uXCSmg31_normal.png', profile_sidebar_fill_color=u'000000', is_translator=False, geo_enabled=True, entities={u'url': {u'urls': [{u'url': u'https://t.co/hsAJyGcrMS', u'indices': [0, 23], u'expanded_url': u'http://www.apta.org/CurrentStudents', u'display_url': u'apta.org/CurrentStudents'}]}, u'description': {u'urls': []}}, followers_count=11535, protected=False, id_str=u'94876800', default_profile_image=False, listed_count=154, lang=u'en', utc_offset=-18000, statuses_count=8688, profile_background_color=u'0084B4', friends_count=1942, profile_link_color=u'FA743E', profile_image_url=u'http://pbs.twimg.com/profile_images/451023861589348352/uXCSmg31_normal.png', notifications=None, default_profile=False, profile_background_image_url_https=u'https://abs.twimg.com/images/themes/theme15/bg.png', profile_banner_url=u'https://pbs.twimg.com/profile_banners/94876800/1491931917', profile_background_image_url=u'http://abs.twimg.com/images/themes/theme15/bg.png', name=u'APTAStudentAssembly', is_translation_enabled=False, profile_background_tile=False, favourites_count=4601, screen_name=u'APTASA', url=u'https://t.co/hsAJyGcrMS', created_at=datetime.datetime(2009, 12, 5, 21, 59, 25), contributors_enabled=False, location=u'Nationwide', profile_sidebar_border_color=u'000000', translator_type=u'none', following=False), _json={u'contributors': None, u'truncated': True, u'text': u'\"It is no longer acceptable to consider skeletal muscle as a mere force vector.\" #APTANEXT #BeBold @APTAtweets\\u2026 https://t.co/JGnpdZ2Bx9', u'is_quote_status': False, u'in_reply_to_status_id': None, u'id': 877893867709677569, u'favorite_count': 19, u'entities': {u'symbols': [], u'user_mentions': [{u'id': 24901614, u'indices': [99, 110], u'id_str': u'24901614', u'screen_name': u'APTAtweets', u'name': u'APTA'}], u'hashtags': [{u'indices': [81, 90], u'text': u'APTANEXT'}, {u'indices': [91, 98], u'text': u'BeBold'}], u'urls': [{u'url': u'https://t.co/JGnpdZ2Bx9', u'indices': [112, 135], u'expanded_url': u'https://twitter.com/i/web/status/877893867709677569', u'display_url': u'twitter.com/i/web/status/8\\u2026'}]}, u'retweeted': False, u'coordinates': None, u'source': u'<a href=\"http://twitter.com/download/iphone\" rel=\"nofollow\">Twitter for iPhone</a>', u'in_reply_to_screen_name': None, u'in_reply_to_user_id': None, u'retweet_count': 9, u'id_str': u'877893867709677569', u'favorited': False, u'user': {u'follow_request_sent': None, u'has_extended_profile': False, u'profile_use_background_image': False, u'default_profile_image': False, u'id': 94876800, u'profile_background_image_url_https': u'https://abs.twimg.com/images/themes/theme15/bg.png', u'verified': False, u'translator_type': u'none', u'profile_text_color': u'000000', u'profile_image_url_https': u'https://pbs.twimg.com/profile_images/451023861589348352/uXCSmg31_normal.png', u'profile_sidebar_fill_color': u'000000', u'entities': {u'url': {u'urls': [{u'url': u'https://t.co/hsAJyGcrMS', u'indices': [0, 23], u'expanded_url': u'http://www.apta.org/CurrentStudents', u'display_url': u'apta.org/CurrentStudents'}]}, u'description': {u'urls': []}}, u'followers_count': 11535, u'profile_sidebar_border_color': u'000000', u'id_str': u'94876800', u'profile_background_color': u'0084B4', u'listed_count': 154, u'is_translation_enabled': False, u'utc_offset': -18000, u'statuses_count': 8688, u'description': u\"|| American Physical Therapy Association's Student Assembly || Hashtags to Follow: #DPTstudent #PTAstudent #XchangeSA #PTadvocacy #PTtransforms #APTAmember ||\", u'friends_count': 1942, u'location': u'Nationwide', u'profile_link_color': u'FA743E', u'profile_image_url': u'http://pbs.twimg.com/profile_images/451023861589348352/uXCSmg31_normal.png', u'following': None, u'geo_enabled': True, u'profile_banner_url': u'https://pbs.twimg.com/profile_banners/94876800/1491931917', u'profile_background_image_url': u'http://abs.twimg.com/images/themes/theme15/bg.png', u'screen_name': u'APTASA', u'lang': u'en', u'profile_background_tile': False, u'favourites_count': 4601, u'name': u'APTAStudentAssembly', u'notifications': None, u'url': u'https://t.co/hsAJyGcrMS', u'created_at': u'Sat Dec 05 21:59:25 +0000 2009', u'contributors_enabled': False, u'time_zone': u'Central Time (US & Canada)', u'protected': False, u'default_profile': False, u'is_translator': False}, u'geo': None, u'in_reply_to_user_id_str': None, u'possibly_sensitive': False, u'lang': u'en', u'created_at': u'Thu Jun 22 14:19:43 +0000 2017', u'in_reply_to_status_id_str': None, u'place': None, u'metadata': {u'iso_language_code': u'en', u'result_type': u'recent'}}, coordinates=None, entities={u'symbols': [], u'user_mentions': [{u'id': 24901614, u'indices': [99, 110], u'id_str': u'24901614', u'screen_name': u'APTAtweets', u'name': u'APTA'}], u'hashtags': [{u'indices': [81, 90], u'text': u'APTANEXT'}, {u'indices': [91, 98], u'text': u'BeBold'}], u'urls': [{u'url': u'https://t.co/JGnpdZ2Bx9', u'indices': [112, 135], u'expanded_url': u'https://twitter.com/i/web/status/877893867709677569', u'display_url': u'twitter.com/i/web/status/8\\u2026'}]}, in_reply_to_screen_name=None, id_str=u'877893867709677569', retweet_count=9, in_reply_to_user_id=None, favorited=False, source_url=u'http://twitter.com/download/iphone', user=User(follow_request_sent=None, has_extended_profile=False, profile_use_background_image=False, _json={u'follow_request_sent': None, u'has_extended_profile': False, u'profile_use_background_image': False, u'default_profile_image': False, u'id': 94876800, u'profile_background_image_url_https': u'https://abs.twimg.com/images/themes/theme15/bg.png', u'verified': False, u'translator_type': u'none', u'profile_text_color': u'000000', u'profile_image_url_https': u'https://pbs.twimg.com/profile_images/451023861589348352/uXCSmg31_normal.png', u'profile_sidebar_fill_color': u'000000', u'entities': {u'url': {u'urls': [{u'url': u'https://t.co/hsAJyGcrMS', u'indices': [0, 23], u'expanded_url': u'http://www.apta.org/CurrentStudents', u'display_url': u'apta.org/CurrentStudents'}]}, u'description': {u'urls': []}}, u'followers_count': 11535, u'profile_sidebar_border_color': u'000000', u'id_str': u'94876800', u'profile_background_color': u'0084B4', u'listed_count': 154, u'is_translation_enabled': False, u'utc_offset': -18000, u'statuses_count': 8688, u'description': u\"|| American Physical Therapy Association's Student Assembly || Hashtags to Follow: #DPTstudent #PTAstudent #XchangeSA #PTadvocacy #PTtransforms #APTAmember ||\", u'friends_count': 1942, u'location': u'Nationwide', u'profile_link_color': u'FA743E', u'profile_image_url': u'http://pbs.twimg.com/profile_images/451023861589348352/uXCSmg31_normal.png', u'following': None, u'geo_enabled': True, u'profile_banner_url': u'https://pbs.twimg.com/profile_banners/94876800/1491931917', u'profile_background_image_url': u'http://abs.twimg.com/images/themes/theme15/bg.png', u'screen_name': u'APTASA', u'lang': u'en', u'profile_background_tile': False, u'favourites_count': 4601, u'name': u'APTAStudentAssembly', u'notifications': None, u'url': u'https://t.co/hsAJyGcrMS', u'created_at': u'Sat Dec 05 21:59:25 +0000 2009', u'contributors_enabled': False, u'time_zone': u'Central Time (US & Canada)', u'protected': False, u'default_profile': False, u'is_translator': False}, time_zone=u'Central Time (US & Canada)', id=94876800, description=u\"|| American Physical Therapy Association's Student Assembly || Hashtags to Follow: #DPTstudent #PTAstudent #XchangeSA #PTadvocacy #PTtransforms #APTAmember ||\", _api=<tweepy.api.API object at 0x10d519890>, verified=False, profile_text_color=u'000000', profile_image_url_https=u'https://pbs.twimg.com/profile_images/451023861589348352/uXCSmg31_normal.png', profile_sidebar_fill_color=u'000000', is_translator=False, geo_enabled=True, entities={u'url': {u'urls': [{u'url': u'https://t.co/hsAJyGcrMS', u'indices': [0, 23], u'expanded_url': u'http://www.apta.org/CurrentStudents', u'display_url': u'apta.org/CurrentStudents'}]}, u'description': {u'urls': []}}, followers_count=11535, protected=False, id_str=u'94876800', default_profile_image=False, listed_count=154, lang=u'en', utc_offset=-18000, statuses_count=8688, profile_background_color=u'0084B4', friends_count=1942, profile_link_color=u'FA743E', profile_image_url=u'http://pbs.twimg.com/profile_images/451023861589348352/uXCSmg31_normal.png', notifications=None, default_profile=False, profile_background_image_url_https=u'https://abs.twimg.com/images/themes/theme15/bg.png', profile_banner_url=u'https://pbs.twimg.com/profile_banners/94876800/1491931917', profile_background_image_url=u'http://abs.twimg.com/images/themes/theme15/bg.png', name=u'APTAStudentAssembly', is_translation_enabled=False, profile_background_tile=False, favourites_count=4601, screen_name=u'APTASA', url=u'https://t.co/hsAJyGcrMS', created_at=datetime.datetime(2009, 12, 5, 21, 59, 25), contributors_enabled=False, location=u'Nationwide', profile_sidebar_border_color=u'000000', translator_type=u'none', following=False), geo=None, in_reply_to_user_id_str=None, possibly_sensitive=False, lang=u'en', created_at=datetime.datetime(2017, 6, 22, 14, 19, 43), in_reply_to_status_id_str=None, place=None, source=u'Twitter for iPhone', retweeted=False, metadata={u'iso_language_code': u'en', u'result_type': u'recent'}), source_url=u'http://twitter.com', user=User(follow_request_sent=None, has_extended_profile=True, profile_use_background_image=True, _json={u'follow_request_sent': None, u'has_extended_profile': True, u'profile_use_background_image': True, u'default_profile_image': False, u'id': 344807523, u'profile_background_image_url_https': u'https://pbs.twimg.com/profile_background_images/458378833482088448/TILg3l0G.jpeg', u'verified': False, u'translator_type': u'none', u'profile_text_color': u'333333', u'profile_image_url_https': u'https://pbs.twimg.com/profile_images/728060429788950528/p1ODevik_normal.jpg', u'profile_sidebar_fill_color': u'F6F6F6', u'entities': {u'url': {u'urls': [{u'url': u'https://t.co/kokSZrEyzt', u'indices': [0, 23], u'expanded_url': u'http://www.linkedin.com/in/ashleywill25', u'display_url': u'linkedin.com/in/ashleywill25'}]}, u'description': {u'urls': []}}, u'followers_count': 315, u'profile_sidebar_border_color': u'FFFFFF', u'id_str': u'344807523', u'profile_background_color': u'ACDED6', u'listed_count': 9, u'is_translation_enabled': False, u'utc_offset': -10800, u'statuses_count': 7103, u'description': u'Boston University DPT Student. Vegan. Powerlifter. Cheerleader. Personal Trainer. Avocado Lover.\\n#GetPT1st #ChoosePT', u'friends_count': 293, u'location': u'Boston, MA', u'profile_link_color': u'F58EA8', u'profile_image_url': u'http://pbs.twimg.com/profile_images/728060429788950528/p1ODevik_normal.jpg', u'following': None, u'geo_enabled': True, u'profile_banner_url': u'https://pbs.twimg.com/profile_banners/344807523/1485563425', u'profile_background_image_url': u'http://pbs.twimg.com/profile_background_images/458378833482088448/TILg3l0G.jpeg', u'screen_name': u'AshleyWill25', u'lang': u'en', u'profile_background_tile': True, u'favourites_count': 1484, u'name': u'Ashley Will', u'notifications': None, u'url': u'https://t.co/kokSZrEyzt', u'created_at': u'Fri Jul 29 16:29:27 +0000 2011', u'contributors_enabled': False, u'time_zone': u'Atlantic Time (Canada)', u'protected': False, u'default_profile': False, u'is_translator': False}, time_zone=u'Atlantic Time (Canada)', id=344807523, description=u'Boston University DPT Student. Vegan. Powerlifter. Cheerleader. Personal Trainer. Avocado Lover.\\n#GetPT1st #ChoosePT', _api=<tweepy.api.API object at 0x10d519890>, verified=False, profile_text_color=u'333333', profile_image_url_https=u'https://pbs.twimg.com/profile_images/728060429788950528/p1ODevik_normal.jpg', profile_sidebar_fill_color=u'F6F6F6', is_translator=False, geo_enabled=True, entities={u'url': {u'urls': [{u'url': u'https://t.co/kokSZrEyzt', u'indices': [0, 23], u'expanded_url': u'http://www.linkedin.com/in/ashleywill25', u'display_url': u'linkedin.com/in/ashleywill25'}]}, u'description': {u'urls': []}}, followers_count=315, protected=False, id_str=u'344807523', default_profile_image=False, listed_count=9, lang=u'en', utc_offset=-10800, statuses_count=7103, profile_background_color=u'ACDED6', friends_count=293, profile_link_color=u'F58EA8', profile_image_url=u'http://pbs.twimg.com/profile_images/728060429788950528/p1ODevik_normal.jpg', notifications=None, default_profile=False, profile_background_image_url_https=u'https://pbs.twimg.com/profile_background_images/458378833482088448/TILg3l0G.jpeg', profile_banner_url=u'https://pbs.twimg.com/profile_banners/344807523/1485563425', profile_background_image_url=u'http://pbs.twimg.com/profile_background_images/458378833482088448/TILg3l0G.jpeg', name=u'Ashley Will', is_translation_enabled=False, profile_background_tile=True, favourites_count=1484, screen_name=u'AshleyWill25', url=u'https://t.co/kokSZrEyzt', created_at=datetime.datetime(2011, 7, 29, 16, 29, 27), contributors_enabled=False, location=u'Boston, MA', profile_sidebar_border_color=u'FFFFFF', translator_type=u'none', following=False), geo=None, in_reply_to_user_id_str=None, lang=u'en', created_at=datetime.datetime(2017, 6, 23, 1, 51, 7), in_reply_to_status_id_str=None, place=None, source=u'Twitter Web Client', retweeted=False, metadata={u'iso_language_code': u'en', u'result_type': u'recent'})\n"
     ]
    }
   ],
   "source": [
    "print results[0]"
   ]
  },
  {
   "cell_type": "markdown",
   "metadata": {
    "collapsed": true
   },
   "source": [
    "## Putting the tweets into MongoDB"
   ]
  },
  {
   "cell_type": "code",
   "execution_count": 6,
   "metadata": {
    "collapsed": false
   },
   "outputs": [],
   "source": [
    "import pymongo"
   ]
  },
  {
   "cell_type": "markdown",
   "metadata": {},
   "source": [
    "### Pulling in my EP3 Database"
   ]
  },
  {
   "cell_type": "code",
   "execution_count": 7,
   "metadata": {
    "collapsed": true
   },
   "outputs": [],
   "source": [
    "col = pymongo.MongoClient()['test']['Next2017Day1']"
   ]
  },
  {
   "cell_type": "markdown",
   "metadata": {},
   "source": [
    "### Showing what's in the database now"
   ]
  },
  {
   "cell_type": "code",
   "execution_count": 8,
   "metadata": {
    "collapsed": false
   },
   "outputs": [
    {
     "data": {
      "text/plain": [
       "0"
      ]
     },
     "execution_count": 8,
     "metadata": {},
     "output_type": "execute_result"
    }
   ],
   "source": [
    "col.count()"
   ]
  },
  {
   "cell_type": "markdown",
   "metadata": {},
   "source": [
    "### Putting each tweet in the database"
   ]
  },
  {
   "cell_type": "code",
   "execution_count": 9,
   "metadata": {
    "collapsed": true
   },
   "outputs": [],
   "source": [
    "for tweet in results:\n",
    "    col.insert_one(tweet._json)"
   ]
  },
  {
   "cell_type": "markdown",
   "metadata": {},
   "source": [
    "### Showing that they all made it in"
   ]
  },
  {
   "cell_type": "code",
   "execution_count": 10,
   "metadata": {
    "collapsed": false
   },
   "outputs": [
    {
     "data": {
      "text/plain": [
       "1604"
      ]
     },
     "execution_count": 10,
     "metadata": {},
     "output_type": "execute_result"
    }
   ],
   "source": [
    "col.count()"
   ]
  },
  {
   "cell_type": "markdown",
   "metadata": {},
   "source": [
    "## Tweets are Collected and Ready for Analysis!"
   ]
  }
 ],
 "metadata": {
  "anaconda-cloud": {},
  "kernelspec": {
   "display_name": "Python 2",
   "language": "python",
   "name": "python2"
  },
  "language_info": {
   "codemirror_mode": {
    "name": "ipython",
    "version": 2
   },
   "file_extension": ".py",
   "mimetype": "text/x-python",
   "name": "python",
   "nbconvert_exporter": "python",
   "pygments_lexer": "ipython2",
   "version": "2.7.12"
  }
 },
 "nbformat": 4,
 "nbformat_minor": 0
}
