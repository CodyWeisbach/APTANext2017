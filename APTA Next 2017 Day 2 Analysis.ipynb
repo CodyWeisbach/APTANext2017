{
 "cells": [
  {
   "cell_type": "markdown",
   "metadata": {},
   "source": [
    "# Twitter Analysis of the APTA Next 2017 Conference"
   ]
  },
  {
   "cell_type": "markdown",
   "metadata": {},
   "source": [
    "First I'll import the libraries that are needed"
   ]
  },
  {
   "cell_type": "code",
   "execution_count": 1,
   "metadata": {
    "collapsed": false
   },
   "outputs": [],
   "source": [
    "%matplotlib inline\n",
    "import pymongo\n",
    "from datetime import date\n",
    "import pandas as pd\n",
    "import numpy as np\n",
    "import matplotlib.pyplot as plt\n",
    "from wordcloud import WordCloud, STOPWORDS, ImageColorGenerator\n"
   ]
  },
  {
   "cell_type": "markdown",
   "metadata": {},
   "source": [
    "## APTA Next 2017 Day 2 Analysis"
   ]
  },
  {
   "cell_type": "markdown",
   "metadata": {},
   "source": [
    "### Data Wrangling\n",
    "Before I can analyze anything, I need to get the data out of my database and organize it into a form that can easily be analyzed. "
   ]
  },
  {
   "cell_type": "markdown",
   "metadata": {},
   "source": [
    "First I'll make a connection to my database. Everything is stored in a database called MongoDB on my laptop. "
   ]
  },
  {
   "cell_type": "code",
   "execution_count": 2,
   "metadata": {
    "collapsed": true
   },
   "outputs": [],
   "source": [
    "client_con = pymongo.MongoClient()"
   ]
  },
  {
   "cell_type": "code",
   "execution_count": 3,
   "metadata": {
    "collapsed": false
   },
   "outputs": [
    {
     "data": {
      "text/plain": [
       "[u'local', u'test']"
      ]
     },
     "execution_count": 3,
     "metadata": {},
     "output_type": "execute_result"
    }
   ],
   "source": [
    "client_con.database_names()"
   ]
  },
  {
   "cell_type": "code",
   "execution_count": 4,
   "metadata": {
    "collapsed": true
   },
   "outputs": [],
   "source": [
    "local_db = client_con['test']"
   ]
  },
  {
   "cell_type": "code",
   "execution_count": 5,
   "metadata": {
    "collapsed": false
   },
   "outputs": [
    {
     "data": {
      "text/plain": [
       "[u'Next2017Day1',\n",
       " u'twitter_data',\n",
       " u'ep3',\n",
       " u'ep3west',\n",
       " u'Next2017Day3',\n",
       " u'tweet_practice',\n",
       " u'McMillan',\n",
       " u'Next2017Day2']"
      ]
     },
     "execution_count": 5,
     "metadata": {},
     "output_type": "execute_result"
    }
   ],
   "source": [
    "local_db.collection_names()"
   ]
  },
  {
   "cell_type": "markdown",
   "metadata": {},
   "source": [
    "'Next2017' is the collection with the data from .  \n",
    "I'll load the data into a variable called data_set"
   ]
  },
  {
   "cell_type": "code",
   "execution_count": 6,
   "metadata": {
    "collapsed": false
   },
   "outputs": [],
   "source": [
    "data_set = local_db['Next2017Day2']"
   ]
  },
  {
   "cell_type": "markdown",
   "metadata": {},
   "source": [
    "Next I'll take a quick look at how many tweets are in there"
   ]
  },
  {
   "cell_type": "code",
   "execution_count": 7,
   "metadata": {
    "collapsed": false
   },
   "outputs": [
    {
     "data": {
      "text/plain": [
       "2198"
      ]
     },
     "execution_count": 7,
     "metadata": {},
     "output_type": "execute_result"
    }
   ],
   "source": [
    "data_set.count()"
   ]
  },
  {
   "cell_type": "markdown",
   "metadata": {},
   "source": [
    "Now I need to change the format of the data to something easier to look at.\n",
    "First, I'll make the database collection into a list of dictionaries, which is easier to work with in Python"
   ]
  },
  {
   "cell_type": "code",
   "execution_count": 8,
   "metadata": {
    "collapsed": false
   },
   "outputs": [],
   "source": [
    "tweet_data = list(data_set.find())"
   ]
  },
  {
   "cell_type": "markdown",
   "metadata": {},
   "source": [
    "Next I'll make that list into a dataframe, which looks more like a spread sheet\n",
    "I'm going to make it a function that I can use over again for the west data set"
   ]
  },
  {
   "cell_type": "code",
   "execution_count": 9,
   "metadata": {
    "collapsed": false
   },
   "outputs": [],
   "source": [
    "def process_results(results):\n",
    "    id_list = [tweet['id'] for tweet in results]\n",
    "    data_set = pd.DataFrame(id_list, columns = [\"id\"])\n",
    "    \n",
    "    data_set['user'] = [tweet['user']['screen_name'] for tweet in results]\n",
    "    data_set[\"text\"] = [tweet['text'] for tweet in results]\n",
    "    data_set[\"retweet_count\"] = [tweet['retweet_count'] for tweet in results]\n",
    "    data_set[\"favorite_count\"] = [tweet['favorite_count'] for tweet in results]\n",
    "    data_set[\"created_at\"] = [tweet['created_at'] for tweet in results]\n",
    "    \n",
    "    return data_set"
   ]
  },
  {
   "cell_type": "markdown",
   "metadata": {},
   "source": [
    "Now I'll use that function to process my data into the dataframe and store it in a variable df"
   ]
  },
  {
   "cell_type": "code",
   "execution_count": 10,
   "metadata": {
    "collapsed": false
   },
   "outputs": [],
   "source": [
    "df_NextD2 = process_results(tweet_data)"
   ]
  },
  {
   "cell_type": "markdown",
   "metadata": {},
   "source": [
    "Let's take a look at it.  \n",
    "First I'll check the length, hopefully it's the same as my number of records above.  \n",
    "Then I'll look at the top 5 rows and the bottom 5 rows to make sure it all looks right."
   ]
  },
  {
   "cell_type": "code",
   "execution_count": 11,
   "metadata": {
    "collapsed": false
   },
   "outputs": [
    {
     "data": {
      "text/plain": [
       "2198"
      ]
     },
     "execution_count": 11,
     "metadata": {},
     "output_type": "execute_result"
    }
   ],
   "source": [
    "len(df_NextD2)"
   ]
  },
  {
   "cell_type": "code",
   "execution_count": 12,
   "metadata": {
    "collapsed": false
   },
   "outputs": [
    {
     "data": {
      "text/html": [
       "<div>\n",
       "<table border=\"1\" class=\"dataframe\">\n",
       "  <thead>\n",
       "    <tr style=\"text-align: right;\">\n",
       "      <th></th>\n",
       "      <th>id</th>\n",
       "      <th>user</th>\n",
       "      <th>text</th>\n",
       "      <th>retweet_count</th>\n",
       "      <th>favorite_count</th>\n",
       "      <th>created_at</th>\n",
       "    </tr>\n",
       "  </thead>\n",
       "  <tbody>\n",
       "    <tr>\n",
       "      <th>0</th>\n",
       "      <td>878427862633730049</td>\n",
       "      <td>DrBryanStewart</td>\n",
       "      <td>RT @alanleeDPT: Now, Don't miss these topic of...</td>\n",
       "      <td>1</td>\n",
       "      <td>0</td>\n",
       "      <td>Sat Jun 24 01:41:37 +0000 2017</td>\n",
       "    </tr>\n",
       "    <tr>\n",
       "      <th>1</th>\n",
       "      <td>878427339708932096</td>\n",
       "      <td>JustinJorgensen</td>\n",
       "      <td>RT @RJPeacockSPT: \"Exercise is movement and mo...</td>\n",
       "      <td>5</td>\n",
       "      <td>0</td>\n",
       "      <td>Sat Jun 24 01:39:32 +0000 2017</td>\n",
       "    </tr>\n",
       "    <tr>\n",
       "      <th>2</th>\n",
       "      <td>878425535243747328</td>\n",
       "      <td>JustinJorgensen</td>\n",
       "      <td>RT @RJPeacockSPT: Dr. Shields \"The new frontie...</td>\n",
       "      <td>4</td>\n",
       "      <td>0</td>\n",
       "      <td>Sat Jun 24 01:32:22 +0000 2017</td>\n",
       "    </tr>\n",
       "    <tr>\n",
       "      <th>3</th>\n",
       "      <td>878424520658493440</td>\n",
       "      <td>AcuteCareAPTA</td>\n",
       "      <td>RT @RehabHopkins: Johns Hopkins Activity Mobil...</td>\n",
       "      <td>2</td>\n",
       "      <td>0</td>\n",
       "      <td>Sat Jun 24 01:28:20 +0000 2017</td>\n",
       "    </tr>\n",
       "    <tr>\n",
       "      <th>4</th>\n",
       "      <td>878424001927892993</td>\n",
       "      <td>onobeth</td>\n",
       "      <td>RT @APTAnext: The #Oxford Debate is under way ...</td>\n",
       "      <td>3</td>\n",
       "      <td>0</td>\n",
       "      <td>Sat Jun 24 01:26:17 +0000 2017</td>\n",
       "    </tr>\n",
       "  </tbody>\n",
       "</table>\n",
       "</div>"
      ],
      "text/plain": [
       "                   id             user  \\\n",
       "0  878427862633730049   DrBryanStewart   \n",
       "1  878427339708932096  JustinJorgensen   \n",
       "2  878425535243747328  JustinJorgensen   \n",
       "3  878424520658493440    AcuteCareAPTA   \n",
       "4  878424001927892993          onobeth   \n",
       "\n",
       "                                                text  retweet_count  \\\n",
       "0  RT @alanleeDPT: Now, Don't miss these topic of...              1   \n",
       "1  RT @RJPeacockSPT: \"Exercise is movement and mo...              5   \n",
       "2  RT @RJPeacockSPT: Dr. Shields \"The new frontie...              4   \n",
       "3  RT @RehabHopkins: Johns Hopkins Activity Mobil...              2   \n",
       "4  RT @APTAnext: The #Oxford Debate is under way ...              3   \n",
       "\n",
       "   favorite_count                      created_at  \n",
       "0               0  Sat Jun 24 01:41:37 +0000 2017  \n",
       "1               0  Sat Jun 24 01:39:32 +0000 2017  \n",
       "2               0  Sat Jun 24 01:32:22 +0000 2017  \n",
       "3               0  Sat Jun 24 01:28:20 +0000 2017  \n",
       "4               0  Sat Jun 24 01:26:17 +0000 2017  "
      ]
     },
     "execution_count": 12,
     "metadata": {},
     "output_type": "execute_result"
    }
   ],
   "source": [
    "df_NextD2.head()"
   ]
  },
  {
   "cell_type": "code",
   "execution_count": 13,
   "metadata": {
    "collapsed": false
   },
   "outputs": [
    {
     "data": {
      "text/html": [
       "<div>\n",
       "<table border=\"1\" class=\"dataframe\">\n",
       "  <thead>\n",
       "    <tr style=\"text-align: right;\">\n",
       "      <th></th>\n",
       "      <th>id</th>\n",
       "      <th>user</th>\n",
       "      <th>text</th>\n",
       "      <th>retweet_count</th>\n",
       "      <th>favorite_count</th>\n",
       "      <th>created_at</th>\n",
       "    </tr>\n",
       "  </thead>\n",
       "  <tbody>\n",
       "    <tr>\n",
       "      <th>2193</th>\n",
       "      <td>875084686019760128</td>\n",
       "      <td>FOXRehab</td>\n",
       "      <td>Want to know #WhereToFindFOX? We'll be at #APT...</td>\n",
       "      <td>1</td>\n",
       "      <td>2</td>\n",
       "      <td>Wed Jun 14 20:17:02 +0000 2017</td>\n",
       "    </tr>\n",
       "    <tr>\n",
       "      <th>2194</th>\n",
       "      <td>875077222859776002</td>\n",
       "      <td>LiamNardoe</td>\n",
       "      <td>Looking forward to @APTAnext conference in my ...</td>\n",
       "      <td>0</td>\n",
       "      <td>3</td>\n",
       "      <td>Wed Jun 14 19:47:22 +0000 2017</td>\n",
       "    </tr>\n",
       "    <tr>\n",
       "      <th>2195</th>\n",
       "      <td>875054060478623745</td>\n",
       "      <td>PTPintcast</td>\n",
       "      <td>We'll see you in Boston @APTAnext #APTANEXT #D...</td>\n",
       "      <td>0</td>\n",
       "      <td>2</td>\n",
       "      <td>Wed Jun 14 18:15:20 +0000 2017</td>\n",
       "    </tr>\n",
       "    <tr>\n",
       "      <th>2196</th>\n",
       "      <td>875019369411215360</td>\n",
       "      <td>Kendra_PT4Life</td>\n",
       "      <td>RT @APTAnext: Here we go...our annual list of ...</td>\n",
       "      <td>15</td>\n",
       "      <td>0</td>\n",
       "      <td>Wed Jun 14 15:57:29 +0000 2017</td>\n",
       "    </tr>\n",
       "    <tr>\n",
       "      <th>2197</th>\n",
       "      <td>875009642409189376</td>\n",
       "      <td>ihartrecruit</td>\n",
       "      <td>Don't forget to stop by the @DignityHlthJobs b...</td>\n",
       "      <td>0</td>\n",
       "      <td>1</td>\n",
       "      <td>Wed Jun 14 15:18:50 +0000 2017</td>\n",
       "    </tr>\n",
       "  </tbody>\n",
       "</table>\n",
       "</div>"
      ],
      "text/plain": [
       "                      id            user  \\\n",
       "2193  875084686019760128        FOXRehab   \n",
       "2194  875077222859776002      LiamNardoe   \n",
       "2195  875054060478623745      PTPintcast   \n",
       "2196  875019369411215360  Kendra_PT4Life   \n",
       "2197  875009642409189376    ihartrecruit   \n",
       "\n",
       "                                                   text  retweet_count  \\\n",
       "2193  Want to know #WhereToFindFOX? We'll be at #APT...              1   \n",
       "2194  Looking forward to @APTAnext conference in my ...              0   \n",
       "2195  We'll see you in Boston @APTAnext #APTANEXT #D...              0   \n",
       "2196  RT @APTAnext: Here we go...our annual list of ...             15   \n",
       "2197  Don't forget to stop by the @DignityHlthJobs b...              0   \n",
       "\n",
       "      favorite_count                      created_at  \n",
       "2193               2  Wed Jun 14 20:17:02 +0000 2017  \n",
       "2194               3  Wed Jun 14 19:47:22 +0000 2017  \n",
       "2195               2  Wed Jun 14 18:15:20 +0000 2017  \n",
       "2196               0  Wed Jun 14 15:57:29 +0000 2017  \n",
       "2197               1  Wed Jun 14 15:18:50 +0000 2017  "
      ]
     },
     "execution_count": 13,
     "metadata": {},
     "output_type": "execute_result"
    }
   ],
   "source": [
    "df_NextD2.tail()"
   ]
  },
  {
   "cell_type": "markdown",
   "metadata": {},
   "source": [
    "It all looks good.  \n",
    "Now I need to change the 'created_at' column to a different format that will make is easier for me to split up the data sets. "
   ]
  },
  {
   "cell_type": "code",
   "execution_count": 14,
   "metadata": {
    "collapsed": true
   },
   "outputs": [],
   "source": [
    "df_NextD2['created_at'] = pd.to_datetime(df_NextD2['created_at'])"
   ]
  },
  {
   "cell_type": "code",
   "execution_count": 15,
   "metadata": {
    "collapsed": false
   },
   "outputs": [
    {
     "data": {
      "text/html": [
       "<div>\n",
       "<table border=\"1\" class=\"dataframe\">\n",
       "  <thead>\n",
       "    <tr style=\"text-align: right;\">\n",
       "      <th></th>\n",
       "      <th>id</th>\n",
       "      <th>user</th>\n",
       "      <th>text</th>\n",
       "      <th>retweet_count</th>\n",
       "      <th>favorite_count</th>\n",
       "      <th>created_at</th>\n",
       "    </tr>\n",
       "  </thead>\n",
       "  <tbody>\n",
       "    <tr>\n",
       "      <th>0</th>\n",
       "      <td>878427862633730049</td>\n",
       "      <td>DrBryanStewart</td>\n",
       "      <td>RT @alanleeDPT: Now, Don't miss these topic of...</td>\n",
       "      <td>1</td>\n",
       "      <td>0</td>\n",
       "      <td>2017-06-24 01:41:37</td>\n",
       "    </tr>\n",
       "    <tr>\n",
       "      <th>1</th>\n",
       "      <td>878427339708932096</td>\n",
       "      <td>JustinJorgensen</td>\n",
       "      <td>RT @RJPeacockSPT: \"Exercise is movement and mo...</td>\n",
       "      <td>5</td>\n",
       "      <td>0</td>\n",
       "      <td>2017-06-24 01:39:32</td>\n",
       "    </tr>\n",
       "    <tr>\n",
       "      <th>2</th>\n",
       "      <td>878425535243747328</td>\n",
       "      <td>JustinJorgensen</td>\n",
       "      <td>RT @RJPeacockSPT: Dr. Shields \"The new frontie...</td>\n",
       "      <td>4</td>\n",
       "      <td>0</td>\n",
       "      <td>2017-06-24 01:32:22</td>\n",
       "    </tr>\n",
       "    <tr>\n",
       "      <th>3</th>\n",
       "      <td>878424520658493440</td>\n",
       "      <td>AcuteCareAPTA</td>\n",
       "      <td>RT @RehabHopkins: Johns Hopkins Activity Mobil...</td>\n",
       "      <td>2</td>\n",
       "      <td>0</td>\n",
       "      <td>2017-06-24 01:28:20</td>\n",
       "    </tr>\n",
       "    <tr>\n",
       "      <th>4</th>\n",
       "      <td>878424001927892993</td>\n",
       "      <td>onobeth</td>\n",
       "      <td>RT @APTAnext: The #Oxford Debate is under way ...</td>\n",
       "      <td>3</td>\n",
       "      <td>0</td>\n",
       "      <td>2017-06-24 01:26:17</td>\n",
       "    </tr>\n",
       "  </tbody>\n",
       "</table>\n",
       "</div>"
      ],
      "text/plain": [
       "                   id             user  \\\n",
       "0  878427862633730049   DrBryanStewart   \n",
       "1  878427339708932096  JustinJorgensen   \n",
       "2  878425535243747328  JustinJorgensen   \n",
       "3  878424520658493440    AcuteCareAPTA   \n",
       "4  878424001927892993          onobeth   \n",
       "\n",
       "                                                text  retweet_count  \\\n",
       "0  RT @alanleeDPT: Now, Don't miss these topic of...              1   \n",
       "1  RT @RJPeacockSPT: \"Exercise is movement and mo...              5   \n",
       "2  RT @RJPeacockSPT: Dr. Shields \"The new frontie...              4   \n",
       "3  RT @RehabHopkins: Johns Hopkins Activity Mobil...              2   \n",
       "4  RT @APTAnext: The #Oxford Debate is under way ...              3   \n",
       "\n",
       "   favorite_count          created_at  \n",
       "0               0 2017-06-24 01:41:37  \n",
       "1               0 2017-06-24 01:39:32  \n",
       "2               0 2017-06-24 01:32:22  \n",
       "3               0 2017-06-24 01:28:20  \n",
       "4               0 2017-06-24 01:26:17  "
      ]
     },
     "execution_count": 15,
     "metadata": {},
     "output_type": "execute_result"
    }
   ],
   "source": [
    "df_NextD2.head()"
   ]
  },
  {
   "cell_type": "markdown",
   "metadata": {},
   "source": [
    "I collected the data on the second official day of the conference (Friday, June 23) and am really interested in learning about what happened on that day, so I'm only going to look at tweets from that day. Below I'll get rid of all ofthe ones before June 23, and that occurred after midnight on June 23 (we'll include those in the day 3 analysis). "
   ]
  },
  {
   "cell_type": "code",
   "execution_count": 17,
   "metadata": {
    "collapsed": false
   },
   "outputs": [
    {
     "data": {
      "text/plain": [
       "686"
      ]
     },
     "execution_count": 17,
     "metadata": {},
     "output_type": "execute_result"
    }
   ],
   "source": [
    "df1 = df_NextD2[df_NextD2['created_at'] > '2017-06-23']\n",
    "df_NextD2 = df1[df1['created_at'] < '2017-06-24']\n",
    "len(df_NextD2)"
   ]
  },
  {
   "cell_type": "markdown",
   "metadata": {},
   "source": [
    "Now I'll make a new column that adds retweets plus favorites. That will give some idea of the importance of a particular tweet. "
   ]
  },
  {
   "cell_type": "code",
   "execution_count": 18,
   "metadata": {
    "collapsed": false
   },
   "outputs": [
    {
     "name": "stderr",
     "output_type": "stream",
     "text": [
      "/Users/Cody/anaconda/lib/python2.7/site-packages/ipykernel/__main__.py:1: SettingWithCopyWarning: \n",
      "A value is trying to be set on a copy of a slice from a DataFrame.\n",
      "Try using .loc[row_indexer,col_indexer] = value instead\n",
      "\n",
      "See the caveats in the documentation: http://pandas.pydata.org/pandas-docs/stable/indexing.html#indexing-view-versus-copy\n",
      "  if __name__ == '__main__':\n"
     ]
    },
    {
     "data": {
      "text/html": [
       "<div>\n",
       "<table border=\"1\" class=\"dataframe\">\n",
       "  <thead>\n",
       "    <tr style=\"text-align: right;\">\n",
       "      <th></th>\n",
       "      <th>id</th>\n",
       "      <th>user</th>\n",
       "      <th>text</th>\n",
       "      <th>retweet_count</th>\n",
       "      <th>favorite_count</th>\n",
       "      <th>created_at</th>\n",
       "      <th>important_tweets</th>\n",
       "    </tr>\n",
       "  </thead>\n",
       "  <tbody>\n",
       "    <tr>\n",
       "      <th>20</th>\n",
       "      <td>878399533314715648</td>\n",
       "      <td>acapt2</td>\n",
       "      <td>RT @APTAtweets: Miss last night's unforgettabl...</td>\n",
       "      <td>14</td>\n",
       "      <td>0</td>\n",
       "      <td>2017-06-23 23:49:03</td>\n",
       "      <td>14</td>\n",
       "    </tr>\n",
       "    <tr>\n",
       "      <th>21</th>\n",
       "      <td>878398597506764801</td>\n",
       "      <td>acapt2</td>\n",
       "      <td>RT @TimRethornSPT: Both @APTAtweets and @acapt...</td>\n",
       "      <td>1</td>\n",
       "      <td>0</td>\n",
       "      <td>2017-06-23 23:45:20</td>\n",
       "      <td>1</td>\n",
       "    </tr>\n",
       "    <tr>\n",
       "      <th>22</th>\n",
       "      <td>878396097370214400</td>\n",
       "      <td>EThoesDPT</td>\n",
       "      <td>RT @RJPeacockSPT: \"Exercise is movement and mo...</td>\n",
       "      <td>5</td>\n",
       "      <td>0</td>\n",
       "      <td>2017-06-23 23:35:24</td>\n",
       "      <td>5</td>\n",
       "    </tr>\n",
       "    <tr>\n",
       "      <th>23</th>\n",
       "      <td>878392199028854784</td>\n",
       "      <td>ayddin1</td>\n",
       "      <td>What a fun debate!! Had lots of laugh! #APTANE...</td>\n",
       "      <td>0</td>\n",
       "      <td>1</td>\n",
       "      <td>2017-06-23 23:19:54</td>\n",
       "      <td>1</td>\n",
       "    </tr>\n",
       "    <tr>\n",
       "      <th>24</th>\n",
       "      <td>878391799215255552</td>\n",
       "      <td>TheSteph21</td>\n",
       "      <td>Harbor view is the best view #APTAnext https:/...</td>\n",
       "      <td>0</td>\n",
       "      <td>0</td>\n",
       "      <td>2017-06-23 23:18:19</td>\n",
       "      <td>0</td>\n",
       "    </tr>\n",
       "  </tbody>\n",
       "</table>\n",
       "</div>"
      ],
      "text/plain": [
       "                    id        user  \\\n",
       "20  878399533314715648      acapt2   \n",
       "21  878398597506764801      acapt2   \n",
       "22  878396097370214400   EThoesDPT   \n",
       "23  878392199028854784     ayddin1   \n",
       "24  878391799215255552  TheSteph21   \n",
       "\n",
       "                                                 text  retweet_count  \\\n",
       "20  RT @APTAtweets: Miss last night's unforgettabl...             14   \n",
       "21  RT @TimRethornSPT: Both @APTAtweets and @acapt...              1   \n",
       "22  RT @RJPeacockSPT: \"Exercise is movement and mo...              5   \n",
       "23  What a fun debate!! Had lots of laugh! #APTANE...              0   \n",
       "24  Harbor view is the best view #APTAnext https:/...              0   \n",
       "\n",
       "    favorite_count          created_at  important_tweets  \n",
       "20               0 2017-06-23 23:49:03                14  \n",
       "21               0 2017-06-23 23:45:20                 1  \n",
       "22               0 2017-06-23 23:35:24                 5  \n",
       "23               1 2017-06-23 23:19:54                 1  \n",
       "24               0 2017-06-23 23:18:19                 0  "
      ]
     },
     "execution_count": 18,
     "metadata": {},
     "output_type": "execute_result"
    }
   ],
   "source": [
    "df_NextD2['important_tweets'] = df_NextD2['retweet_count'] + df_NextD2['favorite_count']\n",
    "df_NextD2.head()"
   ]
  },
  {
   "cell_type": "markdown",
   "metadata": {
    "collapsed": false
   },
   "source": [
    "Next, we to adjust the data set to only look at origional tweets, not retweets. "
   ]
  },
  {
   "cell_type": "markdown",
   "metadata": {},
   "source": [
    "First, I'll make a column looking at whether or not is was retweeted"
   ]
  },
  {
   "cell_type": "code",
   "execution_count": 19,
   "metadata": {
    "collapsed": false
   },
   "outputs": [
    {
     "name": "stderr",
     "output_type": "stream",
     "text": [
      "/Users/Cody/anaconda/lib/python2.7/site-packages/ipykernel/__main__.py:1: SettingWithCopyWarning: \n",
      "A value is trying to be set on a copy of a slice from a DataFrame.\n",
      "Try using .loc[row_indexer,col_indexer] = value instead\n",
      "\n",
      "See the caveats in the documentation: http://pandas.pydata.org/pandas-docs/stable/indexing.html#indexing-view-versus-copy\n",
      "  if __name__ == '__main__':\n"
     ]
    }
   ],
   "source": [
    "df_NextD2['retweeted'] = df_NextD2['text'].str.startswith('RT')"
   ]
  },
  {
   "cell_type": "code",
   "execution_count": 21,
   "metadata": {
    "collapsed": false
   },
   "outputs": [
    {
     "data": {
      "text/html": [
       "<div>\n",
       "<table border=\"1\" class=\"dataframe\">\n",
       "  <thead>\n",
       "    <tr style=\"text-align: right;\">\n",
       "      <th></th>\n",
       "      <th>id</th>\n",
       "      <th>user</th>\n",
       "      <th>text</th>\n",
       "      <th>retweet_count</th>\n",
       "      <th>favorite_count</th>\n",
       "      <th>created_at</th>\n",
       "      <th>important_tweets</th>\n",
       "      <th>retweeted</th>\n",
       "    </tr>\n",
       "  </thead>\n",
       "  <tbody>\n",
       "    <tr>\n",
       "      <th>20</th>\n",
       "      <td>878399533314715648</td>\n",
       "      <td>acapt2</td>\n",
       "      <td>RT @APTAtweets: Miss last night's unforgettabl...</td>\n",
       "      <td>14</td>\n",
       "      <td>0</td>\n",
       "      <td>2017-06-23 23:49:03</td>\n",
       "      <td>14</td>\n",
       "      <td>True</td>\n",
       "    </tr>\n",
       "    <tr>\n",
       "      <th>21</th>\n",
       "      <td>878398597506764801</td>\n",
       "      <td>acapt2</td>\n",
       "      <td>RT @TimRethornSPT: Both @APTAtweets and @acapt...</td>\n",
       "      <td>1</td>\n",
       "      <td>0</td>\n",
       "      <td>2017-06-23 23:45:20</td>\n",
       "      <td>1</td>\n",
       "      <td>True</td>\n",
       "    </tr>\n",
       "    <tr>\n",
       "      <th>22</th>\n",
       "      <td>878396097370214400</td>\n",
       "      <td>EThoesDPT</td>\n",
       "      <td>RT @RJPeacockSPT: \"Exercise is movement and mo...</td>\n",
       "      <td>5</td>\n",
       "      <td>0</td>\n",
       "      <td>2017-06-23 23:35:24</td>\n",
       "      <td>5</td>\n",
       "      <td>True</td>\n",
       "    </tr>\n",
       "    <tr>\n",
       "      <th>23</th>\n",
       "      <td>878392199028854784</td>\n",
       "      <td>ayddin1</td>\n",
       "      <td>What a fun debate!! Had lots of laugh! #APTANE...</td>\n",
       "      <td>0</td>\n",
       "      <td>1</td>\n",
       "      <td>2017-06-23 23:19:54</td>\n",
       "      <td>1</td>\n",
       "      <td>False</td>\n",
       "    </tr>\n",
       "    <tr>\n",
       "      <th>24</th>\n",
       "      <td>878391799215255552</td>\n",
       "      <td>TheSteph21</td>\n",
       "      <td>Harbor view is the best view #APTAnext https:/...</td>\n",
       "      <td>0</td>\n",
       "      <td>0</td>\n",
       "      <td>2017-06-23 23:18:19</td>\n",
       "      <td>0</td>\n",
       "      <td>False</td>\n",
       "    </tr>\n",
       "  </tbody>\n",
       "</table>\n",
       "</div>"
      ],
      "text/plain": [
       "                    id        user  \\\n",
       "20  878399533314715648      acapt2   \n",
       "21  878398597506764801      acapt2   \n",
       "22  878396097370214400   EThoesDPT   \n",
       "23  878392199028854784     ayddin1   \n",
       "24  878391799215255552  TheSteph21   \n",
       "\n",
       "                                                 text  retweet_count  \\\n",
       "20  RT @APTAtweets: Miss last night's unforgettabl...             14   \n",
       "21  RT @TimRethornSPT: Both @APTAtweets and @acapt...              1   \n",
       "22  RT @RJPeacockSPT: \"Exercise is movement and mo...              5   \n",
       "23  What a fun debate!! Had lots of laugh! #APTANE...              0   \n",
       "24  Harbor view is the best view #APTAnext https:/...              0   \n",
       "\n",
       "    favorite_count          created_at  important_tweets retweeted  \n",
       "20               0 2017-06-23 23:49:03                14      True  \n",
       "21               0 2017-06-23 23:45:20                 1      True  \n",
       "22               0 2017-06-23 23:35:24                 5      True  \n",
       "23               1 2017-06-23 23:19:54                 1     False  \n",
       "24               0 2017-06-23 23:18:19                 0     False  "
      ]
     },
     "execution_count": 21,
     "metadata": {},
     "output_type": "execute_result"
    }
   ],
   "source": [
    "df_NextD2.head()"
   ]
  },
  {
   "cell_type": "markdown",
   "metadata": {},
   "source": [
    "### Total Tweets\n",
    "Now I'll include only the origional tweets in the data set. \n",
    "Then I'll look at how many we have"
   ]
  },
  {
   "cell_type": "code",
   "execution_count": 22,
   "metadata": {
    "collapsed": false
   },
   "outputs": [
    {
     "data": {
      "text/plain": [
       "397"
      ]
     },
     "execution_count": 22,
     "metadata": {},
     "output_type": "execute_result"
    }
   ],
   "source": [
    "df_NextD2 = df_NextD2[df_NextD2['retweeted'] == False]\n",
    "len(df_NextD2)"
   ]
  },
  {
   "cell_type": "markdown",
   "metadata": {},
   "source": [
    "### Total Retweets and Total Favorites\n",
    "Next, let's look at some numbers from the full conference data set.   \n",
    "We have total tweets (664). Let's also look at total retweets and total favorites"
   ]
  },
  {
   "cell_type": "code",
   "execution_count": 23,
   "metadata": {
    "collapsed": false
   },
   "outputs": [
    {
     "name": "stdout",
     "output_type": "stream",
     "text": [
      "279\n",
      "993\n"
     ]
    }
   ],
   "source": [
    "nextD2_retweets = df_NextD2['retweet_count'].sum()\n",
    "print nextD2_retweets\n",
    "nextD2_favorites = df_NextD2['favorite_count'].sum()\n",
    "print nextD2_favorites"
   ]
  },
  {
   "cell_type": "markdown",
   "metadata": {},
   "source": [
    "## Top 10 Tweets from \n",
    "Now let's look at the 10 most importatn tweets.  \n",
    "First we'll sort the data by \"important_tweets\" to with highest number on top.  \n",
    "Then we'll show the top 10\n",
    "If you want to see the origional tweet, just go to http://twitter.com/statuses/ and put the tweet ID at the end after that last \"/\""
   ]
  },
  {
   "cell_type": "code",
   "execution_count": 24,
   "metadata": {
    "collapsed": false
   },
   "outputs": [
    {
     "data": {
      "text/html": [
       "<div>\n",
       "<table border=\"1\" class=\"dataframe\">\n",
       "  <thead>\n",
       "    <tr style=\"text-align: right;\">\n",
       "      <th></th>\n",
       "      <th>id</th>\n",
       "      <th>user</th>\n",
       "      <th>text</th>\n",
       "      <th>retweet_count</th>\n",
       "      <th>favorite_count</th>\n",
       "      <th>created_at</th>\n",
       "      <th>important_tweets</th>\n",
       "      <th>retweeted</th>\n",
       "    </tr>\n",
       "  </thead>\n",
       "  <tbody>\n",
       "    <tr>\n",
       "      <th>669</th>\n",
       "      <td>878056660052451328</td>\n",
       "      <td>Foundation4PT</td>\n",
       "      <td>Big News out of the FPT during PT PARTY at #AP...</td>\n",
       "      <td>14</td>\n",
       "      <td>30</td>\n",
       "      <td>2017-06-23 01:06:35</td>\n",
       "      <td>44</td>\n",
       "      <td>False</td>\n",
       "    </tr>\n",
       "    <tr>\n",
       "      <th>547</th>\n",
       "      <td>878233527036166144</td>\n",
       "      <td>policy4pt</td>\n",
       "      <td>On shoulders of giants.  @APTAtweets President...</td>\n",
       "      <td>7</td>\n",
       "      <td>29</td>\n",
       "      <td>2017-06-23 12:49:24</td>\n",
       "      <td>36</td>\n",
       "      <td>False</td>\n",
       "    </tr>\n",
       "    <tr>\n",
       "      <th>695</th>\n",
       "      <td>878049676242673664</td>\n",
       "      <td>Foundation4PT</td>\n",
       "      <td>HAPPENING NOW: Stanley Paris &amp;amp; Catherine P...</td>\n",
       "      <td>5</td>\n",
       "      <td>25</td>\n",
       "      <td>2017-06-23 00:38:50</td>\n",
       "      <td>30</td>\n",
       "      <td>False</td>\n",
       "    </tr>\n",
       "    <tr>\n",
       "      <th>367</th>\n",
       "      <td>878261033391054848</td>\n",
       "      <td>APTAnext</td>\n",
       "      <td>\"You cannot measure the added value of innovat...</td>\n",
       "      <td>9</td>\n",
       "      <td>17</td>\n",
       "      <td>2017-06-23 14:38:42</td>\n",
       "      <td>26</td>\n",
       "      <td>False</td>\n",
       "    </tr>\n",
       "    <tr>\n",
       "      <th>277</th>\n",
       "      <td>878282489009127425</td>\n",
       "      <td>gilligggan_spt</td>\n",
       "      <td>I took @DunnSdunn2's advice and decided to #Be...</td>\n",
       "      <td>0</td>\n",
       "      <td>21</td>\n",
       "      <td>2017-06-23 16:03:57</td>\n",
       "      <td>21</td>\n",
       "      <td>False</td>\n",
       "    </tr>\n",
       "    <tr>\n",
       "      <th>535</th>\n",
       "      <td>878238967673405442</td>\n",
       "      <td>johnnyowensCFI</td>\n",
       "      <td>Excited to present our #BFR talk tomorrow with...</td>\n",
       "      <td>1</td>\n",
       "      <td>19</td>\n",
       "      <td>2017-06-23 13:11:01</td>\n",
       "      <td>20</td>\n",
       "      <td>False</td>\n",
       "    </tr>\n",
       "    <tr>\n",
       "      <th>440</th>\n",
       "      <td>878256759667806208</td>\n",
       "      <td>policy4pt</td>\n",
       "      <td>To create culture..  articulate it, measure it...</td>\n",
       "      <td>6</td>\n",
       "      <td>13</td>\n",
       "      <td>2017-06-23 14:21:43</td>\n",
       "      <td>19</td>\n",
       "      <td>False</td>\n",
       "    </tr>\n",
       "    <tr>\n",
       "      <th>339</th>\n",
       "      <td>878263655225204736</td>\n",
       "      <td>APTAnext</td>\n",
       "      <td>\"If research results are not adopted into cont...</td>\n",
       "      <td>7</td>\n",
       "      <td>10</td>\n",
       "      <td>2017-06-23 14:49:07</td>\n",
       "      <td>17</td>\n",
       "      <td>False</td>\n",
       "    </tr>\n",
       "    <tr>\n",
       "      <th>491</th>\n",
       "      <td>878253739538227201</td>\n",
       "      <td>APTAnext</td>\n",
       "      <td>The 22nd John H.P. #Maley Lecture, \"Strike Whi...</td>\n",
       "      <td>5</td>\n",
       "      <td>11</td>\n",
       "      <td>2017-06-23 14:09:43</td>\n",
       "      <td>16</td>\n",
       "      <td>False</td>\n",
       "    </tr>\n",
       "    <tr>\n",
       "      <th>104</th>\n",
       "      <td>878358785219108864</td>\n",
       "      <td>APTAnext</td>\n",
       "      <td>That's how you fire up an #Oxford Debate crowd...</td>\n",
       "      <td>2</td>\n",
       "      <td>14</td>\n",
       "      <td>2017-06-23 21:07:08</td>\n",
       "      <td>16</td>\n",
       "      <td>False</td>\n",
       "    </tr>\n",
       "  </tbody>\n",
       "</table>\n",
       "</div>"
      ],
      "text/plain": [
       "                     id            user  \\\n",
       "669  878056660052451328   Foundation4PT   \n",
       "547  878233527036166144       policy4pt   \n",
       "695  878049676242673664   Foundation4PT   \n",
       "367  878261033391054848        APTAnext   \n",
       "277  878282489009127425  gilligggan_spt   \n",
       "535  878238967673405442  johnnyowensCFI   \n",
       "440  878256759667806208       policy4pt   \n",
       "339  878263655225204736        APTAnext   \n",
       "491  878253739538227201        APTAnext   \n",
       "104  878358785219108864        APTAnext   \n",
       "\n",
       "                                                  text  retweet_count  \\\n",
       "669  Big News out of the FPT during PT PARTY at #AP...             14   \n",
       "547  On shoulders of giants.  @APTAtweets President...              7   \n",
       "695  HAPPENING NOW: Stanley Paris &amp; Catherine P...              5   \n",
       "367  \"You cannot measure the added value of innovat...              9   \n",
       "277  I took @DunnSdunn2's advice and decided to #Be...              0   \n",
       "535  Excited to present our #BFR talk tomorrow with...              1   \n",
       "440  To create culture..  articulate it, measure it...              6   \n",
       "339  \"If research results are not adopted into cont...              7   \n",
       "491  The 22nd John H.P. #Maley Lecture, \"Strike Whi...              5   \n",
       "104  That's how you fire up an #Oxford Debate crowd...              2   \n",
       "\n",
       "     favorite_count          created_at  important_tweets retweeted  \n",
       "669              30 2017-06-23 01:06:35                44     False  \n",
       "547              29 2017-06-23 12:49:24                36     False  \n",
       "695              25 2017-06-23 00:38:50                30     False  \n",
       "367              17 2017-06-23 14:38:42                26     False  \n",
       "277              21 2017-06-23 16:03:57                21     False  \n",
       "535              19 2017-06-23 13:11:01                20     False  \n",
       "440              13 2017-06-23 14:21:43                19     False  \n",
       "339              10 2017-06-23 14:49:07                17     False  \n",
       "491              11 2017-06-23 14:09:43                16     False  \n",
       "104              14 2017-06-23 21:07:08                16     False  "
      ]
     },
     "execution_count": 24,
     "metadata": {},
     "output_type": "execute_result"
    }
   ],
   "source": [
    "sorted_NextD2 = df_NextD2.sort_values(['important_tweets'], ascending = False)\n",
    "sorted_NextD2.head(10)"
   ]
  },
  {
   "cell_type": "markdown",
   "metadata": {},
   "source": [
    "### Word Cloud\n",
    "The Last step for the full conference analysis is the Word Cloud"
   ]
  },
  {
   "cell_type": "code",
   "execution_count": 25,
   "metadata": {
    "collapsed": false
   },
   "outputs": [
    {
     "data": {
      "image/png": "[encoded data removed]",
      "text/plain": [
       "<matplotlib.figure.Figure at 0x112e60910>"
      ]
     },
     "metadata": {},
     "output_type": "display_data"
    }
   ],
   "source": [
    "text = \" \".join(df_NextD2[\"text\"].values)\n",
    "no_url_no_tag = \" \".join([word for word in text.split(' ')\n",
    "                        if 'http' not in word\n",
    "                        and not word.startswith('@')\n",
    "                        and word != 'RT'\n",
    "                        and word != 'APTANEXT'])\n",
    "wc = WordCloud(background_color=\"white\", font_path=\"/Library/Fonts/Verdana.ttf\", stopwords=STOPWORDS, width=500, height=300)\n",
    "wc.generate(no_url_no_tag)\n",
    "plt.imshow(wc)\n",
    "plt.axis(\"off\")\n",
    "plt.title(\"APTA Next 2017- Day2\")\n",
    "plt.savefig('Next2017D2.png', dpi=500)\n",
    "plt.show()"
   ]
  },
  {
   "cell_type": "markdown",
   "metadata": {
    "collapsed": true
   },
   "source": [
    "That's it!  \n",
    "Hopefully you found this interesting.  \n",
    "If you did, let me know at [@CodyWeisbach](http://twitter.com/codyweisbach) on Twitter and I'll keep it up!"
   ]
  },
  {
   "cell_type": "code",
   "execution_count": null,
   "metadata": {
    "collapsed": true
   },
   "outputs": [],
   "source": []
  }
 ],
 "metadata": {
  "anaconda-cloud": {},
  "kernelspec": {
   "display_name": "Python 2",
   "language": "python",
   "name": "python2"
  },
  "language_info": {
   "codemirror_mode": {
    "name": "ipython",
    "version": 2
   },
   "file_extension": ".py",
   "mimetype": "text/x-python",
   "name": "python",
   "nbconvert_exporter": "python",
   "pygments_lexer": "ipython2",
   "version": "2.7.12"
  }
 },
 "nbformat": 4,
 "nbformat_minor": 0
}
