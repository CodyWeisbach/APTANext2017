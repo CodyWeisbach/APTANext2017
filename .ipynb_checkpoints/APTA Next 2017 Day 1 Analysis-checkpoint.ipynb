{
 "cells": [
  {
   "cell_type": "markdown",
   "metadata": {},
   "source": [
    "# Twitter Analysis of the APTA Next 2017 Conference"
   ]
  },
  {
   "cell_type": "markdown",
   "metadata": {},
   "source": [
    "First I'll import the libraries that are needed"
   ]
  },
  {
   "cell_type": "code",
   "execution_count": 1,
   "metadata": {
    "collapsed": false
   },
   "outputs": [],
   "source": [
    "%matplotlib inline\n",
    "import pymongo\n",
    "from datetime import date\n",
    "import pandas as pd\n",
    "import numpy as np\n",
    "import matplotlib.pyplot as plt\n",
    "from wordcloud import WordCloud, STOPWORDS, ImageColorGenerator\n"
   ]
  },
  {
   "cell_type": "markdown",
   "metadata": {},
   "source": [
    "## APTA Next 2017 Day 1 Analysis"
   ]
  },
  {
   "cell_type": "markdown",
   "metadata": {},
   "source": [
    "### Data Wrangling\n",
    "Before I can analyze anything, I need to get the data out of my database and organize it into a form that can easily be analyzed. "
   ]
  },
  {
   "cell_type": "markdown",
   "metadata": {},
   "source": [
    "First I'll make a connection to my database. Everything is stored in a database called MongoDB on my laptop. "
   ]
  },
  {
   "cell_type": "code",
   "execution_count": 2,
   "metadata": {
    "collapsed": true
   },
   "outputs": [],
   "source": [
    "client_con = pymongo.MongoClient()"
   ]
  },
  {
   "cell_type": "code",
   "execution_count": 3,
   "metadata": {
    "collapsed": false
   },
   "outputs": [
    {
     "data": {
      "text/plain": [
       "[u'local', u'test']"
      ]
     },
     "execution_count": 3,
     "metadata": {},
     "output_type": "execute_result"
    }
   ],
   "source": [
    "client_con.database_names()"
   ]
  },
  {
   "cell_type": "code",
   "execution_count": 4,
   "metadata": {
    "collapsed": true
   },
   "outputs": [],
   "source": [
    "local_db = client_con['test']"
   ]
  },
  {
   "cell_type": "code",
   "execution_count": 5,
   "metadata": {
    "collapsed": false
   },
   "outputs": [
    {
     "data": {
      "text/plain": [
       "[u'Next2017Day1',\n",
       " u'twitter_data',\n",
       " u'ep3',\n",
       " u'ep3west',\n",
       " u'Next2017Day3',\n",
       " u'tweet_practice',\n",
       " u'McMillan',\n",
       " u'Next2017Day2']"
      ]
     },
     "execution_count": 5,
     "metadata": {},
     "output_type": "execute_result"
    }
   ],
   "source": [
    "local_db.collection_names()"
   ]
  },
  {
   "cell_type": "markdown",
   "metadata": {},
   "source": [
    "'Next2017Day1' is the collection with the data from the first day.  \n",
    "I'll load the data into a variable called data_set"
   ]
  },
  {
   "cell_type": "code",
   "execution_count": 8,
   "metadata": {
    "collapsed": false
   },
   "outputs": [],
   "source": [
    "data_set = local_db['Next2017Day1']"
   ]
  },
  {
   "cell_type": "markdown",
   "metadata": {},
   "source": [
    "Next I'll take a quick look at how many tweets are in there"
   ]
  },
  {
   "cell_type": "code",
   "execution_count": 9,
   "metadata": {
    "collapsed": false
   },
   "outputs": [
    {
     "data": {
      "text/plain": [
       "1604"
      ]
     },
     "execution_count": 9,
     "metadata": {},
     "output_type": "execute_result"
    }
   ],
   "source": [
    "data_set.count()"
   ]
  },
  {
   "cell_type": "markdown",
   "metadata": {},
   "source": [
    "In case you are wondering, this is what one tweet looks like. \n",
    "There's a ton of data in each tweet, which is one of the reasons I'm interested in this"
   ]
  },
  {
   "cell_type": "code",
   "execution_count": 10,
   "metadata": {
    "collapsed": false
   },
   "outputs": [
    {
     "name": "stdout",
     "output_type": "stream",
     "text": [
      "{u'contributors': None, u'truncated': False, u'text': u'RT @APTASA: \"It is no longer acceptable to consider skeletal muscle as a mere force vector.\" #APTANEXT #BeBold @APTAtweets @APTAnext https:\\u2026', u'is_quote_status': False, u'in_reply_to_status_id': None, u'id': 878067864380592132L, u'favorite_count': 0, u'source': u'<a href=\"http://twitter.com\" rel=\"nofollow\">Twitter Web Client</a>', u'retweeted': False, u'coordinates': None, u'entities': {u'symbols': [], u'user_mentions': [{u'indices': [3, 10], u'screen_name': u'APTASA', u'id': 94876800, u'name': u'APTAStudentAssembly', u'id_str': u'94876800'}, {u'indices': [111, 122], u'screen_name': u'APTAtweets', u'id': 24901614, u'name': u'APTA', u'id_str': u'24901614'}, {u'indices': [123, 132], u'screen_name': u'APTAnext', u'id': 41384560, u'name': u'APTAnext', u'id_str': u'41384560'}], u'hashtags': [{u'indices': [93, 102], u'text': u'APTANEXT'}, {u'indices': [103, 110], u'text': u'BeBold'}], u'urls': []}, u'in_reply_to_screen_name': None, u'id_str': u'878067864380592132', u'retweet_count': 9, u'in_reply_to_user_id': None, u'favorited': False, u'retweeted_status': {u'contributors': None, u'truncated': True, u'text': u'\"It is no longer acceptable to consider skeletal muscle as a mere force vector.\" #APTANEXT #BeBold @APTAtweets\\u2026 https://t.co/JGnpdZ2Bx9', u'is_quote_status': False, u'in_reply_to_status_id': None, u'id': 877893867709677569L, u'favorite_count': 19, u'source': u'<a href=\"http://twitter.com/download/iphone\" rel=\"nofollow\">Twitter for iPhone</a>', u'retweeted': False, u'coordinates': None, u'entities': {u'symbols': [], u'user_mentions': [{u'indices': [99, 110], u'screen_name': u'APTAtweets', u'id': 24901614, u'name': u'APTA', u'id_str': u'24901614'}], u'hashtags': [{u'indices': [81, 90], u'text': u'APTANEXT'}, {u'indices': [91, 98], u'text': u'BeBold'}], u'urls': [{u'url': u'https://t.co/JGnpdZ2Bx9', u'indices': [112, 135], u'expanded_url': u'https://twitter.com/i/web/status/877893867709677569', u'display_url': u'twitter.com/i/web/status/8\\u2026'}]}, u'in_reply_to_screen_name': None, u'id_str': u'877893867709677569', u'retweet_count': 9, u'in_reply_to_user_id': None, u'favorited': False, u'user': {u'follow_request_sent': None, u'has_extended_profile': False, u'profile_use_background_image': False, u'time_zone': u'Central Time (US & Canada)', u'id': 94876800, u'default_profile': False, u'verified': False, u'profile_text_color': u'000000', u'profile_image_url_https': u'https://pbs.twimg.com/profile_images/451023861589348352/uXCSmg31_normal.png', u'profile_sidebar_fill_color': u'000000', u'is_translator': False, u'geo_enabled': True, u'entities': {u'url': {u'urls': [{u'url': u'https://t.co/hsAJyGcrMS', u'indices': [0, 23], u'expanded_url': u'http://www.apta.org/CurrentStudents', u'display_url': u'apta.org/CurrentStudents'}]}, u'description': {u'urls': []}}, u'followers_count': 11535, u'protected': False, u'id_str': u'94876800', u'default_profile_image': False, u'listed_count': 154, u'lang': u'en', u'utc_offset': -18000, u'statuses_count': 8688, u'description': u\"|| American Physical Therapy Association's Student Assembly || Hashtags to Follow: #DPTstudent #PTAstudent #XchangeSA #PTadvocacy #PTtransforms #APTAmember ||\", u'friends_count': 1942, u'profile_link_color': u'FA743E', u'profile_image_url': u'http://pbs.twimg.com/profile_images/451023861589348352/uXCSmg31_normal.png', u'notifications': None, u'profile_background_image_url_https': u'https://abs.twimg.com/images/themes/theme15/bg.png', u'profile_background_color': u'0084B4', u'profile_banner_url': u'https://pbs.twimg.com/profile_banners/94876800/1491931917', u'profile_background_image_url': u'http://abs.twimg.com/images/themes/theme15/bg.png', u'name': u'APTAStudentAssembly', u'is_translation_enabled': False, u'profile_background_tile': False, u'favourites_count': 4601, u'screen_name': u'APTASA', u'url': u'https://t.co/hsAJyGcrMS', u'created_at': u'Sat Dec 05 21:59:25 +0000 2009', u'contributors_enabled': False, u'location': u'Nationwide', u'profile_sidebar_border_color': u'000000', u'translator_type': u'none', u'following': None}, u'geo': None, u'in_reply_to_user_id_str': None, u'possibly_sensitive': False, u'lang': u'en', u'created_at': u'Thu Jun 22 14:19:43 +0000 2017', u'in_reply_to_status_id_str': None, u'place': None, u'metadata': {u'iso_language_code': u'en', u'result_type': u'recent'}}, u'user': {u'follow_request_sent': None, u'has_extended_profile': True, u'profile_use_background_image': True, u'time_zone': u'Atlantic Time (Canada)', u'id': 344807523, u'default_profile': False, u'verified': False, u'profile_text_color': u'333333', u'profile_image_url_https': u'https://pbs.twimg.com/profile_images/728060429788950528/p1ODevik_normal.jpg', u'profile_sidebar_fill_color': u'F6F6F6', u'is_translator': False, u'geo_enabled': True, u'entities': {u'url': {u'urls': [{u'url': u'https://t.co/kokSZrEyzt', u'indices': [0, 23], u'expanded_url': u'http://www.linkedin.com/in/ashleywill25', u'display_url': u'linkedin.com/in/ashleywill25'}]}, u'description': {u'urls': []}}, u'followers_count': 315, u'protected': False, u'id_str': u'344807523', u'default_profile_image': False, u'listed_count': 9, u'lang': u'en', u'utc_offset': -10800, u'statuses_count': 7103, u'description': u'Boston University DPT Student. Vegan. Powerlifter. Cheerleader. Personal Trainer. Avocado Lover.\\n#GetPT1st #ChoosePT', u'friends_count': 293, u'profile_link_color': u'F58EA8', u'profile_image_url': u'http://pbs.twimg.com/profile_images/728060429788950528/p1ODevik_normal.jpg', u'notifications': None, u'profile_background_image_url_https': u'https://pbs.twimg.com/profile_background_images/458378833482088448/TILg3l0G.jpeg', u'profile_background_color': u'ACDED6', u'profile_banner_url': u'https://pbs.twimg.com/profile_banners/344807523/1485563425', u'profile_background_image_url': u'http://pbs.twimg.com/profile_background_images/458378833482088448/TILg3l0G.jpeg', u'name': u'Ashley Will', u'is_translation_enabled': False, u'profile_background_tile': True, u'favourites_count': 1484, u'screen_name': u'AshleyWill25', u'url': u'https://t.co/kokSZrEyzt', u'created_at': u'Fri Jul 29 16:29:27 +0000 2011', u'contributors_enabled': False, u'location': u'Boston, MA', u'profile_sidebar_border_color': u'FFFFFF', u'translator_type': u'none', u'following': None}, u'geo': None, u'in_reply_to_user_id_str': None, u'lang': u'en', u'created_at': u'Fri Jun 23 01:51:07 +0000 2017', u'metadata': {u'iso_language_code': u'en', u'result_type': u'recent'}, u'in_reply_to_status_id_str': None, u'place': None, u'_id': ObjectId('594c74d9c54d2d8f17a5d2de')}\n"
     ]
    }
   ],
   "source": [
    "print data_set.find_one()"
   ]
  },
  {
   "cell_type": "markdown",
   "metadata": {},
   "source": [
    "Now I need to change the format of the data to something easier to look at.\n",
    "First, I'll make the database collection into a list of dictionaries, which is easier to work with in Python"
   ]
  },
  {
   "cell_type": "code",
   "execution_count": 11,
   "metadata": {
    "collapsed": false
   },
   "outputs": [],
   "source": [
    "tweet_data = list(data_set.find())"
   ]
  },
  {
   "cell_type": "markdown",
   "metadata": {},
   "source": [
    "Next I'll make that list into a dataframe, which looks more like a spread sheet\n",
    "I'm going to make it a function that I can use over again for the west data set"
   ]
  },
  {
   "cell_type": "code",
   "execution_count": 12,
   "metadata": {
    "collapsed": false
   },
   "outputs": [],
   "source": [
    "def process_results(results):\n",
    "    id_list = [tweet['id'] for tweet in results]\n",
    "    data_set = pd.DataFrame(id_list, columns = [\"id\"])\n",
    "    \n",
    "    data_set['user'] = [tweet['user']['screen_name'] for tweet in results]\n",
    "    data_set[\"text\"] = [tweet['text'] for tweet in results]\n",
    "    data_set[\"retweet_count\"] = [tweet['retweet_count'] for tweet in results]\n",
    "    data_set[\"favorite_count\"] = [tweet['favorite_count'] for tweet in results]\n",
    "    data_set[\"created_at\"] = [tweet['created_at'] for tweet in results]\n",
    "    \n",
    "    return data_set"
   ]
  },
  {
   "cell_type": "markdown",
   "metadata": {},
   "source": [
    "Now I'll use that function to process my data into the dataframe and store it in a variable df"
   ]
  },
  {
   "cell_type": "code",
   "execution_count": 13,
   "metadata": {
    "collapsed": false
   },
   "outputs": [],
   "source": [
    "df_NextD1 = process_results(tweet_data)"
   ]
  },
  {
   "cell_type": "markdown",
   "metadata": {},
   "source": [
    "Let's take a look at it.  \n",
    "First I'll check the length, hopefully it's the same as my number of records above.  \n",
    "Then I'll look at the top 5 rows and the bottom 5 rows to make sure it all looks right."
   ]
  },
  {
   "cell_type": "code",
   "execution_count": 14,
   "metadata": {
    "collapsed": false
   },
   "outputs": [
    {
     "data": {
      "text/plain": [
       "1604"
      ]
     },
     "execution_count": 14,
     "metadata": {},
     "output_type": "execute_result"
    }
   ],
   "source": [
    "len(df_NextD1)"
   ]
  },
  {
   "cell_type": "code",
   "execution_count": 15,
   "metadata": {
    "collapsed": false
   },
   "outputs": [
    {
     "data": {
      "text/html": [
       "<div>\n",
       "<table border=\"1\" class=\"dataframe\">\n",
       "  <thead>\n",
       "    <tr style=\"text-align: right;\">\n",
       "      <th></th>\n",
       "      <th>id</th>\n",
       "      <th>user</th>\n",
       "      <th>text</th>\n",
       "      <th>retweet_count</th>\n",
       "      <th>favorite_count</th>\n",
       "      <th>created_at</th>\n",
       "    </tr>\n",
       "  </thead>\n",
       "  <tbody>\n",
       "    <tr>\n",
       "      <th>0</th>\n",
       "      <td>878067864380592132</td>\n",
       "      <td>AshleyWill25</td>\n",
       "      <td>RT @APTASA: \"It is no longer acceptable to con...</td>\n",
       "      <td>9</td>\n",
       "      <td>0</td>\n",
       "      <td>Fri Jun 23 01:51:07 +0000 2017</td>\n",
       "    </tr>\n",
       "    <tr>\n",
       "      <th>1</th>\n",
       "      <td>878067775930982401</td>\n",
       "      <td>MaxiMiciak</td>\n",
       "      <td>RT @TimRethornSPT: The power of of de-adoption...</td>\n",
       "      <td>2</td>\n",
       "      <td>0</td>\n",
       "      <td>Fri Jun 23 01:50:46 +0000 2017</td>\n",
       "    </tr>\n",
       "    <tr>\n",
       "      <th>2</th>\n",
       "      <td>878067705605226498</td>\n",
       "      <td>MaxiMiciak</td>\n",
       "      <td>RT @TimRethornSPT: Our research needs to focus...</td>\n",
       "      <td>1</td>\n",
       "      <td>0</td>\n",
       "      <td>Fri Jun 23 01:50:29 +0000 2017</td>\n",
       "    </tr>\n",
       "    <tr>\n",
       "      <th>3</th>\n",
       "      <td>878067688614100996</td>\n",
       "      <td>TheSteph21</td>\n",
       "      <td>Thank you @wustl_pt for supporting students, a...</td>\n",
       "      <td>0</td>\n",
       "      <td>0</td>\n",
       "      <td>Fri Jun 23 01:50:25 +0000 2017</td>\n",
       "    </tr>\n",
       "    <tr>\n",
       "      <th>4</th>\n",
       "      <td>878067533030473728</td>\n",
       "      <td>MaxiMiciak</td>\n",
       "      <td>RT @TimRethornSPT: We know about graded exposu...</td>\n",
       "      <td>3</td>\n",
       "      <td>0</td>\n",
       "      <td>Fri Jun 23 01:49:48 +0000 2017</td>\n",
       "    </tr>\n",
       "  </tbody>\n",
       "</table>\n",
       "</div>"
      ],
      "text/plain": [
       "                   id          user  \\\n",
       "0  878067864380592132  AshleyWill25   \n",
       "1  878067775930982401    MaxiMiciak   \n",
       "2  878067705605226498    MaxiMiciak   \n",
       "3  878067688614100996    TheSteph21   \n",
       "4  878067533030473728    MaxiMiciak   \n",
       "\n",
       "                                                text  retweet_count  \\\n",
       "0  RT @APTASA: \"It is no longer acceptable to con...              9   \n",
       "1  RT @TimRethornSPT: The power of of de-adoption...              2   \n",
       "2  RT @TimRethornSPT: Our research needs to focus...              1   \n",
       "3  Thank you @wustl_pt for supporting students, a...              0   \n",
       "4  RT @TimRethornSPT: We know about graded exposu...              3   \n",
       "\n",
       "   favorite_count                      created_at  \n",
       "0               0  Fri Jun 23 01:51:07 +0000 2017  \n",
       "1               0  Fri Jun 23 01:50:46 +0000 2017  \n",
       "2               0  Fri Jun 23 01:50:29 +0000 2017  \n",
       "3               0  Fri Jun 23 01:50:25 +0000 2017  \n",
       "4               0  Fri Jun 23 01:49:48 +0000 2017  "
      ]
     },
     "execution_count": 15,
     "metadata": {},
     "output_type": "execute_result"
    }
   ],
   "source": [
    "df_NextD1.head()"
   ]
  },
  {
   "cell_type": "code",
   "execution_count": 16,
   "metadata": {
    "collapsed": false
   },
   "outputs": [
    {
     "data": {
      "text/html": [
       "<div>\n",
       "<table border=\"1\" class=\"dataframe\">\n",
       "  <thead>\n",
       "    <tr style=\"text-align: right;\">\n",
       "      <th></th>\n",
       "      <th>id</th>\n",
       "      <th>user</th>\n",
       "      <th>text</th>\n",
       "      <th>retweet_count</th>\n",
       "      <th>favorite_count</th>\n",
       "      <th>created_at</th>\n",
       "    </tr>\n",
       "  </thead>\n",
       "  <tbody>\n",
       "    <tr>\n",
       "      <th>1599</th>\n",
       "      <td>874705269128921088</td>\n",
       "      <td>FLFPTA</td>\n",
       "      <td>RT @APTAnext: Don’t miss the fun at the PT-PAC...</td>\n",
       "      <td>3</td>\n",
       "      <td>0</td>\n",
       "      <td>Tue Jun 13 19:09:22 +0000 2017</td>\n",
       "    </tr>\n",
       "    <tr>\n",
       "      <th>1600</th>\n",
       "      <td>874691688022913028</td>\n",
       "      <td>PTPintcast</td>\n",
       "      <td>We'll see you in Boston @APTAnext   #APTANEXT ...</td>\n",
       "      <td>0</td>\n",
       "      <td>0</td>\n",
       "      <td>Tue Jun 13 18:15:24 +0000 2017</td>\n",
       "    </tr>\n",
       "    <tr>\n",
       "      <th>1601</th>\n",
       "      <td>874684689419776001</td>\n",
       "      <td>jilliant_dpt</td>\n",
       "      <td>RT @EdSectionAPTA: #APTANEXT is almost here! Y...</td>\n",
       "      <td>1</td>\n",
       "      <td>0</td>\n",
       "      <td>Tue Jun 13 17:47:35 +0000 2017</td>\n",
       "    </tr>\n",
       "    <tr>\n",
       "      <th>1602</th>\n",
       "      <td>874679512683991041</td>\n",
       "      <td>EdSectionAPTA</td>\n",
       "      <td>#APTANEXT is almost here! You can sign up here...</td>\n",
       "      <td>1</td>\n",
       "      <td>2</td>\n",
       "      <td>Tue Jun 13 17:27:01 +0000 2017</td>\n",
       "    </tr>\n",
       "    <tr>\n",
       "      <th>1603</th>\n",
       "      <td>874651261764644866</td>\n",
       "      <td>physiogramworld</td>\n",
       "      <td>RT @APTAnext: Here we go...our annual list of ...</td>\n",
       "      <td>15</td>\n",
       "      <td>0</td>\n",
       "      <td>Tue Jun 13 15:34:45 +0000 2017</td>\n",
       "    </tr>\n",
       "  </tbody>\n",
       "</table>\n",
       "</div>"
      ],
      "text/plain": [
       "                      id             user  \\\n",
       "1599  874705269128921088           FLFPTA   \n",
       "1600  874691688022913028       PTPintcast   \n",
       "1601  874684689419776001     jilliant_dpt   \n",
       "1602  874679512683991041    EdSectionAPTA   \n",
       "1603  874651261764644866  physiogramworld   \n",
       "\n",
       "                                                   text  retweet_count  \\\n",
       "1599  RT @APTAnext: Don’t miss the fun at the PT-PAC...              3   \n",
       "1600  We'll see you in Boston @APTAnext   #APTANEXT ...              0   \n",
       "1601  RT @EdSectionAPTA: #APTANEXT is almost here! Y...              1   \n",
       "1602  #APTANEXT is almost here! You can sign up here...              1   \n",
       "1603  RT @APTAnext: Here we go...our annual list of ...             15   \n",
       "\n",
       "      favorite_count                      created_at  \n",
       "1599               0  Tue Jun 13 19:09:22 +0000 2017  \n",
       "1600               0  Tue Jun 13 18:15:24 +0000 2017  \n",
       "1601               0  Tue Jun 13 17:47:35 +0000 2017  \n",
       "1602               2  Tue Jun 13 17:27:01 +0000 2017  \n",
       "1603               0  Tue Jun 13 15:34:45 +0000 2017  "
      ]
     },
     "execution_count": 16,
     "metadata": {},
     "output_type": "execute_result"
    }
   ],
   "source": [
    "df_NextD1.tail()"
   ]
  },
  {
   "cell_type": "markdown",
   "metadata": {},
   "source": [
    "It all looks good.  \n",
    "Now I need to change the 'created_at' column to a different format that will make is easier for me to split up the data sets. "
   ]
  },
  {
   "cell_type": "code",
   "execution_count": 17,
   "metadata": {
    "collapsed": true
   },
   "outputs": [],
   "source": [
    "df_NextD1['created_at'] = pd.to_datetime(df_NextD1['created_at'])"
   ]
  },
  {
   "cell_type": "code",
   "execution_count": 18,
   "metadata": {
    "collapsed": false
   },
   "outputs": [
    {
     "data": {
      "text/html": [
       "<div>\n",
       "<table border=\"1\" class=\"dataframe\">\n",
       "  <thead>\n",
       "    <tr style=\"text-align: right;\">\n",
       "      <th></th>\n",
       "      <th>id</th>\n",
       "      <th>user</th>\n",
       "      <th>text</th>\n",
       "      <th>retweet_count</th>\n",
       "      <th>favorite_count</th>\n",
       "      <th>created_at</th>\n",
       "    </tr>\n",
       "  </thead>\n",
       "  <tbody>\n",
       "    <tr>\n",
       "      <th>0</th>\n",
       "      <td>878067864380592132</td>\n",
       "      <td>AshleyWill25</td>\n",
       "      <td>RT @APTASA: \"It is no longer acceptable to con...</td>\n",
       "      <td>9</td>\n",
       "      <td>0</td>\n",
       "      <td>2017-06-23 01:51:07</td>\n",
       "    </tr>\n",
       "    <tr>\n",
       "      <th>1</th>\n",
       "      <td>878067775930982401</td>\n",
       "      <td>MaxiMiciak</td>\n",
       "      <td>RT @TimRethornSPT: The power of of de-adoption...</td>\n",
       "      <td>2</td>\n",
       "      <td>0</td>\n",
       "      <td>2017-06-23 01:50:46</td>\n",
       "    </tr>\n",
       "    <tr>\n",
       "      <th>2</th>\n",
       "      <td>878067705605226498</td>\n",
       "      <td>MaxiMiciak</td>\n",
       "      <td>RT @TimRethornSPT: Our research needs to focus...</td>\n",
       "      <td>1</td>\n",
       "      <td>0</td>\n",
       "      <td>2017-06-23 01:50:29</td>\n",
       "    </tr>\n",
       "    <tr>\n",
       "      <th>3</th>\n",
       "      <td>878067688614100996</td>\n",
       "      <td>TheSteph21</td>\n",
       "      <td>Thank you @wustl_pt for supporting students, a...</td>\n",
       "      <td>0</td>\n",
       "      <td>0</td>\n",
       "      <td>2017-06-23 01:50:25</td>\n",
       "    </tr>\n",
       "    <tr>\n",
       "      <th>4</th>\n",
       "      <td>878067533030473728</td>\n",
       "      <td>MaxiMiciak</td>\n",
       "      <td>RT @TimRethornSPT: We know about graded exposu...</td>\n",
       "      <td>3</td>\n",
       "      <td>0</td>\n",
       "      <td>2017-06-23 01:49:48</td>\n",
       "    </tr>\n",
       "  </tbody>\n",
       "</table>\n",
       "</div>"
      ],
      "text/plain": [
       "                   id          user  \\\n",
       "0  878067864380592132  AshleyWill25   \n",
       "1  878067775930982401    MaxiMiciak   \n",
       "2  878067705605226498    MaxiMiciak   \n",
       "3  878067688614100996    TheSteph21   \n",
       "4  878067533030473728    MaxiMiciak   \n",
       "\n",
       "                                                text  retweet_count  \\\n",
       "0  RT @APTASA: \"It is no longer acceptable to con...              9   \n",
       "1  RT @TimRethornSPT: The power of of de-adoption...              2   \n",
       "2  RT @TimRethornSPT: Our research needs to focus...              1   \n",
       "3  Thank you @wustl_pt for supporting students, a...              0   \n",
       "4  RT @TimRethornSPT: We know about graded exposu...              3   \n",
       "\n",
       "   favorite_count          created_at  \n",
       "0               0 2017-06-23 01:51:07  \n",
       "1               0 2017-06-23 01:50:46  \n",
       "2               0 2017-06-23 01:50:29  \n",
       "3               0 2017-06-23 01:50:25  \n",
       "4               0 2017-06-23 01:49:48  "
      ]
     },
     "execution_count": 18,
     "metadata": {},
     "output_type": "execute_result"
    }
   ],
   "source": [
    "df_NextD1.head()"
   ]
  },
  {
   "cell_type": "markdown",
   "metadata": {},
   "source": [
    "I collected the data on the first official day of the conference (Thursday, June 22) and am really interested in learning about what happened on that day, so I'm only going to look at tweets from that day. Below I'll get rid of all of the ones before June 22, and that occurred after midnight on June 22 (we'll include those in the day 2 analysis). "
   ]
  },
  {
   "cell_type": "code",
   "execution_count": 19,
   "metadata": {
    "collapsed": false
   },
   "outputs": [
    {
     "data": {
      "text/plain": [
       "965"
      ]
     },
     "execution_count": 19,
     "metadata": {},
     "output_type": "execute_result"
    }
   ],
   "source": [
    "df1 = df_NextD1[df_NextD1['created_at'] > '2017-06-22']\n",
    "df_NextD1 = df1[df1['created_at'] < '2017-06-23']\n",
    "len(df_NextD1)"
   ]
  },
  {
   "cell_type": "markdown",
   "metadata": {},
   "source": [
    "Now We'll re-check the to 5 rows and see if the date's look better."
   ]
  },
  {
   "cell_type": "code",
   "execution_count": 20,
   "metadata": {
    "collapsed": false
   },
   "outputs": [
    {
     "data": {
      "text/html": [
       "<div>\n",
       "<table border=\"1\" class=\"dataframe\">\n",
       "  <thead>\n",
       "    <tr style=\"text-align: right;\">\n",
       "      <th></th>\n",
       "      <th>id</th>\n",
       "      <th>user</th>\n",
       "      <th>text</th>\n",
       "      <th>retweet_count</th>\n",
       "      <th>favorite_count</th>\n",
       "      <th>created_at</th>\n",
       "    </tr>\n",
       "  </thead>\n",
       "  <tbody>\n",
       "    <tr>\n",
       "      <th>64</th>\n",
       "      <td>878039709984993280</td>\n",
       "      <td>dpPTPhD</td>\n",
       "      <td>RT @sunsopeningband: Hi again, @aptatweets. Co...</td>\n",
       "      <td>9</td>\n",
       "      <td>0</td>\n",
       "      <td>2017-06-22 23:59:14</td>\n",
       "    </tr>\n",
       "    <tr>\n",
       "      <th>65</th>\n",
       "      <td>878039421777477632</td>\n",
       "      <td>JustinJorgensen</td>\n",
       "      <td>RT @CBarnesPT: What a shift to a population he...</td>\n",
       "      <td>2</td>\n",
       "      <td>0</td>\n",
       "      <td>2017-06-22 23:58:05</td>\n",
       "    </tr>\n",
       "    <tr>\n",
       "      <th>66</th>\n",
       "      <td>878039283147341824</td>\n",
       "      <td>JustinJorgensen</td>\n",
       "      <td>RT @WebPT: A picture is worth a thousand (give...</td>\n",
       "      <td>8</td>\n",
       "      <td>0</td>\n",
       "      <td>2017-06-22 23:57:32</td>\n",
       "    </tr>\n",
       "    <tr>\n",
       "      <th>67</th>\n",
       "      <td>878039004272185344</td>\n",
       "      <td>PBernerSPT</td>\n",
       "      <td>RT @sunsopeningband: Hi @APTAtweets, I know it...</td>\n",
       "      <td>10</td>\n",
       "      <td>0</td>\n",
       "      <td>2017-06-22 23:56:26</td>\n",
       "    </tr>\n",
       "    <tr>\n",
       "      <th>68</th>\n",
       "      <td>878038732930240512</td>\n",
       "      <td>JayMurugavel</td>\n",
       "      <td>RT @TimRethornSPT: We know about graded exposu...</td>\n",
       "      <td>3</td>\n",
       "      <td>0</td>\n",
       "      <td>2017-06-22 23:55:21</td>\n",
       "    </tr>\n",
       "  </tbody>\n",
       "</table>\n",
       "</div>"
      ],
      "text/plain": [
       "                    id             user  \\\n",
       "64  878039709984993280          dpPTPhD   \n",
       "65  878039421777477632  JustinJorgensen   \n",
       "66  878039283147341824  JustinJorgensen   \n",
       "67  878039004272185344       PBernerSPT   \n",
       "68  878038732930240512     JayMurugavel   \n",
       "\n",
       "                                                 text  retweet_count  \\\n",
       "64  RT @sunsopeningband: Hi again, @aptatweets. Co...              9   \n",
       "65  RT @CBarnesPT: What a shift to a population he...              2   \n",
       "66  RT @WebPT: A picture is worth a thousand (give...              8   \n",
       "67  RT @sunsopeningband: Hi @APTAtweets, I know it...             10   \n",
       "68  RT @TimRethornSPT: We know about graded exposu...              3   \n",
       "\n",
       "    favorite_count          created_at  \n",
       "64               0 2017-06-22 23:59:14  \n",
       "65               0 2017-06-22 23:58:05  \n",
       "66               0 2017-06-22 23:57:32  \n",
       "67               0 2017-06-22 23:56:26  \n",
       "68               0 2017-06-22 23:55:21  "
      ]
     },
     "execution_count": 20,
     "metadata": {},
     "output_type": "execute_result"
    }
   ],
   "source": [
    "df_NextD1.head()"
   ]
  },
  {
   "cell_type": "markdown",
   "metadata": {},
   "source": [
    "Now I'll make a new column that adds retweets plus favorites. That will give some idea of the importance of a particular tweet. "
   ]
  },
  {
   "cell_type": "code",
   "execution_count": 21,
   "metadata": {
    "collapsed": false
   },
   "outputs": [
    {
     "name": "stderr",
     "output_type": "stream",
     "text": [
      "/Users/Cody/anaconda/lib/python2.7/site-packages/ipykernel/__main__.py:1: SettingWithCopyWarning: \n",
      "A value is trying to be set on a copy of a slice from a DataFrame.\n",
      "Try using .loc[row_indexer,col_indexer] = value instead\n",
      "\n",
      "See the caveats in the documentation: http://pandas.pydata.org/pandas-docs/stable/indexing.html#indexing-view-versus-copy\n",
      "  if __name__ == '__main__':\n"
     ]
    },
    {
     "data": {
      "text/html": [
       "<div>\n",
       "<table border=\"1\" class=\"dataframe\">\n",
       "  <thead>\n",
       "    <tr style=\"text-align: right;\">\n",
       "      <th></th>\n",
       "      <th>id</th>\n",
       "      <th>user</th>\n",
       "      <th>text</th>\n",
       "      <th>retweet_count</th>\n",
       "      <th>favorite_count</th>\n",
       "      <th>created_at</th>\n",
       "      <th>important_tweets</th>\n",
       "    </tr>\n",
       "  </thead>\n",
       "  <tbody>\n",
       "    <tr>\n",
       "      <th>64</th>\n",
       "      <td>878039709984993280</td>\n",
       "      <td>dpPTPhD</td>\n",
       "      <td>RT @sunsopeningband: Hi again, @aptatweets. Co...</td>\n",
       "      <td>9</td>\n",
       "      <td>0</td>\n",
       "      <td>2017-06-22 23:59:14</td>\n",
       "      <td>9</td>\n",
       "    </tr>\n",
       "    <tr>\n",
       "      <th>65</th>\n",
       "      <td>878039421777477632</td>\n",
       "      <td>JustinJorgensen</td>\n",
       "      <td>RT @CBarnesPT: What a shift to a population he...</td>\n",
       "      <td>2</td>\n",
       "      <td>0</td>\n",
       "      <td>2017-06-22 23:58:05</td>\n",
       "      <td>2</td>\n",
       "    </tr>\n",
       "    <tr>\n",
       "      <th>66</th>\n",
       "      <td>878039283147341824</td>\n",
       "      <td>JustinJorgensen</td>\n",
       "      <td>RT @WebPT: A picture is worth a thousand (give...</td>\n",
       "      <td>8</td>\n",
       "      <td>0</td>\n",
       "      <td>2017-06-22 23:57:32</td>\n",
       "      <td>8</td>\n",
       "    </tr>\n",
       "    <tr>\n",
       "      <th>67</th>\n",
       "      <td>878039004272185344</td>\n",
       "      <td>PBernerSPT</td>\n",
       "      <td>RT @sunsopeningband: Hi @APTAtweets, I know it...</td>\n",
       "      <td>10</td>\n",
       "      <td>0</td>\n",
       "      <td>2017-06-22 23:56:26</td>\n",
       "      <td>10</td>\n",
       "    </tr>\n",
       "    <tr>\n",
       "      <th>68</th>\n",
       "      <td>878038732930240512</td>\n",
       "      <td>JayMurugavel</td>\n",
       "      <td>RT @TimRethornSPT: We know about graded exposu...</td>\n",
       "      <td>3</td>\n",
       "      <td>0</td>\n",
       "      <td>2017-06-22 23:55:21</td>\n",
       "      <td>3</td>\n",
       "    </tr>\n",
       "  </tbody>\n",
       "</table>\n",
       "</div>"
      ],
      "text/plain": [
       "                    id             user  \\\n",
       "64  878039709984993280          dpPTPhD   \n",
       "65  878039421777477632  JustinJorgensen   \n",
       "66  878039283147341824  JustinJorgensen   \n",
       "67  878039004272185344       PBernerSPT   \n",
       "68  878038732930240512     JayMurugavel   \n",
       "\n",
       "                                                 text  retweet_count  \\\n",
       "64  RT @sunsopeningband: Hi again, @aptatweets. Co...              9   \n",
       "65  RT @CBarnesPT: What a shift to a population he...              2   \n",
       "66  RT @WebPT: A picture is worth a thousand (give...              8   \n",
       "67  RT @sunsopeningband: Hi @APTAtweets, I know it...             10   \n",
       "68  RT @TimRethornSPT: We know about graded exposu...              3   \n",
       "\n",
       "    favorite_count          created_at  important_tweets  \n",
       "64               0 2017-06-22 23:59:14                 9  \n",
       "65               0 2017-06-22 23:58:05                 2  \n",
       "66               0 2017-06-22 23:57:32                 8  \n",
       "67               0 2017-06-22 23:56:26                10  \n",
       "68               0 2017-06-22 23:55:21                 3  "
      ]
     },
     "execution_count": 21,
     "metadata": {},
     "output_type": "execute_result"
    }
   ],
   "source": [
    "df_NextD1['important_tweets'] = df_NextD1['retweet_count'] + df_NextD1['favorite_count']\n",
    "df_NextD1.head()"
   ]
  },
  {
   "cell_type": "markdown",
   "metadata": {
    "collapsed": false
   },
   "source": [
    "Next, we to adjust the data set to only look at origional tweets, not retweets. "
   ]
  },
  {
   "cell_type": "markdown",
   "metadata": {},
   "source": [
    "First, I'll make a column looking at whether or not is was retweeted"
   ]
  },
  {
   "cell_type": "code",
   "execution_count": 22,
   "metadata": {
    "collapsed": false
   },
   "outputs": [
    {
     "name": "stderr",
     "output_type": "stream",
     "text": [
      "/Users/Cody/anaconda/lib/python2.7/site-packages/ipykernel/__main__.py:1: SettingWithCopyWarning: \n",
      "A value is trying to be set on a copy of a slice from a DataFrame.\n",
      "Try using .loc[row_indexer,col_indexer] = value instead\n",
      "\n",
      "See the caveats in the documentation: http://pandas.pydata.org/pandas-docs/stable/indexing.html#indexing-view-versus-copy\n",
      "  if __name__ == '__main__':\n"
     ]
    }
   ],
   "source": [
    "df_NextD1['retweeted'] = df_NextD1['text'].str.startswith('RT')"
   ]
  },
  {
   "cell_type": "code",
   "execution_count": 23,
   "metadata": {
    "collapsed": false
   },
   "outputs": [
    {
     "data": {
      "text/html": [
       "<div>\n",
       "<table border=\"1\" class=\"dataframe\">\n",
       "  <thead>\n",
       "    <tr style=\"text-align: right;\">\n",
       "      <th></th>\n",
       "      <th>id</th>\n",
       "      <th>user</th>\n",
       "      <th>text</th>\n",
       "      <th>retweet_count</th>\n",
       "      <th>favorite_count</th>\n",
       "      <th>created_at</th>\n",
       "      <th>important_tweets</th>\n",
       "      <th>retweeted</th>\n",
       "    </tr>\n",
       "  </thead>\n",
       "  <tbody>\n",
       "    <tr>\n",
       "      <th>64</th>\n",
       "      <td>878039709984993280</td>\n",
       "      <td>dpPTPhD</td>\n",
       "      <td>RT @sunsopeningband: Hi again, @aptatweets. Co...</td>\n",
       "      <td>9</td>\n",
       "      <td>0</td>\n",
       "      <td>2017-06-22 23:59:14</td>\n",
       "      <td>9</td>\n",
       "      <td>True</td>\n",
       "    </tr>\n",
       "    <tr>\n",
       "      <th>65</th>\n",
       "      <td>878039421777477632</td>\n",
       "      <td>JustinJorgensen</td>\n",
       "      <td>RT @CBarnesPT: What a shift to a population he...</td>\n",
       "      <td>2</td>\n",
       "      <td>0</td>\n",
       "      <td>2017-06-22 23:58:05</td>\n",
       "      <td>2</td>\n",
       "      <td>True</td>\n",
       "    </tr>\n",
       "    <tr>\n",
       "      <th>66</th>\n",
       "      <td>878039283147341824</td>\n",
       "      <td>JustinJorgensen</td>\n",
       "      <td>RT @WebPT: A picture is worth a thousand (give...</td>\n",
       "      <td>8</td>\n",
       "      <td>0</td>\n",
       "      <td>2017-06-22 23:57:32</td>\n",
       "      <td>8</td>\n",
       "      <td>True</td>\n",
       "    </tr>\n",
       "    <tr>\n",
       "      <th>67</th>\n",
       "      <td>878039004272185344</td>\n",
       "      <td>PBernerSPT</td>\n",
       "      <td>RT @sunsopeningband: Hi @APTAtweets, I know it...</td>\n",
       "      <td>10</td>\n",
       "      <td>0</td>\n",
       "      <td>2017-06-22 23:56:26</td>\n",
       "      <td>10</td>\n",
       "      <td>True</td>\n",
       "    </tr>\n",
       "    <tr>\n",
       "      <th>68</th>\n",
       "      <td>878038732930240512</td>\n",
       "      <td>JayMurugavel</td>\n",
       "      <td>RT @TimRethornSPT: We know about graded exposu...</td>\n",
       "      <td>3</td>\n",
       "      <td>0</td>\n",
       "      <td>2017-06-22 23:55:21</td>\n",
       "      <td>3</td>\n",
       "      <td>True</td>\n",
       "    </tr>\n",
       "  </tbody>\n",
       "</table>\n",
       "</div>"
      ],
      "text/plain": [
       "                    id             user  \\\n",
       "64  878039709984993280          dpPTPhD   \n",
       "65  878039421777477632  JustinJorgensen   \n",
       "66  878039283147341824  JustinJorgensen   \n",
       "67  878039004272185344       PBernerSPT   \n",
       "68  878038732930240512     JayMurugavel   \n",
       "\n",
       "                                                 text  retweet_count  \\\n",
       "64  RT @sunsopeningband: Hi again, @aptatweets. Co...              9   \n",
       "65  RT @CBarnesPT: What a shift to a population he...              2   \n",
       "66  RT @WebPT: A picture is worth a thousand (give...              8   \n",
       "67  RT @sunsopeningband: Hi @APTAtweets, I know it...             10   \n",
       "68  RT @TimRethornSPT: We know about graded exposu...              3   \n",
       "\n",
       "    favorite_count          created_at  important_tweets retweeted  \n",
       "64               0 2017-06-22 23:59:14                 9      True  \n",
       "65               0 2017-06-22 23:58:05                 2      True  \n",
       "66               0 2017-06-22 23:57:32                 8      True  \n",
       "67               0 2017-06-22 23:56:26                10      True  \n",
       "68               0 2017-06-22 23:55:21                 3      True  "
      ]
     },
     "execution_count": 23,
     "metadata": {},
     "output_type": "execute_result"
    }
   ],
   "source": [
    "df_NextD1.head()"
   ]
  },
  {
   "cell_type": "markdown",
   "metadata": {},
   "source": [
    "### Total Tweets\n",
    "Now I'll include only the origional tweets in the data set. \n",
    "Then I'll look at how many we have"
   ]
  },
  {
   "cell_type": "code",
   "execution_count": 24,
   "metadata": {
    "collapsed": false
   },
   "outputs": [
    {
     "data": {
      "text/plain": [
       "559"
      ]
     },
     "execution_count": 24,
     "metadata": {},
     "output_type": "execute_result"
    }
   ],
   "source": [
    "df_NextD1 = df_NextD1[df_NextD1['retweeted'] == False]\n",
    "len(df_NextD1)"
   ]
  },
  {
   "cell_type": "markdown",
   "metadata": {},
   "source": [
    "### Total Retweets and Total Favorites\n",
    "Next, let's look at some numbers from the full conference data set.   \n",
    "We have total tweets (664). Let's also look at total retweets and total favorites"
   ]
  },
  {
   "cell_type": "code",
   "execution_count": 25,
   "metadata": {
    "collapsed": false
   },
   "outputs": [
    {
     "name": "stdout",
     "output_type": "stream",
     "text": [
      "582\n",
      "1733\n"
     ]
    }
   ],
   "source": [
    "NextD1_retweets = df_NextD1['retweet_count'].sum()\n",
    "print NextD1_retweets\n",
    "NextD1_favorites = df_NextD1['favorite_count'].sum()\n",
    "print NextD1_favorites"
   ]
  },
  {
   "cell_type": "markdown",
   "metadata": {},
   "source": [
    "## Top 10 Tweets from \n",
    "Now let's look at the 10 most importatn tweets.  \n",
    "First we'll sort the data by \"important_tweets\" to with highest number on top.  \n",
    "Then we'll show the top 10\n",
    "If you want to see the origional tweet, just go to http://twitter.com/statuses/ and put the tweet ID at the end after that last \"/\""
   ]
  },
  {
   "cell_type": "code",
   "execution_count": 26,
   "metadata": {
    "collapsed": false,
    "scrolled": true
   },
   "outputs": [
    {
     "data": {
      "text/html": [
       "<div>\n",
       "<table border=\"1\" class=\"dataframe\">\n",
       "  <thead>\n",
       "    <tr style=\"text-align: right;\">\n",
       "      <th></th>\n",
       "      <th>id</th>\n",
       "      <th>user</th>\n",
       "      <th>text</th>\n",
       "      <th>retweet_count</th>\n",
       "      <th>favorite_count</th>\n",
       "      <th>created_at</th>\n",
       "      <th>important_tweets</th>\n",
       "      <th>retweeted</th>\n",
       "    </tr>\n",
       "  </thead>\n",
       "  <tbody>\n",
       "    <tr>\n",
       "      <th>724</th>\n",
       "      <td>877896066569388034</td>\n",
       "      <td>policy4pt</td>\n",
       "      <td>The future we embrace must include the micro l...</td>\n",
       "      <td>14</td>\n",
       "      <td>37</td>\n",
       "      <td>2017-06-22 14:28:27</td>\n",
       "      <td>51</td>\n",
       "      <td>False</td>\n",
       "    </tr>\n",
       "    <tr>\n",
       "      <th>1028</th>\n",
       "      <td>877677546833412097</td>\n",
       "      <td>gilligggan_spt</td>\n",
       "      <td>Thank you to this incredible woman who lost he...</td>\n",
       "      <td>16</td>\n",
       "      <td>31</td>\n",
       "      <td>2017-06-22 00:00:08</td>\n",
       "      <td>47</td>\n",
       "      <td>False</td>\n",
       "    </tr>\n",
       "    <tr>\n",
       "      <th>805</th>\n",
       "      <td>877892268648054790</td>\n",
       "      <td>APTAnext</td>\n",
       "      <td>\"I believe that we change time. We routinely t...</td>\n",
       "      <td>15</td>\n",
       "      <td>24</td>\n",
       "      <td>2017-06-22 14:13:21</td>\n",
       "      <td>39</td>\n",
       "      <td>False</td>\n",
       "    </tr>\n",
       "    <tr>\n",
       "      <th>739</th>\n",
       "      <td>877894925118996480</td>\n",
       "      <td>policy4pt</td>\n",
       "      <td>Our science speaks to one voice for one profes...</td>\n",
       "      <td>12</td>\n",
       "      <td>27</td>\n",
       "      <td>2017-06-22 14:23:55</td>\n",
       "      <td>39</td>\n",
       "      <td>False</td>\n",
       "    </tr>\n",
       "    <tr>\n",
       "      <th>322</th>\n",
       "      <td>877955509747294208</td>\n",
       "      <td>sunsopeningband</td>\n",
       "      <td>Hi @APTAtweets, I know it's super busy with #A...</td>\n",
       "      <td>10</td>\n",
       "      <td>25</td>\n",
       "      <td>2017-06-22 18:24:39</td>\n",
       "      <td>35</td>\n",
       "      <td>False</td>\n",
       "    </tr>\n",
       "    <tr>\n",
       "      <th>903</th>\n",
       "      <td>877872372841369601</td>\n",
       "      <td>DirectorHyland</td>\n",
       "      <td>\"When someone says you can't do something it's...</td>\n",
       "      <td>12</td>\n",
       "      <td>22</td>\n",
       "      <td>2017-06-22 12:54:18</td>\n",
       "      <td>34</td>\n",
       "      <td>False</td>\n",
       "    </tr>\n",
       "    <tr>\n",
       "      <th>526</th>\n",
       "      <td>877918792893911040</td>\n",
       "      <td>policy4pt</td>\n",
       "      <td>@UIowaPTRS Dr Shields' #McMillan Lecture in a ...</td>\n",
       "      <td>12</td>\n",
       "      <td>18</td>\n",
       "      <td>2017-06-22 15:58:45</td>\n",
       "      <td>30</td>\n",
       "      <td>False</td>\n",
       "    </tr>\n",
       "    <tr>\n",
       "      <th>774</th>\n",
       "      <td>877893867709677569</td>\n",
       "      <td>APTASA</td>\n",
       "      <td>\"It is no longer acceptable to consider skelet...</td>\n",
       "      <td>9</td>\n",
       "      <td>19</td>\n",
       "      <td>2017-06-22 14:19:43</td>\n",
       "      <td>28</td>\n",
       "      <td>False</td>\n",
       "    </tr>\n",
       "    <tr>\n",
       "      <th>867</th>\n",
       "      <td>877880579433385984</td>\n",
       "      <td>APTAtweets</td>\n",
       "      <td>NEXT 2017 is finally here! Follow the #APTANEX...</td>\n",
       "      <td>9</td>\n",
       "      <td>17</td>\n",
       "      <td>2017-06-22 13:26:55</td>\n",
       "      <td>26</td>\n",
       "      <td>False</td>\n",
       "    </tr>\n",
       "    <tr>\n",
       "      <th>689</th>\n",
       "      <td>877898370479730688</td>\n",
       "      <td>rupalPT</td>\n",
       "      <td>future is in precision physical therapy using ...</td>\n",
       "      <td>8</td>\n",
       "      <td>18</td>\n",
       "      <td>2017-06-22 14:37:36</td>\n",
       "      <td>26</td>\n",
       "      <td>False</td>\n",
       "    </tr>\n",
       "  </tbody>\n",
       "</table>\n",
       "</div>"
      ],
      "text/plain": [
       "                      id             user  \\\n",
       "724   877896066569388034        policy4pt   \n",
       "1028  877677546833412097   gilligggan_spt   \n",
       "805   877892268648054790         APTAnext   \n",
       "739   877894925118996480        policy4pt   \n",
       "322   877955509747294208  sunsopeningband   \n",
       "903   877872372841369601   DirectorHyland   \n",
       "526   877918792893911040        policy4pt   \n",
       "774   877893867709677569           APTASA   \n",
       "867   877880579433385984       APTAtweets   \n",
       "689   877898370479730688          rupalPT   \n",
       "\n",
       "                                                   text  retweet_count  \\\n",
       "724   The future we embrace must include the micro l...             14   \n",
       "1028  Thank you to this incredible woman who lost he...             16   \n",
       "805   \"I believe that we change time. We routinely t...             15   \n",
       "739   Our science speaks to one voice for one profes...             12   \n",
       "322   Hi @APTAtweets, I know it's super busy with #A...             10   \n",
       "903   \"When someone says you can't do something it's...             12   \n",
       "526   @UIowaPTRS Dr Shields' #McMillan Lecture in a ...             12   \n",
       "774   \"It is no longer acceptable to consider skelet...              9   \n",
       "867   NEXT 2017 is finally here! Follow the #APTANEX...              9   \n",
       "689   future is in precision physical therapy using ...              8   \n",
       "\n",
       "      favorite_count          created_at  important_tweets retweeted  \n",
       "724               37 2017-06-22 14:28:27                51     False  \n",
       "1028              31 2017-06-22 00:00:08                47     False  \n",
       "805               24 2017-06-22 14:13:21                39     False  \n",
       "739               27 2017-06-22 14:23:55                39     False  \n",
       "322               25 2017-06-22 18:24:39                35     False  \n",
       "903               22 2017-06-22 12:54:18                34     False  \n",
       "526               18 2017-06-22 15:58:45                30     False  \n",
       "774               19 2017-06-22 14:19:43                28     False  \n",
       "867               17 2017-06-22 13:26:55                26     False  \n",
       "689               18 2017-06-22 14:37:36                26     False  "
      ]
     },
     "execution_count": 26,
     "metadata": {},
     "output_type": "execute_result"
    }
   ],
   "source": [
    "sorted_NextD1 = df_NextD1.sort_values(['important_tweets'], ascending = False)\n",
    "sorted_NextD1.head(10)"
   ]
  },
  {
   "cell_type": "markdown",
   "metadata": {},
   "source": [
    "### Word Cloud\n",
    "The Last step for the full conference analysis is the Word Cloud"
   ]
  },
  {
   "cell_type": "code",
   "execution_count": 29,
   "metadata": {
    "collapsed": false
   },
   "outputs": [
    {
     "data": {
      "image/png": "[encoded data removed]",
      "text/plain": [
       "<matplotlib.figure.Figure at 0x110f8fe50>"
      ]
     },
     "metadata": {},
     "output_type": "display_data"
    }
   ],
   "source": [
    "text = \" \".join(df_NextD1[\"text\"].values)\n",
    "no_url_no_tag = \" \".join([word for word in text.split(' ')\n",
    "                        if 'http' not in word\n",
    "                        and not word.startswith('@')\n",
    "                        and not word.startswith('RT')\n",
    "                        and not word.startswith('APTANEXT')])\n",
    "wc = WordCloud(background_color=\"white\", font_path=\"/Library/Fonts/Verdana.ttf\", stopwords=STOPWORDS, width=500, height=300)\n",
    "wc.generate(no_url_no_tag)\n",
    "plt.imshow(wc)\n",
    "plt.axis(\"off\")\n",
    "plt.title(\"APTA Next 2017- Day 1\")\n",
    "plt.savefig('Next2017Day1.png', dpi=500)\n",
    "plt.show()"
   ]
  },
  {
   "cell_type": "markdown",
   "metadata": {
    "collapsed": true
   },
   "source": [
    "That's it!  \n",
    "Hopefully you found this interesting.  \n",
    "If you did, let me know at [@CodyWeisbach](http://twitter.com/codyweisbach) on Twitter and I'll keep it up!"
   ]
  },
  {
   "cell_type": "code",
   "execution_count": null,
   "metadata": {
    "collapsed": true
   },
   "outputs": [],
   "source": []
  }
 ],
 "metadata": {
  "anaconda-cloud": {},
  "kernelspec": {
   "display_name": "Python 2",
   "language": "python",
   "name": "python2"
  },
  "language_info": {
   "codemirror_mode": {
    "name": "ipython",
    "version": 2
   },
   "file_extension": ".py",
   "mimetype": "text/x-python",
   "name": "python",
   "nbconvert_exporter": "python",
   "pygments_lexer": "ipython2",
   "version": "2.7.12"
  }
 },
 "nbformat": 4,
 "nbformat_minor": 0
}
