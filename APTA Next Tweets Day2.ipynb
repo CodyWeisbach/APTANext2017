{
 "cells": [
  {
   "cell_type": "code",
   "execution_count": 1,
   "metadata": {
    "collapsed": false
   },
   "outputs": [],
   "source": [
    "import tweepy\n",
    "import pandas as pd\n",
    "from datetime import datetime\n",
    "import matplotlib.pyplot as plt\n",
    "pd.set_option('display.max_columns', None)"
   ]
  },
  {
   "cell_type": "code",
   "execution_count": 2,
   "metadata": {
    "collapsed": true
   },
   "outputs": [],
   "source": [
    "consumer_key = \"j93qGyPR5SxXvQSOiicDvz0kW\"\n",
    "consumer_secret = \"Gk1L6rgByfxfjyswPXfTdEcXXghZOKnTJxXe665rkj80V4xuDm\"\n",
    "\n",
    "auth = tweepy.OAuthHandler(consumer_key = consumer_key, consumer_secret = consumer_secret)\n",
    "\n",
    "api = tweepy.API(auth, wait_on_rate_limit=True)\n",
    "\n",
    "Max_Tweets = 4000"
   ]
  },
  {
   "cell_type": "markdown",
   "metadata": {},
   "source": [
    "## Data collecting up to 4000 tweets with the #APTANEXT Hashtag"
   ]
  },
  {
   "cell_type": "code",
   "execution_count": 3,
   "metadata": {
    "collapsed": false
   },
   "outputs": [
    {
     "name": "stdout",
     "output_type": "stream",
     "text": [
      "2198\n"
     ]
    }
   ],
   "source": [
    "results = []\n",
    "for tweet in tweepy.Cursor(api.search, q = \"#APTANEXT\").items(Max_Tweets):\n",
    "    results.append(tweet)\n",
    "\n",
    "print len(results)"
   ]
  },
  {
   "cell_type": "markdown",
   "metadata": {},
   "source": [
    "### Showing the date and time of when the tweets were collected"
   ]
  },
  {
   "cell_type": "code",
   "execution_count": 4,
   "metadata": {
    "collapsed": false
   },
   "outputs": [
    {
     "data": {
      "text/plain": [
       "datetime.datetime(2017, 6, 23, 19, 48, 16, 826085)"
      ]
     },
     "execution_count": 4,
     "metadata": {},
     "output_type": "execute_result"
    }
   ],
   "source": [
    "datetime.now()"
   ]
  },
  {
   "cell_type": "markdown",
   "metadata": {},
   "source": [
    "### Here's what the data for a tweet looks like"
   ]
  },
  {
   "cell_type": "code",
   "execution_count": 5,
   "metadata": {
    "collapsed": false
   },
   "outputs": [
    {
     "name": "stdout",
     "output_type": "stream",
     "text": [
      "Status(contributors=None, truncated=False, text=u\"RT @alanleeDPT: Now, Don't miss these topic of frontiers in rehab science and tech (FiRST) posters #aptanext https://t.co/Ikn3ruM0Yu\", is_quote_status=False, in_reply_to_status_id=None, id=878427862633730049, favorite_count=0, _api=<tweepy.api.API object at 0x10d51d890>, author=User(follow_request_sent=None, has_extended_profile=True, profile_use_background_image=True, _json={u'follow_request_sent': None, u'has_extended_profile': True, u'profile_use_background_image': True, u'default_profile_image': False, u'id': 709197379040202752, u'profile_background_image_url_https': None, u'verified': False, u'translator_type': u'none', u'profile_text_color': u'333333', u'profile_image_url_https': u'https://pbs.twimg.com/profile_images/709197925256077312/feD1HOEQ_normal.jpg', u'profile_sidebar_fill_color': u'DDEEF6', u'entities': {u'url': {u'urls': [{u'url': u'https://t.co/cOViwcxvoy', u'indices': [0, 23], u'expanded_url': u'http://www.calrehabbrea.com', u'display_url': u'calrehabbrea.com'}]}, u'description': {u'urls': []}}, u'followers_count': 890, u'profile_sidebar_border_color': u'C0DEED', u'id_str': u'709197379040202752', u'profile_background_color': u'F5F8FA', u'listed_count': 42, u'is_translation_enabled': False, u'utc_offset': None, u'statuses_count': 973, u'description': u\"physical therapist, clinic director/co-owner, OCS, consultant, aspiring entrepreneur, baseball/golf/punk rock/IPA's\", u'friends_count': 2315, u'location': u'Orange, CA', u'profile_link_color': u'1DA1F2', u'profile_image_url': u'http://pbs.twimg.com/profile_images/709197925256077312/feD1HOEQ_normal.jpg', u'following': None, u'geo_enabled': True, u'profile_background_image_url': None, u'screen_name': u'DrBryanStewart', u'lang': u'en', u'profile_background_tile': False, u'favourites_count': 1329, u'name': u'Bryan Stewart, DPT', u'notifications': None, u'url': u'https://t.co/cOViwcxvoy', u'created_at': u'Mon Mar 14 02:00:06 +0000 2016', u'contributors_enabled': False, u'time_zone': None, u'protected': False, u'default_profile': True, u'is_translator': False}, time_zone=None, id=709197379040202752, description=u\"physical therapist, clinic director/co-owner, OCS, consultant, aspiring entrepreneur, baseball/golf/punk rock/IPA's\", _api=<tweepy.api.API object at 0x10d51d890>, verified=False, profile_text_color=u'333333', profile_image_url_https=u'https://pbs.twimg.com/profile_images/709197925256077312/feD1HOEQ_normal.jpg', profile_sidebar_fill_color=u'DDEEF6', is_translator=False, geo_enabled=True, entities={u'url': {u'urls': [{u'url': u'https://t.co/cOViwcxvoy', u'indices': [0, 23], u'expanded_url': u'http://www.calrehabbrea.com', u'display_url': u'calrehabbrea.com'}]}, u'description': {u'urls': []}}, followers_count=890, protected=False, id_str=u'709197379040202752', default_profile_image=False, listed_count=42, lang=u'en', utc_offset=None, statuses_count=973, profile_background_color=u'F5F8FA', friends_count=2315, profile_link_color=u'1DA1F2', profile_image_url=u'http://pbs.twimg.com/profile_images/709197925256077312/feD1HOEQ_normal.jpg', notifications=None, default_profile=True, profile_background_image_url_https=None, profile_background_image_url=None, name=u'Bryan Stewart, DPT', is_translation_enabled=False, profile_background_tile=False, favourites_count=1329, screen_name=u'DrBryanStewart', url=u'https://t.co/cOViwcxvoy', created_at=datetime.datetime(2016, 3, 14, 2, 0, 6), contributors_enabled=False, location=u'Orange, CA', profile_sidebar_border_color=u'C0DEED', translator_type=u'none', following=False), _json={u'contributors': None, u'truncated': False, u'text': u\"RT @alanleeDPT: Now, Don't miss these topic of frontiers in rehab science and tech (FiRST) posters #aptanext https://t.co/Ikn3ruM0Yu\", u'is_quote_status': False, u'in_reply_to_status_id': None, u'id': 878427862633730049, u'favorite_count': 0, u'entities': {u'symbols': [], u'user_mentions': [{u'id': 714800527, u'indices': [3, 14], u'id_str': u'714800527', u'screen_name': u'alanleeDPT', u'name': u'alan lee'}], u'hashtags': [{u'indices': [99, 108], u'text': u'aptanext'}], u'urls': [], u'media': [{u'source_user_id': 714800527, u'source_status_id_str': u'878265310150709248', u'expanded_url': u'https://twitter.com/alanleeDPT/status/878265310150709248/photo/1', u'display_url': u'pic.twitter.com/Ikn3ruM0Yu', u'url': u'https://t.co/Ikn3ruM0Yu', u'media_url_https': u'https://pbs.twimg.com/media/DDA5opWWsAAaZpU.jpg', u'source_user_id_str': u'714800527', u'source_status_id': 878265310150709248, u'id_str': u'878265297794412544', u'sizes': {u'large': {u'h': 1136, u'resize': u'fit', u'w': 640}, u'small': {u'h': 680, u'resize': u'fit', u'w': 383}, u'medium': {u'h': 1136, u'resize': u'fit', u'w': 640}, u'thumb': {u'h': 150, u'resize': u'crop', u'w': 150}}, u'indices': [109, 132], u'type': u'photo', u'id': 878265297794412544, u'media_url': u'http://pbs.twimg.com/media/DDA5opWWsAAaZpU.jpg'}]}, u'retweeted': False, u'coordinates': None, u'source': u'<a href=\"http://twitter.com/download/iphone\" rel=\"nofollow\">Twitter for iPhone</a>', u'in_reply_to_screen_name': None, u'in_reply_to_user_id': None, u'retweet_count': 1, u'id_str': u'878427862633730049', u'favorited': False, u'retweeted_status': {u'contributors': None, u'truncated': False, u'text': u\"Now, Don't miss these topic of frontiers in rehab science and tech (FiRST) posters #aptanext https://t.co/Ikn3ruM0Yu\", u'is_quote_status': False, u'in_reply_to_status_id': None, u'id': 878265310150709248, u'favorite_count': 3, u'entities': {u'symbols': [], u'user_mentions': [], u'hashtags': [{u'indices': [83, 92], u'text': u'aptanext'}], u'urls': [], u'media': [{u'expanded_url': u'https://twitter.com/alanleeDPT/status/878265310150709248/photo/1', u'display_url': u'pic.twitter.com/Ikn3ruM0Yu', u'url': u'https://t.co/Ikn3ruM0Yu', u'media_url_https': u'https://pbs.twimg.com/media/DDA5opWWsAAaZpU.jpg', u'id_str': u'878265297794412544', u'sizes': {u'large': {u'h': 1136, u'resize': u'fit', u'w': 640}, u'small': {u'h': 680, u'resize': u'fit', u'w': 383}, u'medium': {u'h': 1136, u'resize': u'fit', u'w': 640}, u'thumb': {u'h': 150, u'resize': u'crop', u'w': 150}}, u'indices': [93, 116], u'type': u'photo', u'id': 878265297794412544, u'media_url': u'http://pbs.twimg.com/media/DDA5opWWsAAaZpU.jpg'}]}, u'retweeted': False, u'coordinates': None, u'source': u'<a href=\"http://twitter.com/download/iphone\" rel=\"nofollow\">Twitter for iPhone</a>', u'in_reply_to_screen_name': None, u'in_reply_to_user_id': None, u'retweet_count': 1, u'id_str': u'878265310150709248', u'favorited': False, u'user': {u'follow_request_sent': None, u'has_extended_profile': False, u'profile_use_background_image': True, u'default_profile_image': False, u'id': 714800527, u'profile_background_image_url_https': u'https://abs.twimg.com/images/themes/theme1/bg.png', u'verified': False, u'translator_type': u'none', u'profile_text_color': u'333333', u'profile_image_url_https': u'https://pbs.twimg.com/profile_images/434140148993773568/e9t7Dpuy_normal.jpeg', u'profile_sidebar_fill_color': u'DDEEF6', u'entities': {u'url': {u'urls': [{u'url': u'https://t.co/Ivc54hzmmR', u'indices': [0, 23], u'expanded_url': u'https://msmary.academia.edu/AlanCLee', u'display_url': u'msmary.academia.edu/AlanCLee'}]}, u'description': {u'urls': []}}, u'followers_count': 175, u'profile_sidebar_border_color': u'C0DEED', u'id_str': u'714800527', u'profile_background_color': u'C0DEED', u'listed_count': 0, u'is_translation_enabled': False, u'utc_offset': -25200, u'statuses_count': 142, u'description': u'APTA and ATA Member', u'friends_count': 117, u'location': u'United States', u'profile_link_color': u'1DA1F2', u'profile_image_url': u'http://pbs.twimg.com/profile_images/434140148993773568/e9t7Dpuy_normal.jpeg', u'following': None, u'geo_enabled': True, u'profile_background_image_url': u'http://abs.twimg.com/images/themes/theme1/bg.png', u'screen_name': u'alanleeDPT', u'lang': u'en', u'profile_background_tile': False, u'favourites_count': 70, u'name': u'alan lee', u'notifications': None, u'url': u'https://t.co/Ivc54hzmmR', u'created_at': u'Tue Jul 24 19:26:18 +0000 2012', u'contributors_enabled': False, u'time_zone': u'Pacific Time (US & Canada)', u'protected': False, u'default_profile': True, u'is_translator': False}, u'geo': None, u'in_reply_to_user_id_str': None, u'possibly_sensitive': False, u'lang': u'en', u'created_at': u'Fri Jun 23 14:55:41 +0000 2017', u'in_reply_to_status_id_str': None, u'place': None, u'extended_entities': {u'media': [{u'expanded_url': u'https://twitter.com/alanleeDPT/status/878265310150709248/photo/1', u'display_url': u'pic.twitter.com/Ikn3ruM0Yu', u'url': u'https://t.co/Ikn3ruM0Yu', u'media_url_https': u'https://pbs.twimg.com/media/DDA5opWWsAAaZpU.jpg', u'id_str': u'878265297794412544', u'sizes': {u'large': {u'h': 1136, u'resize': u'fit', u'w': 640}, u'small': {u'h': 680, u'resize': u'fit', u'w': 383}, u'medium': {u'h': 1136, u'resize': u'fit', u'w': 640}, u'thumb': {u'h': 150, u'resize': u'crop', u'w': 150}}, u'indices': [93, 116], u'type': u'photo', u'id': 878265297794412544, u'media_url': u'http://pbs.twimg.com/media/DDA5opWWsAAaZpU.jpg'}, {u'expanded_url': u'https://twitter.com/alanleeDPT/status/878265310150709248/photo/1', u'display_url': u'pic.twitter.com/Ikn3ruM0Yu', u'url': u'https://t.co/Ikn3ruM0Yu', u'media_url_https': u'https://pbs.twimg.com/media/DDA5opYXkAAOSQW.jpg', u'id_str': u'878265297802858496', u'sizes': {u'small': {u'h': 680, u'resize': u'fit', u'w': 383}, u'large': {u'h': 1136, u'resize': u'fit', u'w': 640}, u'medium': {u'h': 1136, u'resize': u'fit', u'w': 640}, u'thumb': {u'h': 150, u'resize': u'crop', u'w': 150}}, u'indices': [93, 116], u'type': u'photo', u'id': 878265297802858496, u'media_url': u'http://pbs.twimg.com/media/DDA5opYXkAAOSQW.jpg'}, {u'expanded_url': u'https://twitter.com/alanleeDPT/status/878265310150709248/photo/1', u'display_url': u'pic.twitter.com/Ikn3ruM0Yu', u'url': u'https://t.co/Ikn3ruM0Yu', u'media_url_https': u'https://pbs.twimg.com/media/DDA5opYWAAICWqO.jpg', u'id_str': u'878265297802756098', u'sizes': {u'large': {u'h': 1136, u'resize': u'fit', u'w': 640}, u'small': {u'h': 680, u'resize': u'fit', u'w': 383}, u'medium': {u'h': 1136, u'resize': u'fit', u'w': 640}, u'thumb': {u'h': 150, u'resize': u'crop', u'w': 150}}, u'indices': [93, 116], u'type': u'photo', u'id': 878265297802756098, u'media_url': u'http://pbs.twimg.com/media/DDA5opYWAAICWqO.jpg'}]}, u'metadata': {u'iso_language_code': u'en', u'result_type': u'recent'}}, u'user': {u'follow_request_sent': None, u'has_extended_profile': True, u'profile_use_background_image': True, u'default_profile_image': False, u'id': 709197379040202752, u'profile_background_image_url_https': None, u'verified': False, u'translator_type': u'none', u'profile_text_color': u'333333', u'profile_image_url_https': u'https://pbs.twimg.com/profile_images/709197925256077312/feD1HOEQ_normal.jpg', u'profile_sidebar_fill_color': u'DDEEF6', u'entities': {u'url': {u'urls': [{u'url': u'https://t.co/cOViwcxvoy', u'indices': [0, 23], u'expanded_url': u'http://www.calrehabbrea.com', u'display_url': u'calrehabbrea.com'}]}, u'description': {u'urls': []}}, u'followers_count': 890, u'profile_sidebar_border_color': u'C0DEED', u'id_str': u'709197379040202752', u'profile_background_color': u'F5F8FA', u'listed_count': 42, u'is_translation_enabled': False, u'utc_offset': None, u'statuses_count': 973, u'description': u\"physical therapist, clinic director/co-owner, OCS, consultant, aspiring entrepreneur, baseball/golf/punk rock/IPA's\", u'friends_count': 2315, u'location': u'Orange, CA', u'profile_link_color': u'1DA1F2', u'profile_image_url': u'http://pbs.twimg.com/profile_images/709197925256077312/feD1HOEQ_normal.jpg', u'following': None, u'geo_enabled': True, u'profile_background_image_url': None, u'screen_name': u'DrBryanStewart', u'lang': u'en', u'profile_background_tile': False, u'favourites_count': 1329, u'name': u'Bryan Stewart, DPT', u'notifications': None, u'url': u'https://t.co/cOViwcxvoy', u'created_at': u'Mon Mar 14 02:00:06 +0000 2016', u'contributors_enabled': False, u'time_zone': None, u'protected': False, u'default_profile': True, u'is_translator': False}, u'geo': None, u'in_reply_to_user_id_str': None, u'possibly_sensitive': False, u'lang': u'en', u'created_at': u'Sat Jun 24 01:41:37 +0000 2017', u'in_reply_to_status_id_str': None, u'place': None, u'extended_entities': {u'media': [{u'source_user_id': 714800527, u'source_status_id_str': u'878265310150709248', u'expanded_url': u'https://twitter.com/alanleeDPT/status/878265310150709248/photo/1', u'display_url': u'pic.twitter.com/Ikn3ruM0Yu', u'url': u'https://t.co/Ikn3ruM0Yu', u'media_url_https': u'https://pbs.twimg.com/media/DDA5opWWsAAaZpU.jpg', u'source_user_id_str': u'714800527', u'source_status_id': 878265310150709248, u'id_str': u'878265297794412544', u'sizes': {u'large': {u'h': 1136, u'resize': u'fit', u'w': 640}, u'small': {u'h': 680, u'resize': u'fit', u'w': 383}, u'medium': {u'h': 1136, u'resize': u'fit', u'w': 640}, u'thumb': {u'h': 150, u'resize': u'crop', u'w': 150}}, u'indices': [109, 132], u'type': u'photo', u'id': 878265297794412544, u'media_url': u'http://pbs.twimg.com/media/DDA5opWWsAAaZpU.jpg'}, {u'source_user_id': 714800527, u'source_status_id_str': u'878265310150709248', u'expanded_url': u'https://twitter.com/alanleeDPT/status/878265310150709248/photo/1', u'display_url': u'pic.twitter.com/Ikn3ruM0Yu', u'url': u'https://t.co/Ikn3ruM0Yu', u'media_url_https': u'https://pbs.twimg.com/media/DDA5opYXkAAOSQW.jpg', u'source_user_id_str': u'714800527', u'source_status_id': 878265310150709248, u'id_str': u'878265297802858496', u'sizes': {u'small': {u'h': 680, u'resize': u'fit', u'w': 383}, u'large': {u'h': 1136, u'resize': u'fit', u'w': 640}, u'medium': {u'h': 1136, u'resize': u'fit', u'w': 640}, u'thumb': {u'h': 150, u'resize': u'crop', u'w': 150}}, u'indices': [109, 132], u'type': u'photo', u'id': 878265297802858496, u'media_url': u'http://pbs.twimg.com/media/DDA5opYXkAAOSQW.jpg'}, {u'source_user_id': 714800527, u'source_status_id_str': u'878265310150709248', u'expanded_url': u'https://twitter.com/alanleeDPT/status/878265310150709248/photo/1', u'display_url': u'pic.twitter.com/Ikn3ruM0Yu', u'url': u'https://t.co/Ikn3ruM0Yu', u'media_url_https': u'https://pbs.twimg.com/media/DDA5opYWAAICWqO.jpg', u'source_user_id_str': u'714800527', u'source_status_id': 878265310150709248, u'id_str': u'878265297802756098', u'sizes': {u'large': {u'h': 1136, u'resize': u'fit', u'w': 640}, u'small': {u'h': 680, u'resize': u'fit', u'w': 383}, u'medium': {u'h': 1136, u'resize': u'fit', u'w': 640}, u'thumb': {u'h': 150, u'resize': u'crop', u'w': 150}}, u'indices': [109, 132], u'type': u'photo', u'id': 878265297802756098, u'media_url': u'http://pbs.twimg.com/media/DDA5opYWAAICWqO.jpg'}]}, u'metadata': {u'iso_language_code': u'en', u'result_type': u'recent'}}, coordinates=None, entities={u'symbols': [], u'user_mentions': [{u'id': 714800527, u'indices': [3, 14], u'id_str': u'714800527', u'screen_name': u'alanleeDPT', u'name': u'alan lee'}], u'hashtags': [{u'indices': [99, 108], u'text': u'aptanext'}], u'urls': [], u'media': [{u'source_user_id': 714800527, u'source_status_id_str': u'878265310150709248', u'expanded_url': u'https://twitter.com/alanleeDPT/status/878265310150709248/photo/1', u'display_url': u'pic.twitter.com/Ikn3ruM0Yu', u'url': u'https://t.co/Ikn3ruM0Yu', u'media_url_https': u'https://pbs.twimg.com/media/DDA5opWWsAAaZpU.jpg', u'source_user_id_str': u'714800527', u'source_status_id': 878265310150709248, u'id_str': u'878265297794412544', u'sizes': {u'large': {u'h': 1136, u'resize': u'fit', u'w': 640}, u'small': {u'h': 680, u'resize': u'fit', u'w': 383}, u'medium': {u'h': 1136, u'resize': u'fit', u'w': 640}, u'thumb': {u'h': 150, u'resize': u'crop', u'w': 150}}, u'indices': [109, 132], u'type': u'photo', u'id': 878265297794412544, u'media_url': u'http://pbs.twimg.com/media/DDA5opWWsAAaZpU.jpg'}]}, in_reply_to_screen_name=None, id_str=u'878427862633730049', retweet_count=1, in_reply_to_user_id=None, favorited=False, retweeted_status=Status(contributors=None, truncated=False, text=u\"Now, Don't miss these topic of frontiers in rehab science and tech (FiRST) posters #aptanext https://t.co/Ikn3ruM0Yu\", is_quote_status=False, in_reply_to_status_id=None, id=878265310150709248, favorite_count=3, _api=<tweepy.api.API object at 0x10d51d890>, author=User(follow_request_sent=None, has_extended_profile=False, profile_use_background_image=True, _json={u'follow_request_sent': None, u'has_extended_profile': False, u'profile_use_background_image': True, u'default_profile_image': False, u'id': 714800527, u'profile_background_image_url_https': u'https://abs.twimg.com/images/themes/theme1/bg.png', u'verified': False, u'translator_type': u'none', u'profile_text_color': u'333333', u'profile_image_url_https': u'https://pbs.twimg.com/profile_images/434140148993773568/e9t7Dpuy_normal.jpeg', u'profile_sidebar_fill_color': u'DDEEF6', u'entities': {u'url': {u'urls': [{u'url': u'https://t.co/Ivc54hzmmR', u'indices': [0, 23], u'expanded_url': u'https://msmary.academia.edu/AlanCLee', u'display_url': u'msmary.academia.edu/AlanCLee'}]}, u'description': {u'urls': []}}, u'followers_count': 175, u'profile_sidebar_border_color': u'C0DEED', u'id_str': u'714800527', u'profile_background_color': u'C0DEED', u'listed_count': 0, u'is_translation_enabled': False, u'utc_offset': -25200, u'statuses_count': 142, u'description': u'APTA and ATA Member', u'friends_count': 117, u'location': u'United States', u'profile_link_color': u'1DA1F2', u'profile_image_url': u'http://pbs.twimg.com/profile_images/434140148993773568/e9t7Dpuy_normal.jpeg', u'following': None, u'geo_enabled': True, u'profile_background_image_url': u'http://abs.twimg.com/images/themes/theme1/bg.png', u'screen_name': u'alanleeDPT', u'lang': u'en', u'profile_background_tile': False, u'favourites_count': 70, u'name': u'alan lee', u'notifications': None, u'url': u'https://t.co/Ivc54hzmmR', u'created_at': u'Tue Jul 24 19:26:18 +0000 2012', u'contributors_enabled': False, u'time_zone': u'Pacific Time (US & Canada)', u'protected': False, u'default_profile': True, u'is_translator': False}, time_zone=u'Pacific Time (US & Canada)', id=714800527, description=u'APTA and ATA Member', _api=<tweepy.api.API object at 0x10d51d890>, verified=False, profile_text_color=u'333333', profile_image_url_https=u'https://pbs.twimg.com/profile_images/434140148993773568/e9t7Dpuy_normal.jpeg', profile_sidebar_fill_color=u'DDEEF6', is_translator=False, geo_enabled=True, entities={u'url': {u'urls': [{u'url': u'https://t.co/Ivc54hzmmR', u'indices': [0, 23], u'expanded_url': u'https://msmary.academia.edu/AlanCLee', u'display_url': u'msmary.academia.edu/AlanCLee'}]}, u'description': {u'urls': []}}, followers_count=175, protected=False, id_str=u'714800527', default_profile_image=False, listed_count=0, lang=u'en', utc_offset=-25200, statuses_count=142, profile_background_color=u'C0DEED', friends_count=117, profile_link_color=u'1DA1F2', profile_image_url=u'http://pbs.twimg.com/profile_images/434140148993773568/e9t7Dpuy_normal.jpeg', notifications=None, default_profile=True, profile_background_image_url_https=u'https://abs.twimg.com/images/themes/theme1/bg.png', profile_background_image_url=u'http://abs.twimg.com/images/themes/theme1/bg.png', name=u'alan lee', is_translation_enabled=False, profile_background_tile=False, favourites_count=70, screen_name=u'alanleeDPT', url=u'https://t.co/Ivc54hzmmR', created_at=datetime.datetime(2012, 7, 24, 19, 26, 18), contributors_enabled=False, location=u'United States', profile_sidebar_border_color=u'C0DEED', translator_type=u'none', following=False), _json={u'contributors': None, u'truncated': False, u'text': u\"Now, Don't miss these topic of frontiers in rehab science and tech (FiRST) posters #aptanext https://t.co/Ikn3ruM0Yu\", u'is_quote_status': False, u'in_reply_to_status_id': None, u'id': 878265310150709248, u'favorite_count': 3, u'entities': {u'symbols': [], u'user_mentions': [], u'hashtags': [{u'indices': [83, 92], u'text': u'aptanext'}], u'urls': [], u'media': [{u'expanded_url': u'https://twitter.com/alanleeDPT/status/878265310150709248/photo/1', u'display_url': u'pic.twitter.com/Ikn3ruM0Yu', u'url': u'https://t.co/Ikn3ruM0Yu', u'media_url_https': u'https://pbs.twimg.com/media/DDA5opWWsAAaZpU.jpg', u'id_str': u'878265297794412544', u'sizes': {u'large': {u'h': 1136, u'resize': u'fit', u'w': 640}, u'small': {u'h': 680, u'resize': u'fit', u'w': 383}, u'medium': {u'h': 1136, u'resize': u'fit', u'w': 640}, u'thumb': {u'h': 150, u'resize': u'crop', u'w': 150}}, u'indices': [93, 116], u'type': u'photo', u'id': 878265297794412544, u'media_url': u'http://pbs.twimg.com/media/DDA5opWWsAAaZpU.jpg'}]}, u'retweeted': False, u'coordinates': None, u'source': u'<a href=\"http://twitter.com/download/iphone\" rel=\"nofollow\">Twitter for iPhone</a>', u'in_reply_to_screen_name': None, u'in_reply_to_user_id': None, u'retweet_count': 1, u'id_str': u'878265310150709248', u'favorited': False, u'user': {u'follow_request_sent': None, u'has_extended_profile': False, u'profile_use_background_image': True, u'default_profile_image': False, u'id': 714800527, u'profile_background_image_url_https': u'https://abs.twimg.com/images/themes/theme1/bg.png', u'verified': False, u'translator_type': u'none', u'profile_text_color': u'333333', u'profile_image_url_https': u'https://pbs.twimg.com/profile_images/434140148993773568/e9t7Dpuy_normal.jpeg', u'profile_sidebar_fill_color': u'DDEEF6', u'entities': {u'url': {u'urls': [{u'url': u'https://t.co/Ivc54hzmmR', u'indices': [0, 23], u'expanded_url': u'https://msmary.academia.edu/AlanCLee', u'display_url': u'msmary.academia.edu/AlanCLee'}]}, u'description': {u'urls': []}}, u'followers_count': 175, u'profile_sidebar_border_color': u'C0DEED', u'id_str': u'714800527', u'profile_background_color': u'C0DEED', u'listed_count': 0, u'is_translation_enabled': False, u'utc_offset': -25200, u'statuses_count': 142, u'description': u'APTA and ATA Member', u'friends_count': 117, u'location': u'United States', u'profile_link_color': u'1DA1F2', u'profile_image_url': u'http://pbs.twimg.com/profile_images/434140148993773568/e9t7Dpuy_normal.jpeg', u'following': None, u'geo_enabled': True, u'profile_background_image_url': u'http://abs.twimg.com/images/themes/theme1/bg.png', u'screen_name': u'alanleeDPT', u'lang': u'en', u'profile_background_tile': False, u'favourites_count': 70, u'name': u'alan lee', u'notifications': None, u'url': u'https://t.co/Ivc54hzmmR', u'created_at': u'Tue Jul 24 19:26:18 +0000 2012', u'contributors_enabled': False, u'time_zone': u'Pacific Time (US & Canada)', u'protected': False, u'default_profile': True, u'is_translator': False}, u'geo': None, u'in_reply_to_user_id_str': None, u'possibly_sensitive': False, u'lang': u'en', u'created_at': u'Fri Jun 23 14:55:41 +0000 2017', u'in_reply_to_status_id_str': None, u'place': None, u'extended_entities': {u'media': [{u'expanded_url': u'https://twitter.com/alanleeDPT/status/878265310150709248/photo/1', u'display_url': u'pic.twitter.com/Ikn3ruM0Yu', u'url': u'https://t.co/Ikn3ruM0Yu', u'media_url_https': u'https://pbs.twimg.com/media/DDA5opWWsAAaZpU.jpg', u'id_str': u'878265297794412544', u'sizes': {u'large': {u'h': 1136, u'resize': u'fit', u'w': 640}, u'small': {u'h': 680, u'resize': u'fit', u'w': 383}, u'medium': {u'h': 1136, u'resize': u'fit', u'w': 640}, u'thumb': {u'h': 150, u'resize': u'crop', u'w': 150}}, u'indices': [93, 116], u'type': u'photo', u'id': 878265297794412544, u'media_url': u'http://pbs.twimg.com/media/DDA5opWWsAAaZpU.jpg'}, {u'expanded_url': u'https://twitter.com/alanleeDPT/status/878265310150709248/photo/1', u'display_url': u'pic.twitter.com/Ikn3ruM0Yu', u'url': u'https://t.co/Ikn3ruM0Yu', u'media_url_https': u'https://pbs.twimg.com/media/DDA5opYXkAAOSQW.jpg', u'id_str': u'878265297802858496', u'sizes': {u'small': {u'h': 680, u'resize': u'fit', u'w': 383}, u'large': {u'h': 1136, u'resize': u'fit', u'w': 640}, u'medium': {u'h': 1136, u'resize': u'fit', u'w': 640}, u'thumb': {u'h': 150, u'resize': u'crop', u'w': 150}}, u'indices': [93, 116], u'type': u'photo', u'id': 878265297802858496, u'media_url': u'http://pbs.twimg.com/media/DDA5opYXkAAOSQW.jpg'}, {u'expanded_url': u'https://twitter.com/alanleeDPT/status/878265310150709248/photo/1', u'display_url': u'pic.twitter.com/Ikn3ruM0Yu', u'url': u'https://t.co/Ikn3ruM0Yu', u'media_url_https': u'https://pbs.twimg.com/media/DDA5opYWAAICWqO.jpg', u'id_str': u'878265297802756098', u'sizes': {u'large': {u'h': 1136, u'resize': u'fit', u'w': 640}, u'small': {u'h': 680, u'resize': u'fit', u'w': 383}, u'medium': {u'h': 1136, u'resize': u'fit', u'w': 640}, u'thumb': {u'h': 150, u'resize': u'crop', u'w': 150}}, u'indices': [93, 116], u'type': u'photo', u'id': 878265297802756098, u'media_url': u'http://pbs.twimg.com/media/DDA5opYWAAICWqO.jpg'}]}, u'metadata': {u'iso_language_code': u'en', u'result_type': u'recent'}}, coordinates=None, entities={u'symbols': [], u'user_mentions': [], u'hashtags': [{u'indices': [83, 92], u'text': u'aptanext'}], u'urls': [], u'media': [{u'expanded_url': u'https://twitter.com/alanleeDPT/status/878265310150709248/photo/1', u'display_url': u'pic.twitter.com/Ikn3ruM0Yu', u'url': u'https://t.co/Ikn3ruM0Yu', u'media_url_https': u'https://pbs.twimg.com/media/DDA5opWWsAAaZpU.jpg', u'id_str': u'878265297794412544', u'sizes': {u'large': {u'h': 1136, u'resize': u'fit', u'w': 640}, u'small': {u'h': 680, u'resize': u'fit', u'w': 383}, u'medium': {u'h': 1136, u'resize': u'fit', u'w': 640}, u'thumb': {u'h': 150, u'resize': u'crop', u'w': 150}}, u'indices': [93, 116], u'type': u'photo', u'id': 878265297794412544, u'media_url': u'http://pbs.twimg.com/media/DDA5opWWsAAaZpU.jpg'}]}, in_reply_to_screen_name=None, id_str=u'878265310150709248', retweet_count=1, in_reply_to_user_id=None, favorited=False, source_url=u'http://twitter.com/download/iphone', user=User(follow_request_sent=None, has_extended_profile=False, profile_use_background_image=True, _json={u'follow_request_sent': None, u'has_extended_profile': False, u'profile_use_background_image': True, u'default_profile_image': False, u'id': 714800527, u'profile_background_image_url_https': u'https://abs.twimg.com/images/themes/theme1/bg.png', u'verified': False, u'translator_type': u'none', u'profile_text_color': u'333333', u'profile_image_url_https': u'https://pbs.twimg.com/profile_images/434140148993773568/e9t7Dpuy_normal.jpeg', u'profile_sidebar_fill_color': u'DDEEF6', u'entities': {u'url': {u'urls': [{u'url': u'https://t.co/Ivc54hzmmR', u'indices': [0, 23], u'expanded_url': u'https://msmary.academia.edu/AlanCLee', u'display_url': u'msmary.academia.edu/AlanCLee'}]}, u'description': {u'urls': []}}, u'followers_count': 175, u'profile_sidebar_border_color': u'C0DEED', u'id_str': u'714800527', u'profile_background_color': u'C0DEED', u'listed_count': 0, u'is_translation_enabled': False, u'utc_offset': -25200, u'statuses_count': 142, u'description': u'APTA and ATA Member', u'friends_count': 117, u'location': u'United States', u'profile_link_color': u'1DA1F2', u'profile_image_url': u'http://pbs.twimg.com/profile_images/434140148993773568/e9t7Dpuy_normal.jpeg', u'following': None, u'geo_enabled': True, u'profile_background_image_url': u'http://abs.twimg.com/images/themes/theme1/bg.png', u'screen_name': u'alanleeDPT', u'lang': u'en', u'profile_background_tile': False, u'favourites_count': 70, u'name': u'alan lee', u'notifications': None, u'url': u'https://t.co/Ivc54hzmmR', u'created_at': u'Tue Jul 24 19:26:18 +0000 2012', u'contributors_enabled': False, u'time_zone': u'Pacific Time (US & Canada)', u'protected': False, u'default_profile': True, u'is_translator': False}, time_zone=u'Pacific Time (US & Canada)', id=714800527, description=u'APTA and ATA Member', _api=<tweepy.api.API object at 0x10d51d890>, verified=False, profile_text_color=u'333333', profile_image_url_https=u'https://pbs.twimg.com/profile_images/434140148993773568/e9t7Dpuy_normal.jpeg', profile_sidebar_fill_color=u'DDEEF6', is_translator=False, geo_enabled=True, entities={u'url': {u'urls': [{u'url': u'https://t.co/Ivc54hzmmR', u'indices': [0, 23], u'expanded_url': u'https://msmary.academia.edu/AlanCLee', u'display_url': u'msmary.academia.edu/AlanCLee'}]}, u'description': {u'urls': []}}, followers_count=175, protected=False, id_str=u'714800527', default_profile_image=False, listed_count=0, lang=u'en', utc_offset=-25200, statuses_count=142, profile_background_color=u'C0DEED', friends_count=117, profile_link_color=u'1DA1F2', profile_image_url=u'http://pbs.twimg.com/profile_images/434140148993773568/e9t7Dpuy_normal.jpeg', notifications=None, default_profile=True, profile_background_image_url_https=u'https://abs.twimg.com/images/themes/theme1/bg.png', profile_background_image_url=u'http://abs.twimg.com/images/themes/theme1/bg.png', name=u'alan lee', is_translation_enabled=False, profile_background_tile=False, favourites_count=70, screen_name=u'alanleeDPT', url=u'https://t.co/Ivc54hzmmR', created_at=datetime.datetime(2012, 7, 24, 19, 26, 18), contributors_enabled=False, location=u'United States', profile_sidebar_border_color=u'C0DEED', translator_type=u'none', following=False), geo=None, in_reply_to_user_id_str=None, possibly_sensitive=False, lang=u'en', created_at=datetime.datetime(2017, 6, 23, 14, 55, 41), in_reply_to_status_id_str=None, place=None, source=u'Twitter for iPhone', extended_entities={u'media': [{u'expanded_url': u'https://twitter.com/alanleeDPT/status/878265310150709248/photo/1', u'display_url': u'pic.twitter.com/Ikn3ruM0Yu', u'url': u'https://t.co/Ikn3ruM0Yu', u'media_url_https': u'https://pbs.twimg.com/media/DDA5opWWsAAaZpU.jpg', u'id_str': u'878265297794412544', u'sizes': {u'large': {u'h': 1136, u'resize': u'fit', u'w': 640}, u'small': {u'h': 680, u'resize': u'fit', u'w': 383}, u'medium': {u'h': 1136, u'resize': u'fit', u'w': 640}, u'thumb': {u'h': 150, u'resize': u'crop', u'w': 150}}, u'indices': [93, 116], u'type': u'photo', u'id': 878265297794412544, u'media_url': u'http://pbs.twimg.com/media/DDA5opWWsAAaZpU.jpg'}, {u'expanded_url': u'https://twitter.com/alanleeDPT/status/878265310150709248/photo/1', u'display_url': u'pic.twitter.com/Ikn3ruM0Yu', u'url': u'https://t.co/Ikn3ruM0Yu', u'media_url_https': u'https://pbs.twimg.com/media/DDA5opYXkAAOSQW.jpg', u'id_str': u'878265297802858496', u'sizes': {u'small': {u'h': 680, u'resize': u'fit', u'w': 383}, u'large': {u'h': 1136, u'resize': u'fit', u'w': 640}, u'medium': {u'h': 1136, u'resize': u'fit', u'w': 640}, u'thumb': {u'h': 150, u'resize': u'crop', u'w': 150}}, u'indices': [93, 116], u'type': u'photo', u'id': 878265297802858496, u'media_url': u'http://pbs.twimg.com/media/DDA5opYXkAAOSQW.jpg'}, {u'expanded_url': u'https://twitter.com/alanleeDPT/status/878265310150709248/photo/1', u'display_url': u'pic.twitter.com/Ikn3ruM0Yu', u'url': u'https://t.co/Ikn3ruM0Yu', u'media_url_https': u'https://pbs.twimg.com/media/DDA5opYWAAICWqO.jpg', u'id_str': u'878265297802756098', u'sizes': {u'large': {u'h': 1136, u'resize': u'fit', u'w': 640}, u'small': {u'h': 680, u'resize': u'fit', u'w': 383}, u'medium': {u'h': 1136, u'resize': u'fit', u'w': 640}, u'thumb': {u'h': 150, u'resize': u'crop', u'w': 150}}, u'indices': [93, 116], u'type': u'photo', u'id': 878265297802756098, u'media_url': u'http://pbs.twimg.com/media/DDA5opYWAAICWqO.jpg'}]}, retweeted=False, metadata={u'iso_language_code': u'en', u'result_type': u'recent'}), source_url=u'http://twitter.com/download/iphone', user=User(follow_request_sent=None, has_extended_profile=True, profile_use_background_image=True, _json={u'follow_request_sent': None, u'has_extended_profile': True, u'profile_use_background_image': True, u'default_profile_image': False, u'id': 709197379040202752, u'profile_background_image_url_https': None, u'verified': False, u'translator_type': u'none', u'profile_text_color': u'333333', u'profile_image_url_https': u'https://pbs.twimg.com/profile_images/709197925256077312/feD1HOEQ_normal.jpg', u'profile_sidebar_fill_color': u'DDEEF6', u'entities': {u'url': {u'urls': [{u'url': u'https://t.co/cOViwcxvoy', u'indices': [0, 23], u'expanded_url': u'http://www.calrehabbrea.com', u'display_url': u'calrehabbrea.com'}]}, u'description': {u'urls': []}}, u'followers_count': 890, u'profile_sidebar_border_color': u'C0DEED', u'id_str': u'709197379040202752', u'profile_background_color': u'F5F8FA', u'listed_count': 42, u'is_translation_enabled': False, u'utc_offset': None, u'statuses_count': 973, u'description': u\"physical therapist, clinic director/co-owner, OCS, consultant, aspiring entrepreneur, baseball/golf/punk rock/IPA's\", u'friends_count': 2315, u'location': u'Orange, CA', u'profile_link_color': u'1DA1F2', u'profile_image_url': u'http://pbs.twimg.com/profile_images/709197925256077312/feD1HOEQ_normal.jpg', u'following': None, u'geo_enabled': True, u'profile_background_image_url': None, u'screen_name': u'DrBryanStewart', u'lang': u'en', u'profile_background_tile': False, u'favourites_count': 1329, u'name': u'Bryan Stewart, DPT', u'notifications': None, u'url': u'https://t.co/cOViwcxvoy', u'created_at': u'Mon Mar 14 02:00:06 +0000 2016', u'contributors_enabled': False, u'time_zone': None, u'protected': False, u'default_profile': True, u'is_translator': False}, time_zone=None, id=709197379040202752, description=u\"physical therapist, clinic director/co-owner, OCS, consultant, aspiring entrepreneur, baseball/golf/punk rock/IPA's\", _api=<tweepy.api.API object at 0x10d51d890>, verified=False, profile_text_color=u'333333', profile_image_url_https=u'https://pbs.twimg.com/profile_images/709197925256077312/feD1HOEQ_normal.jpg', profile_sidebar_fill_color=u'DDEEF6', is_translator=False, geo_enabled=True, entities={u'url': {u'urls': [{u'url': u'https://t.co/cOViwcxvoy', u'indices': [0, 23], u'expanded_url': u'http://www.calrehabbrea.com', u'display_url': u'calrehabbrea.com'}]}, u'description': {u'urls': []}}, followers_count=890, protected=False, id_str=u'709197379040202752', default_profile_image=False, listed_count=42, lang=u'en', utc_offset=None, statuses_count=973, profile_background_color=u'F5F8FA', friends_count=2315, profile_link_color=u'1DA1F2', profile_image_url=u'http://pbs.twimg.com/profile_images/709197925256077312/feD1HOEQ_normal.jpg', notifications=None, default_profile=True, profile_background_image_url_https=None, profile_background_image_url=None, name=u'Bryan Stewart, DPT', is_translation_enabled=False, profile_background_tile=False, favourites_count=1329, screen_name=u'DrBryanStewart', url=u'https://t.co/cOViwcxvoy', created_at=datetime.datetime(2016, 3, 14, 2, 0, 6), contributors_enabled=False, location=u'Orange, CA', profile_sidebar_border_color=u'C0DEED', translator_type=u'none', following=False), geo=None, in_reply_to_user_id_str=None, possibly_sensitive=False, lang=u'en', created_at=datetime.datetime(2017, 6, 24, 1, 41, 37), in_reply_to_status_id_str=None, place=None, source=u'Twitter for iPhone', extended_entities={u'media': [{u'source_user_id': 714800527, u'source_status_id_str': u'878265310150709248', u'expanded_url': u'https://twitter.com/alanleeDPT/status/878265310150709248/photo/1', u'display_url': u'pic.twitter.com/Ikn3ruM0Yu', u'url': u'https://t.co/Ikn3ruM0Yu', u'media_url_https': u'https://pbs.twimg.com/media/DDA5opWWsAAaZpU.jpg', u'source_user_id_str': u'714800527', u'source_status_id': 878265310150709248, u'id_str': u'878265297794412544', u'sizes': {u'large': {u'h': 1136, u'resize': u'fit', u'w': 640}, u'small': {u'h': 680, u'resize': u'fit', u'w': 383}, u'medium': {u'h': 1136, u'resize': u'fit', u'w': 640}, u'thumb': {u'h': 150, u'resize': u'crop', u'w': 150}}, u'indices': [109, 132], u'type': u'photo', u'id': 878265297794412544, u'media_url': u'http://pbs.twimg.com/media/DDA5opWWsAAaZpU.jpg'}, {u'source_user_id': 714800527, u'source_status_id_str': u'878265310150709248', u'expanded_url': u'https://twitter.com/alanleeDPT/status/878265310150709248/photo/1', u'display_url': u'pic.twitter.com/Ikn3ruM0Yu', u'url': u'https://t.co/Ikn3ruM0Yu', u'media_url_https': u'https://pbs.twimg.com/media/DDA5opYXkAAOSQW.jpg', u'source_user_id_str': u'714800527', u'source_status_id': 878265310150709248, u'id_str': u'878265297802858496', u'sizes': {u'small': {u'h': 680, u'resize': u'fit', u'w': 383}, u'large': {u'h': 1136, u'resize': u'fit', u'w': 640}, u'medium': {u'h': 1136, u'resize': u'fit', u'w': 640}, u'thumb': {u'h': 150, u'resize': u'crop', u'w': 150}}, u'indices': [109, 132], u'type': u'photo', u'id': 878265297802858496, u'media_url': u'http://pbs.twimg.com/media/DDA5opYXkAAOSQW.jpg'}, {u'source_user_id': 714800527, u'source_status_id_str': u'878265310150709248', u'expanded_url': u'https://twitter.com/alanleeDPT/status/878265310150709248/photo/1', u'display_url': u'pic.twitter.com/Ikn3ruM0Yu', u'url': u'https://t.co/Ikn3ruM0Yu', u'media_url_https': u'https://pbs.twimg.com/media/DDA5opYWAAICWqO.jpg', u'source_user_id_str': u'714800527', u'source_status_id': 878265310150709248, u'id_str': u'878265297802756098', u'sizes': {u'large': {u'h': 1136, u'resize': u'fit', u'w': 640}, u'small': {u'h': 680, u'resize': u'fit', u'w': 383}, u'medium': {u'h': 1136, u'resize': u'fit', u'w': 640}, u'thumb': {u'h': 150, u'resize': u'crop', u'w': 150}}, u'indices': [109, 132], u'type': u'photo', u'id': 878265297802756098, u'media_url': u'http://pbs.twimg.com/media/DDA5opYWAAICWqO.jpg'}]}, retweeted=False, metadata={u'iso_language_code': u'en', u'result_type': u'recent'})\n"
     ]
    }
   ],
   "source": [
    "print results[0]"
   ]
  },
  {
   "cell_type": "markdown",
   "metadata": {
    "collapsed": true
   },
   "source": [
    "## Putting the tweets into MongoDB"
   ]
  },
  {
   "cell_type": "code",
   "execution_count": 6,
   "metadata": {
    "collapsed": false
   },
   "outputs": [],
   "source": [
    "import pymongo"
   ]
  },
  {
   "cell_type": "markdown",
   "metadata": {},
   "source": [
    "### Pulling in my EP3 Database"
   ]
  },
  {
   "cell_type": "code",
   "execution_count": 7,
   "metadata": {
    "collapsed": true
   },
   "outputs": [],
   "source": [
    "col = pymongo.MongoClient()['test']['Next2017Day2']"
   ]
  },
  {
   "cell_type": "markdown",
   "metadata": {},
   "source": [
    "### Showing what's in the database now"
   ]
  },
  {
   "cell_type": "code",
   "execution_count": 8,
   "metadata": {
    "collapsed": false
   },
   "outputs": [
    {
     "data": {
      "text/plain": [
       "0"
      ]
     },
     "execution_count": 8,
     "metadata": {},
     "output_type": "execute_result"
    }
   ],
   "source": [
    "col.count()"
   ]
  },
  {
   "cell_type": "markdown",
   "metadata": {},
   "source": [
    "### Putting each tweet in the database"
   ]
  },
  {
   "cell_type": "code",
   "execution_count": 9,
   "metadata": {
    "collapsed": true
   },
   "outputs": [],
   "source": [
    "for tweet in results:\n",
    "    col.insert_one(tweet._json)"
   ]
  },
  {
   "cell_type": "markdown",
   "metadata": {},
   "source": [
    "### Showing that they all made it in"
   ]
  },
  {
   "cell_type": "code",
   "execution_count": 10,
   "metadata": {
    "collapsed": false
   },
   "outputs": [
    {
     "data": {
      "text/plain": [
       "2198"
      ]
     },
     "execution_count": 10,
     "metadata": {},
     "output_type": "execute_result"
    }
   ],
   "source": [
    "col.count()"
   ]
  },
  {
   "cell_type": "markdown",
   "metadata": {},
   "source": [
    "## Tweets are Collected and Ready for Analysis!"
   ]
  }
 ],
 "metadata": {
  "anaconda-cloud": {},
  "kernelspec": {
   "display_name": "Python 2",
   "language": "python",
   "name": "python2"
  },
  "language_info": {
   "codemirror_mode": {
    "name": "ipython",
    "version": 2
   },
   "file_extension": ".py",
   "mimetype": "text/x-python",
   "name": "python",
   "nbconvert_exporter": "python",
   "pygments_lexer": "ipython2",
   "version": "2.7.12"
  }
 },
 "nbformat": 4,
 "nbformat_minor": 0
}
