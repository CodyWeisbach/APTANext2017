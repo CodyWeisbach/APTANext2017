{
 "cells": [
  {
   "cell_type": "markdown",
   "metadata": {},
   "source": [
    "# Twitter Analysis of EP3 East and West Conferences"
   ]
  },
  {
   "cell_type": "markdown",
   "metadata": {},
   "source": [
    "First I'll import the libraries that are needed"
   ]
  },
  {
   "cell_type": "code",
   "execution_count": null,
   "metadata": {
    "collapsed": false
   },
   "outputs": [],
   "source": [
    "%matplotlib inline\n",
    "import pymongo\n",
    "from datetime import date\n",
    "import pandas as pd\n",
    "import numpy as np\n",
    "import matplotlib.pyplot as plt\n",
    "from wordcloud import WordCloud, STOPWORDS, ImageColorGenerator\n"
   ]
  },
  {
   "cell_type": "markdown",
   "metadata": {},
   "source": [
    "## EP3 East Analysis"
   ]
  },
  {
   "cell_type": "markdown",
   "metadata": {},
   "source": [
    "### Data Wrangling\n",
    "Before I can analyze anything, I need to get the data out of my database and organize it into a form that can easily be analyzed. "
   ]
  },
  {
   "cell_type": "markdown",
   "metadata": {},
   "source": [
    "First I'll make a connection to my database. Everything is stored in a database called MongoDB on my laptop. "
   ]
  },
  {
   "cell_type": "code",
   "execution_count": null,
   "metadata": {
    "collapsed": true
   },
   "outputs": [],
   "source": [
    "client_con = pymongo.MongoClient()"
   ]
  },
  {
   "cell_type": "code",
   "execution_count": null,
   "metadata": {
    "collapsed": false
   },
   "outputs": [],
   "source": [
    "client_con.database_names()"
   ]
  },
  {
   "cell_type": "code",
   "execution_count": null,
   "metadata": {
    "collapsed": true
   },
   "outputs": [],
   "source": [
    "local_db = client_con['test']"
   ]
  },
  {
   "cell_type": "code",
   "execution_count": null,
   "metadata": {
    "collapsed": false
   },
   "outputs": [],
   "source": [
    "local_db.collection_names()"
   ]
  },
  {
   "cell_type": "markdown",
   "metadata": {},
   "source": [
    "'ep3' is the collection with the ep3east data.  \n",
    "I'll load the data into a variable called data_set"
   ]
  },
  {
   "cell_type": "code",
   "execution_count": null,
   "metadata": {
    "collapsed": false
   },
   "outputs": [],
   "source": [
    "data_set = local_db['ep3']"
   ]
  },
  {
   "cell_type": "markdown",
   "metadata": {},
   "source": [
    "Next I'll take a quick look at how many tweets are in there"
   ]
  },
  {
   "cell_type": "code",
   "execution_count": null,
   "metadata": {
    "collapsed": false
   },
   "outputs": [],
   "source": [
    "data_set.count()"
   ]
  },
  {
   "cell_type": "markdown",
   "metadata": {},
   "source": [
    "In case you are wondering, this is what one tweet looks like. \n",
    "There's a ton of data in each tweet, which is one of the reasons I'm interested in this"
   ]
  },
  {
   "cell_type": "code",
   "execution_count": null,
   "metadata": {
    "collapsed": false
   },
   "outputs": [],
   "source": [
    "print data_set.find_one()"
   ]
  },
  {
   "cell_type": "markdown",
   "metadata": {},
   "source": [
    "Now I need to change the format of the data to something easier to look at.\n",
    "First, I'll make the database collection into a list of dictionaries, which is easier to work with in Python"
   ]
  },
  {
   "cell_type": "code",
   "execution_count": null,
   "metadata": {
    "collapsed": false
   },
   "outputs": [],
   "source": [
    "tweet_data = list(data_set.find())"
   ]
  },
  {
   "cell_type": "markdown",
   "metadata": {},
   "source": [
    "Next I'll make that list into a dataframe, which looks more like a spread sheet\n",
    "I'm going to make it a function that I can use over again for the west data set"
   ]
  },
  {
   "cell_type": "code",
   "execution_count": null,
   "metadata": {
    "collapsed": false
   },
   "outputs": [],
   "source": [
    "def process_results(results):\n",
    "    id_list = [tweet['id'] for tweet in results]\n",
    "    data_set = pd.DataFrame(id_list, columns = [\"id\"])\n",
    "    \n",
    "    data_set['user'] = [tweet['user']['screen_name'] for tweet in results]\n",
    "    data_set[\"text\"] = [tweet['text'] for tweet in results]\n",
    "    data_set[\"retweet_count\"] = [tweet['retweet_count'] for tweet in results]\n",
    "    data_set[\"favorite_count\"] = [tweet['favorite_count'] for tweet in results]\n",
    "    data_set[\"created_at\"] = [tweet['created_at'] for tweet in results]\n",
    "    \n",
    "    return data_set"
   ]
  },
  {
   "cell_type": "markdown",
   "metadata": {},
   "source": [
    "Now I'll use that function to process my data into the dataframe and store it in a variable df"
   ]
  },
  {
   "cell_type": "code",
   "execution_count": null,
   "metadata": {
    "collapsed": false
   },
   "outputs": [],
   "source": [
    "df_east = process_results(tweet_data)"
   ]
  },
  {
   "cell_type": "markdown",
   "metadata": {},
   "source": [
    "Let's take a look at it.  \n",
    "First I'll check the length, hopefully it's the same as my number of records above.  \n",
    "Then I'll look at the top 5 rows and the bottom 5 rows to make sure it all looks right."
   ]
  },
  {
   "cell_type": "code",
   "execution_count": null,
   "metadata": {
    "collapsed": false
   },
   "outputs": [],
   "source": [
    "len(df_east)"
   ]
  },
  {
   "cell_type": "code",
   "execution_count": null,
   "metadata": {
    "collapsed": false
   },
   "outputs": [],
   "source": [
    "df_east.head()"
   ]
  },
  {
   "cell_type": "code",
   "execution_count": null,
   "metadata": {
    "collapsed": false
   },
   "outputs": [],
   "source": [
    "df_east.tail()"
   ]
  },
  {
   "cell_type": "markdown",
   "metadata": {},
   "source": [
    "It all looks good.  \n",
    "Now I need to change the 'created_at' column to a different format that will make is easier for me to split up the data sets. "
   ]
  },
  {
   "cell_type": "code",
   "execution_count": null,
   "metadata": {
    "collapsed": true
   },
   "outputs": [],
   "source": [
    "df_east['created_at'] = pd.to_datetime(df_east['created_at'])"
   ]
  },
  {
   "cell_type": "code",
   "execution_count": null,
   "metadata": {
    "collapsed": false
   },
   "outputs": [],
   "source": [
    "df_east.head()"
   ]
  },
  {
   "cell_type": "markdown",
   "metadata": {},
   "source": [
    "Now I'll make a new column that adds retweets plus favorites. That will give some idea of the importance of a particular tweet. "
   ]
  },
  {
   "cell_type": "code",
   "execution_count": null,
   "metadata": {
    "collapsed": false
   },
   "outputs": [],
   "source": [
    "df_east['important_tweets'] = df_east['retweet_count'] + df_east['favorite_count']\n",
    "df_east.head()"
   ]
  },
  {
   "cell_type": "markdown",
   "metadata": {
    "collapsed": false
   },
   "source": [
    "Next, we to adjust the data set to only look at origional tweets, not retweets. "
   ]
  },
  {
   "cell_type": "markdown",
   "metadata": {},
   "source": [
    "First, I'll make a column looking at whether or not is was retweeted"
   ]
  },
  {
   "cell_type": "code",
   "execution_count": null,
   "metadata": {
    "collapsed": false
   },
   "outputs": [],
   "source": [
    "df_east['retweeted'] = df_east['text'].str.startswith('RT')"
   ]
  },
  {
   "cell_type": "code",
   "execution_count": null,
   "metadata": {
    "collapsed": false
   },
   "outputs": [],
   "source": [
    "df_east.head()"
   ]
  },
  {
   "cell_type": "markdown",
   "metadata": {},
   "source": [
    "### Total Tweets for EP3 East\n",
    "Now I'll include only the origional tweets in the data set. \n",
    "Then I'll look at how many we have"
   ]
  },
  {
   "cell_type": "code",
   "execution_count": null,
   "metadata": {
    "collapsed": false
   },
   "outputs": [],
   "source": [
    "df_east = df_east[df_east['retweeted'] == False]\n",
    "len(df_east)"
   ]
  },
  {
   "cell_type": "markdown",
   "metadata": {},
   "source": [
    "So, the variable df is our dataset for the full ep3east conference. \n",
    "Before we run our analyses, let's make a data set for each day and see how many origional tweets are in each one. "
   ]
  },
  {
   "cell_type": "markdown",
   "metadata": {},
   "source": [
    "### Total Tweets for EP3 East Day 1\n",
    "Day 1 - 12/2/16"
   ]
  },
  {
   "cell_type": "code",
   "execution_count": null,
   "metadata": {
    "collapsed": false
   },
   "outputs": [],
   "source": [
    "east1 = df_east[df_east['created_at'] < '2016-12-03']\n",
    "len(east1)"
   ]
  },
  {
   "cell_type": "markdown",
   "metadata": {},
   "source": [
    "### Total Tweets for EP3 East Day 2\n",
    "Day 2- 12/3/16"
   ]
  },
  {
   "cell_type": "code",
   "execution_count": null,
   "metadata": {
    "collapsed": false
   },
   "outputs": [],
   "source": [
    "df1 = df_east[df_east['created_at'] > '2016-12-03']\n",
    "east2 = df1[df1['created_at'] < '2016-12-04']\n",
    "len(east2)"
   ]
  },
  {
   "cell_type": "markdown",
   "metadata": {},
   "source": [
    "### Total Tweets for EP3 East Day 3\n",
    "Day 3- 12/4/16"
   ]
  },
  {
   "cell_type": "code",
   "execution_count": null,
   "metadata": {
    "collapsed": false
   },
   "outputs": [],
   "source": [
    "east3 = df_east[df_east['created_at'] > '2016-12-04']\n",
    "len(east3)"
   ]
  },
  {
   "cell_type": "markdown",
   "metadata": {},
   "source": [
    "### EP3 East Total Retweets and Total Favorites\n",
    "Next, let's look at some numbers from the full conference data set.   \n",
    "We have total tweets (664). Let's also look at total retweets and total favorites"
   ]
  },
  {
   "cell_type": "code",
   "execution_count": null,
   "metadata": {
    "collapsed": false
   },
   "outputs": [],
   "source": [
    "east_retweets = df_east['retweet_count'].sum()\n",
    "print east_retweets\n",
    "east_favorites = df_east['favorite_count'].sum()\n",
    "print east_favorites"
   ]
  },
  {
   "cell_type": "markdown",
   "metadata": {},
   "source": [
    "## Top 10 Tweets from EP3 East\n",
    "Now let's look at the 10 most importatn tweets.  \n",
    "First we'll sort the data by \"important_tweets\" to with highest number on top.  \n",
    "Then we'll show the top 10\n",
    "If you want to see the origional tweet, just go to http://twitter.com/statuses/(put the tweet ID at the end)"
   ]
  },
  {
   "cell_type": "code",
   "execution_count": null,
   "metadata": {
    "collapsed": false
   },
   "outputs": [],
   "source": [
    "sorted_east = df_east.sort_values(['important_tweets'], ascending = False)\n",
    "sorted_east.head(10)"
   ]
  },
  {
   "cell_type": "markdown",
   "metadata": {},
   "source": [
    "### Word Cloud\n",
    "The Last step for the full conference analysis is the Word Cloud"
   ]
  },
  {
   "cell_type": "code",
   "execution_count": null,
   "metadata": {
    "collapsed": false
   },
   "outputs": [],
   "source": [
    "text = \" \".join(df_east[\"text\"].values)\n",
    "no_url_no_tag = \" \".join([word for word in text.split(' ')\n",
    "                        if 'http' not in word\n",
    "                        and not word.startswith('@')\n",
    "                        and word != 'RT'\n",
    "                        and word != 'ep3east'])\n",
    "wc = WordCloud(background_color=\"white\", font_path=\"/Library/Fonts/Verdana.ttf\", stopwords=STOPWORDS, width=500, height=300)\n",
    "wc.generate(no_url_no_tag)\n",
    "plt.imshow(wc)\n",
    "plt.axis(\"off\")\n",
    "plt.title(\"EP3 East- Full Conference\")\n",
    "plt.savefig('ep3east.png', dpi=500)\n",
    "plt.show()"
   ]
  },
  {
   "cell_type": "markdown",
   "metadata": {
    "collapsed": false
   },
   "source": [
    "Now to do the same things for days 1, 2 and 3 individually  \n",
    "For these we'll just get the top 5 tweets of the day"
   ]
  },
  {
   "cell_type": "markdown",
   "metadata": {},
   "source": [
    "### EP3 East Day 1 Retweets and Favorites\n",
    "Day 1"
   ]
  },
  {
   "cell_type": "code",
   "execution_count": null,
   "metadata": {
    "collapsed": false
   },
   "outputs": [],
   "source": [
    "east1_retweets = east1['retweet_count'].sum()\n",
    "print east1_retweets\n",
    "east1_favorites = east1['favorite_count'].sum()\n",
    "print east1_favorites"
   ]
  },
  {
   "cell_type": "markdown",
   "metadata": {},
   "source": [
    "### EP3 East Day 1 Top 5 Tweets"
   ]
  },
  {
   "cell_type": "code",
   "execution_count": null,
   "metadata": {
    "collapsed": false
   },
   "outputs": [],
   "source": [
    "east1sorted_df = east1.sort_values(['important_tweets'], ascending = False)\n",
    "east1sorted_df.head(5)"
   ]
  },
  {
   "cell_type": "markdown",
   "metadata": {},
   "source": [
    "### EP3 East Day 1 Word Cloud"
   ]
  },
  {
   "cell_type": "code",
   "execution_count": null,
   "metadata": {
    "collapsed": false
   },
   "outputs": [],
   "source": [
    "text = \" \".join(east1[\"text\"].values)\n",
    "no_url_no_tag = \" \".join([word for word in text.split(' ')\n",
    "                        if 'http' not in word\n",
    "                        and not word.startswith('@')\n",
    "                        and word != 'RT'\n",
    "                        and word != 'ep3east'])\n",
    "wc = WordCloud(background_color=\"white\", font_path=\"/Library/Fonts/Verdana.ttf\", stopwords=STOPWORDS, width=500, height=300)\n",
    "wc.generate(no_url_no_tag)\n",
    "plt.imshow(wc)\n",
    "plt.axis(\"off\")\n",
    "plt.title(\"EP3 East- Day 1\")\n",
    "plt.savefig('ep3east_day1.png', dpi=500)\n",
    "plt.show()"
   ]
  },
  {
   "cell_type": "markdown",
   "metadata": {},
   "source": [
    "### EP3 East Day 2 Retweets and Favorites\n",
    "Day 2"
   ]
  },
  {
   "cell_type": "code",
   "execution_count": null,
   "metadata": {
    "collapsed": false
   },
   "outputs": [],
   "source": [
    "east2_retweets = east2['retweet_count'].sum()\n",
    "print east2_retweets\n",
    "east2_favorites = east2['favorite_count'].sum()\n",
    "print east2_favorites"
   ]
  },
  {
   "cell_type": "markdown",
   "metadata": {},
   "source": [
    "### EP3 East Day 2 Top 5 Tweets"
   ]
  },
  {
   "cell_type": "code",
   "execution_count": null,
   "metadata": {
    "collapsed": false
   },
   "outputs": [],
   "source": [
    "east2sorted_df = east2.sort_values(['important_tweets'], ascending = False)\n",
    "east2sorted_df.head(5)"
   ]
  },
  {
   "cell_type": "markdown",
   "metadata": {},
   "source": [
    "### EP3 East Day 2 Word Cloud"
   ]
  },
  {
   "cell_type": "code",
   "execution_count": null,
   "metadata": {
    "collapsed": false
   },
   "outputs": [],
   "source": [
    "text = \" \".join(east2[\"text\"].values)\n",
    "no_url_no_tag = \" \".join([word for word in text.split(' ')\n",
    "                        if 'http' not in word\n",
    "                        and not word.startswith('@')\n",
    "                        and word != 'RT'\n",
    "                        and word != 'ep3east'])\n",
    "wc = WordCloud(background_color=\"white\", font_path=\"/Library/Fonts/Verdana.ttf\", stopwords=STOPWORDS, width=500, height=300)\n",
    "wc.generate(no_url_no_tag)\n",
    "plt.imshow(wc)\n",
    "plt.axis(\"off\")\n",
    "plt.title(\"EP3 East- Day 2\")\n",
    "plt.savefig('ep3east_day2.png', dpi=500)\n",
    "plt.show()"
   ]
  },
  {
   "cell_type": "markdown",
   "metadata": {},
   "source": [
    "### Day 3 EP3 East Retweets and Favorites\n",
    "Day 3"
   ]
  },
  {
   "cell_type": "code",
   "execution_count": null,
   "metadata": {
    "collapsed": false
   },
   "outputs": [],
   "source": [
    "east3_retweets = east3['retweet_count'].sum()\n",
    "print east3_retweets\n",
    "east3_favorites = east3['favorite_count'].sum()\n",
    "print east3_favorites"
   ]
  },
  {
   "cell_type": "markdown",
   "metadata": {},
   "source": [
    "### Day 3 EP3 East Top 5 Tweets"
   ]
  },
  {
   "cell_type": "code",
   "execution_count": null,
   "metadata": {
    "collapsed": false
   },
   "outputs": [],
   "source": [
    "east3sorted_df = east3.sort_values(['important_tweets'], ascending = False)\n",
    "east3sorted_df.head(5)"
   ]
  },
  {
   "cell_type": "markdown",
   "metadata": {},
   "source": [
    "### EP3 East Day 3 Word Cloud"
   ]
  },
  {
   "cell_type": "code",
   "execution_count": null,
   "metadata": {
    "collapsed": false
   },
   "outputs": [],
   "source": [
    "text = \" \".join(east3[\"text\"].values)\n",
    "no_url_no_tag = \" \".join([word for word in text.split(' ')\n",
    "                        if 'http' not in word\n",
    "                        and not word.startswith('@')\n",
    "                        and word != 'RT'\n",
    "                        and word != 'ep3east'])\n",
    "wc = WordCloud(background_color=\"white\", font_path=\"/Library/Fonts/Verdana.ttf\", stopwords=STOPWORDS, width=500, height=300)\n",
    "wc.generate(no_url_no_tag)\n",
    "plt.imshow(wc)\n",
    "plt.axis(\"off\")\n",
    "plt.title(\"EP3 East- Day 3\")\n",
    "plt.savefig('ep3east_day3.png', dpi=500)\n",
    "plt.show()"
   ]
  },
  {
   "cell_type": "markdown",
   "metadata": {},
   "source": [
    "## EP3 West Analysis"
   ]
  },
  {
   "cell_type": "markdown",
   "metadata": {},
   "source": [
    "All that looks good. Now let's do the same for the ep3west conference.  \n",
    "Like before I'll grab the data from my database and put it into a dataframe.  \n",
    "Next I'll change the format of the 'created_at column' then add the retweets+favorites column, then take out the retweets.  \n",
    "On origional step that I will have to do is get rid of duplicates. I believe that I doubled up on collecting day 1 of the conference, so we'll have to make sure that we aren't counting duplicates. "
   ]
  },
  {
   "cell_type": "code",
   "execution_count": null,
   "metadata": {
    "collapsed": false
   },
   "outputs": [],
   "source": [
    "dataset_west = local_db['ep3west']"
   ]
  },
  {
   "cell_type": "code",
   "execution_count": null,
   "metadata": {
    "collapsed": false
   },
   "outputs": [],
   "source": [
    "dataset_west.count()"
   ]
  },
  {
   "cell_type": "code",
   "execution_count": null,
   "metadata": {
    "collapsed": true
   },
   "outputs": [],
   "source": [
    "tweets_west = list(dataset_west.find())"
   ]
  },
  {
   "cell_type": "code",
   "execution_count": null,
   "metadata": {
    "collapsed": false
   },
   "outputs": [],
   "source": [
    "df_west = process_results(tweets_west)"
   ]
  },
  {
   "cell_type": "code",
   "execution_count": null,
   "metadata": {
    "collapsed": false
   },
   "outputs": [],
   "source": [
    "len(df_west)"
   ]
  },
  {
   "cell_type": "code",
   "execution_count": null,
   "metadata": {
    "collapsed": false
   },
   "outputs": [],
   "source": [
    "df_west = df_west.drop_duplicates('id')"
   ]
  },
  {
   "cell_type": "code",
   "execution_count": null,
   "metadata": {
    "collapsed": false
   },
   "outputs": [],
   "source": [
    "len(df_west)"
   ]
  },
  {
   "cell_type": "code",
   "execution_count": null,
   "metadata": {
    "collapsed": true
   },
   "outputs": [],
   "source": [
    "df_west['created_at'] = pd.to_datetime(df_west['created_at'])"
   ]
  },
  {
   "cell_type": "code",
   "execution_count": null,
   "metadata": {
    "collapsed": true
   },
   "outputs": [],
   "source": [
    "df_west['important_tweets'] = df_west['retweet_count'] + df_west['favorite_count']"
   ]
  },
  {
   "cell_type": "code",
   "execution_count": null,
   "metadata": {
    "collapsed": true
   },
   "outputs": [],
   "source": [
    "df_west['retweeted'] = df_west['text'].str.startswith('RT')"
   ]
  },
  {
   "cell_type": "markdown",
   "metadata": {},
   "source": [
    "### Total Tweets for EP3 West"
   ]
  },
  {
   "cell_type": "code",
   "execution_count": null,
   "metadata": {
    "collapsed": false
   },
   "outputs": [],
   "source": [
    "df_west = df_west[df_west['retweeted'] == False]\n",
    "len(df_west)"
   ]
  },
  {
   "cell_type": "markdown",
   "metadata": {},
   "source": [
    "Wow, Very nearly the same number of origional tweets for EP3 East and EP3 West!  \n",
    "Let's take a look at the top and bottom of the dataframe"
   ]
  },
  {
   "cell_type": "code",
   "execution_count": null,
   "metadata": {
    "collapsed": false
   },
   "outputs": [],
   "source": [
    "df_west.head()"
   ]
  },
  {
   "cell_type": "code",
   "execution_count": null,
   "metadata": {
    "collapsed": false
   },
   "outputs": [],
   "source": [
    "df_west.tail()"
   ]
  },
  {
   "cell_type": "markdown",
   "metadata": {},
   "source": [
    "It all looks good. Now let's make the data set for the 3 days of the West conference"
   ]
  },
  {
   "cell_type": "markdown",
   "metadata": {},
   "source": [
    "### EP3 West Day 1 Total Tweets\n",
    "Day 1- 12/9/16"
   ]
  },
  {
   "cell_type": "code",
   "execution_count": null,
   "metadata": {
    "collapsed": false
   },
   "outputs": [],
   "source": [
    "west1 = df_west[df_west['created_at'] < '2016-12-10']\n",
    "len(west1)"
   ]
  },
  {
   "cell_type": "markdown",
   "metadata": {},
   "source": [
    "### EP3 West Day 2 Total Tweets\n",
    "Day 2- 12/10/16"
   ]
  },
  {
   "cell_type": "code",
   "execution_count": null,
   "metadata": {
    "collapsed": false
   },
   "outputs": [],
   "source": [
    "west_df1 = df_west[df_west['created_at'] > '2016-12-10']\n",
    "west2 = west_df1[west_df1['created_at'] < '2016-12-11']\n",
    "len(west2)"
   ]
  },
  {
   "cell_type": "markdown",
   "metadata": {},
   "source": [
    "### EP3 West Day 3 Total Tweets\n",
    "Day 3- 12/11/16"
   ]
  },
  {
   "cell_type": "code",
   "execution_count": null,
   "metadata": {
    "collapsed": false
   },
   "outputs": [],
   "source": [
    "west3 = df_west[df_west['created_at'] > '2016-12-11']\n",
    "len(west3)"
   ]
  },
  {
   "cell_type": "markdown",
   "metadata": {},
   "source": [
    "Now that we have our data sets for all of our dats, let's calculate the total number of retweets, the total number of favorites and the most important tweets. \n",
    "We'll start with the full conference data. "
   ]
  },
  {
   "cell_type": "markdown",
   "metadata": {},
   "source": [
    "### EP3 West Full Conference Retweets and Favorites"
   ]
  },
  {
   "cell_type": "code",
   "execution_count": null,
   "metadata": {
    "collapsed": false
   },
   "outputs": [],
   "source": [
    "west_retweets = df_west['retweet_count'].sum()\n",
    "print west_retweets\n",
    "west_favorites = df_west['favorite_count'].sum()\n",
    "print west_favorites"
   ]
  },
  {
   "cell_type": "markdown",
   "metadata": {},
   "source": [
    "### EP3 West Top 10 Tweets"
   ]
  },
  {
   "cell_type": "code",
   "execution_count": null,
   "metadata": {
    "collapsed": false
   },
   "outputs": [],
   "source": [
    "sorted_west = df_west.sort_values(['important_tweets'], ascending = False)\n",
    "sorted_west.head(10)"
   ]
  },
  {
   "cell_type": "markdown",
   "metadata": {},
   "source": [
    "### EP3 West Full Conference Word Cloud"
   ]
  },
  {
   "cell_type": "code",
   "execution_count": null,
   "metadata": {
    "collapsed": false
   },
   "outputs": [],
   "source": [
    "text = \" \".join(df_west[\"text\"].values)\n",
    "no_url_no_tag = \" \".join([word for word in text.split(' ')\n",
    "                        if 'http' not in word\n",
    "                        and not word.startswith('@')\n",
    "                        and word != 'RT'\n",
    "                        and word != 'ep3east'])\n",
    "wc = WordCloud(background_color=\"white\", font_path=\"/Library/Fonts/Verdana.ttf\", stopwords=STOPWORDS, width=500, height=300)\n",
    "wc.generate(no_url_no_tag)\n",
    "plt.imshow(wc)\n",
    "plt.axis(\"off\")\n",
    "plt.title(\"EP3 West- Full Conference\")\n",
    "plt.savefig('ep3west.png', dpi=500)\n",
    "plt.show()"
   ]
  },
  {
   "cell_type": "markdown",
   "metadata": {},
   "source": [
    "On to the analysis by day for the West.  \n",
    "Again we'll start with total retweets and favorites, then do the top 5 tweets and look at those for each day."
   ]
  },
  {
   "cell_type": "markdown",
   "metadata": {},
   "source": [
    "### EP3 West Day 1 Retweets and Favorites\n",
    "Day 1- 12/9/16"
   ]
  },
  {
   "cell_type": "code",
   "execution_count": null,
   "metadata": {
    "collapsed": false
   },
   "outputs": [],
   "source": [
    "west1_retweets = west1['retweet_count'].sum()\n",
    "print west1_retweets\n",
    "west1_favorites = west1['favorite_count'].sum()\n",
    "print west1_favorites"
   ]
  },
  {
   "cell_type": "markdown",
   "metadata": {},
   "source": [
    "### EP3 West Day 1 Top 5 Tweets"
   ]
  },
  {
   "cell_type": "code",
   "execution_count": null,
   "metadata": {
    "collapsed": false
   },
   "outputs": [],
   "source": [
    "sorted_west1 = west1.sort_values(['important_tweets'], ascending = False)\n",
    "sorted_west1.head(5)"
   ]
  },
  {
   "cell_type": "markdown",
   "metadata": {},
   "source": [
    "### EP3 West Day 1 Word Cloud"
   ]
  },
  {
   "cell_type": "code",
   "execution_count": null,
   "metadata": {
    "collapsed": false
   },
   "outputs": [],
   "source": [
    "text = \" \".join(west1[\"text\"].values)\n",
    "no_url_no_tag = \" \".join([word for word in text.split(' ')\n",
    "                        if 'http' not in word\n",
    "                        and not word.startswith('@')\n",
    "                        and word != 'RT'\n",
    "                        and word != 'ep3east'])\n",
    "wc = WordCloud(background_color=\"white\", font_path=\"/Library/Fonts/Verdana.ttf\", stopwords=STOPWORDS, width=500, height=300)\n",
    "wc.generate(no_url_no_tag)\n",
    "plt.imshow(wc)\n",
    "plt.axis(\"off\")\n",
    "plt.title(\"EP3 West- Day 1\")\n",
    "plt.savefig('ep3west_day1.png', dpi=500)\n",
    "plt.show()"
   ]
  },
  {
   "cell_type": "markdown",
   "metadata": {},
   "source": [
    "### EP3 West Day 2 Retweets and Favorites\n",
    "Day 2- 12/10/16"
   ]
  },
  {
   "cell_type": "code",
   "execution_count": null,
   "metadata": {
    "collapsed": false
   },
   "outputs": [],
   "source": [
    "west2_retweets = west2['retweet_count'].sum()\n",
    "print west2_retweets\n",
    "west2_favorites = west2['favorite_count'].sum()\n",
    "print west2_favorites"
   ]
  },
  {
   "cell_type": "markdown",
   "metadata": {},
   "source": [
    "### EP3 West Day 2 Top 5 Tweets"
   ]
  },
  {
   "cell_type": "code",
   "execution_count": null,
   "metadata": {
    "collapsed": false
   },
   "outputs": [],
   "source": [
    "sorted_west2 = west2.sort_values(['important_tweets'], ascending = False)\n",
    "sorted_west2.head(5)"
   ]
  },
  {
   "cell_type": "markdown",
   "metadata": {},
   "source": [
    "### EP3 West Day 2 Word Cloud"
   ]
  },
  {
   "cell_type": "code",
   "execution_count": null,
   "metadata": {
    "collapsed": false
   },
   "outputs": [],
   "source": [
    "text = \" \".join(west2[\"text\"].values)\n",
    "no_url_no_tag = \" \".join([word for word in text.split(' ')\n",
    "                        if 'http' not in word\n",
    "                        and not word.startswith('@')\n",
    "                        and word != 'RT'\n",
    "                        and word != 'ep3east'])\n",
    "wc = WordCloud(background_color=\"white\", font_path=\"/Library/Fonts/Verdana.ttf\", stopwords=STOPWORDS, width=500, height=300)\n",
    "wc.generate(no_url_no_tag)\n",
    "plt.imshow(wc)\n",
    "plt.axis(\"off\")\n",
    "plt.title(\"EP3 West- Day 2\")\n",
    "plt.savefig('ep3west_day2.png', dpi=500)\n",
    "plt.show()"
   ]
  },
  {
   "cell_type": "markdown",
   "metadata": {},
   "source": [
    "### EP3 West Day 3 Retweets and Favorites\n",
    "Day 3- 12/11/16"
   ]
  },
  {
   "cell_type": "code",
   "execution_count": null,
   "metadata": {
    "collapsed": false
   },
   "outputs": [],
   "source": [
    "west3_retweets = west3['retweet_count'].sum()\n",
    "print west3_retweets\n",
    "west3_favorites = west3['favorite_count'].sum()\n",
    "print west3_favorites"
   ]
  },
  {
   "cell_type": "markdown",
   "metadata": {},
   "source": [
    "### EP3 West Day 3 Top 5 Tweets"
   ]
  },
  {
   "cell_type": "code",
   "execution_count": null,
   "metadata": {
    "collapsed": false
   },
   "outputs": [],
   "source": [
    "sorted_west3 = west3.sort_values(['important_tweets'], ascending = False)\n",
    "sorted_west3.head(5)"
   ]
  },
  {
   "cell_type": "markdown",
   "metadata": {},
   "source": [
    "### EP3 West Day 3 Word Cloud"
   ]
  },
  {
   "cell_type": "code",
   "execution_count": null,
   "metadata": {
    "collapsed": false
   },
   "outputs": [],
   "source": [
    "text = \" \".join(west3[\"text\"].values)\n",
    "no_url_no_tag = \" \".join([word for word in text.split(' ')\n",
    "                        if 'http' not in word\n",
    "                        and not word.startswith('@')\n",
    "                        and word != 'RT'\n",
    "                        and word != 'ep3east'])\n",
    "wc = WordCloud(background_color=\"white\", font_path=\"/Library/Fonts/Verdana.ttf\", stopwords=STOPWORDS, width=500, height=300)\n",
    "wc.generate(no_url_no_tag)\n",
    "plt.imshow(wc)\n",
    "plt.axis(\"off\")\n",
    "plt.title(\"EP3 West- Day 3\")\n",
    "plt.savefig('ep3west_day3.png', dpi=500)\n",
    "plt.show()"
   ]
  },
  {
   "cell_type": "markdown",
   "metadata": {},
   "source": [
    "Great, now we've got all of our data, but it's tough to look at. Let's make some bar graphs and compare West to East in each category."
   ]
  },
  {
   "cell_type": "markdown",
   "metadata": {},
   "source": [
    "## Charts to Make Comparisons Easier"
   ]
  },
  {
   "cell_type": "markdown",
   "metadata": {},
   "source": [
    "First let's look at total tweets for each conference"
   ]
  },
  {
   "cell_type": "code",
   "execution_count": null,
   "metadata": {
    "collapsed": false
   },
   "outputs": [],
   "source": [
    "east = len(df_east)\n",
    "west = len(df_west)\n",
    "labels = [\"East\", \"West\"]\n",
    "data = [east, west]\n",
    "\n",
    "xlocations = np.array(range(len(data)))+0.5\n",
    "width = 0.5\n",
    "plt.bar(xlocations, data, width=width)\n",
    "plt.xticks(xlocations+width/2, labels)\n",
    "plt.xlim(0, xlocations[-1]+width*2)\n",
    "plt.title(\"Total Tweets by Conference\")\n",
    "plt.ylabel(\"Tweets\")\n",
    "plt.savefig(\"total tweets by conference.png\")\n",
    "plt.show()"
   ]
  },
  {
   "cell_type": "markdown",
   "metadata": {
    "collapsed": true
   },
   "source": [
    "Now Let's Look at Retweets by Conference"
   ]
  },
  {
   "cell_type": "code",
   "execution_count": null,
   "metadata": {
    "collapsed": false
   },
   "outputs": [],
   "source": [
    "east = east_retweets\n",
    "west = west_retweets\n",
    "labels = [\"East\", \"West\"]\n",
    "data = [east, west]\n",
    "\n",
    "xlocations = np.array(range(len(data)))+0.5\n",
    "width = 0.5\n",
    "plt.bar(xlocations, data, width=width)\n",
    "plt.xticks(xlocations+width/2, labels)\n",
    "plt.xlim(0, xlocations[-1]+width*2)\n",
    "plt.title(\"Total Retweets by Conference\")\n",
    "plt.ylabel(\"Reweets\")\n",
    "plt.savefig(\"Total Retweets by Conference.png\")\n",
    "\n",
    "plt.show()"
   ]
  },
  {
   "cell_type": "markdown",
   "metadata": {},
   "source": [
    "Next we'll look at favorites by conference"
   ]
  },
  {
   "cell_type": "code",
   "execution_count": null,
   "metadata": {
    "collapsed": false
   },
   "outputs": [],
   "source": [
    "east = east_favorites\n",
    "west = west_favorites\n",
    "labels = [\"East\", \"West\"]\n",
    "data = [east, west]\n",
    "\n",
    "xlocations = np.array(range(len(data)))+0.5\n",
    "width = 0.5\n",
    "plt.bar(xlocations, data, width=width)\n",
    "plt.xticks(xlocations+width/2, labels)\n",
    "plt.xlim(0, xlocations[-1]+width*2)\n",
    "plt.title(\"Total Favorites by Conference\")\n",
    "plt.ylabel(\"Favorites\")\n",
    "plt.savefig(\"Total Favorites by Conference\")\n",
    "\n",
    "plt.show()"
   ]
  },
  {
   "cell_type": "markdown",
   "metadata": {
    "collapsed": true
   },
   "source": [
    "Now Let's look at the total tweets, retweets and favorites for each day within each conference\n",
    "First we'll start with total tweets"
   ]
  },
  {
   "cell_type": "code",
   "execution_count": null,
   "metadata": {
    "collapsed": false
   },
   "outputs": [],
   "source": [
    "n_groups = 3\n",
    "east_tweets = (len(east1), len(east2), len(east3))\n",
    "west_tweets = (len(west1), len(west2), len(west3))\n",
    "\n",
    "fig, ax = plt.subplots()\n",
    "index = np.arange(n_groups)\n",
    "bar_width = 0.35\n",
    "\n",
    "rects1 = plt.bar(index, east_tweets, bar_width, color='b', label='East')\n",
    "\n",
    "rects2 = plt.bar(index + bar_width, west_tweets, bar_width, color='g', label='West')\n",
    "\n",
    "plt.xlabel('Conference Day')\n",
    "plt.ylabel('Tweets')\n",
    "plt.xticks(index + bar_width, ('Day 1', 'Day 2', 'Day 3'))\n",
    "plt.title(\"Tweets by Day for Each Conference\")\n",
    "plt.legend()\n",
    "plt.savefig('tweets by day.png')\n",
    "plt.show()"
   ]
  },
  {
   "cell_type": "markdown",
   "metadata": {},
   "source": [
    "Next we'll look at retweets by day"
   ]
  },
  {
   "cell_type": "code",
   "execution_count": null,
   "metadata": {
    "collapsed": false
   },
   "outputs": [],
   "source": [
    "n_groups = 3\n",
    "east_tweets = (east1_retweets, east2_retweets, east3_retweets)\n",
    "west_tweets = (west1_retweets, west2_retweets, west3_retweets)\n",
    "\n",
    "fig, ax = plt.subplots()\n",
    "index = np.arange(n_groups)\n",
    "bar_width = 0.35\n",
    "\n",
    "rects1 = plt.bar(index, east_tweets, bar_width, color='b', label='East')\n",
    "\n",
    "rects2 = plt.bar(index + bar_width, west_tweets, bar_width, color='g', label='West')\n",
    "\n",
    "plt.xlabel('Conference Day')\n",
    "plt.ylabel('Retweets')\n",
    "plt.xticks(index + bar_width, ('Day 1', 'Day 2', 'Day 3'))\n",
    "plt.title(\"Retweets by Day for Each Conference\")\n",
    "plt.legend()\n",
    "plt.savefig('retweets by day.png')\n",
    "plt.show()"
   ]
  },
  {
   "cell_type": "markdown",
   "metadata": {},
   "source": [
    "Finally we'll look at favorties by day for each conference"
   ]
  },
  {
   "cell_type": "code",
   "execution_count": null,
   "metadata": {
    "collapsed": false
   },
   "outputs": [],
   "source": [
    "n_groups = 3\n",
    "east_tweets = (east1_favorites, east2_favorites, east3_favorites)\n",
    "west_tweets = (west1_favorites, west2_favorites, west3_favorites)\n",
    "\n",
    "fig, ax = plt.subplots()\n",
    "index = np.arange(n_groups)\n",
    "bar_width = 0.35\n",
    "\n",
    "rects1 = plt.bar(index, east_tweets, bar_width, color='b', label='East')\n",
    "\n",
    "rects2 = plt.bar(index + bar_width, west_tweets, bar_width, color='g', label='West')\n",
    "\n",
    "plt.xlabel('Conference Day')\n",
    "plt.ylabel('Favorites')\n",
    "plt.xticks(index + bar_width, ('Day 1', 'Day 2', 'Day 3'))\n",
    "plt.title(\"Favorites by Day for Each Conference\")\n",
    "plt.legend()\n",
    "plt.savefig('favorites by day.png')\n",
    "plt.show()"
   ]
  },
  {
   "cell_type": "markdown",
   "metadata": {
    "collapsed": true
   },
   "source": [
    "That's it!  \n",
    "Hopefully you found this interesting.  \n",
    "If you did, let me know at [@CodyWeisbach](http://twitter.com/codyweisbach) on Twitter.  \n",
    "If people are interested I'll do a similar analysis for each session of the conference. "
   ]
  }
 ],
 "metadata": {
  "anaconda-cloud": {},
  "kernelspec": {
   "display_name": "Python 2",
   "language": "python",
   "name": "python2"
  },
  "language_info": {
   "codemirror_mode": {
    "name": "ipython",
    "version": 2
   },
   "file_extension": ".py",
   "mimetype": "text/x-python",
   "name": "python",
   "nbconvert_exporter": "python",
   "pygments_lexer": "ipython2",
   "version": "2.7.12"
  }
 },
 "nbformat": 4,
 "nbformat_minor": 0
}
